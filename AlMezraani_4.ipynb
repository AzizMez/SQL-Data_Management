{
    "metadata": {
        "kernelspec": {
            "name": "SQL",
            "display_name": "SQL",
            "language": "sql"
        },
        "language_info": {
            "name": "sql",
            "version": ""
        }
    },
    "nbformat_minor": 2,
    "nbformat": 4,
    "cells": [
        {
            "cell_type": "markdown",
            "source": [
                "_**Aziz Al Mezraani**_\n",
                "\n",
                "_**SQL Assignment 4**_\n",
                "\n",
                "<span style=\"font-size: 12pt; font-family: &quot;Times New Roman&quot;, serif; color: rgb(0, 0, 0); background-color: transparent; font-variant-numeric: normal; font-variant-east-asian: normal; font-variant-alternates: normal; vertical-align: baseline; white-space-collapse: preserve;\">In this assignment, you will be writing some database queries based on the ADW data warehouse we have been using in class.&nbsp; You should use Azure Data Studio to explore the database.&nbsp; Remember, it’s not unusual for database administrators to change the database structure and forget to update the documentation!&nbsp; Check your results carefully.&nbsp;&nbsp;</span>    \n",
                "\n",
                "<span style=\"font-size: 12pt; font-family: &quot;Times New Roman&quot;, serif; color: rgb(0, 0, 0); background-color: transparent; font-weight: 700; font-variant-numeric: normal; font-variant-east-asian: normal; font-variant-alternates: normal; text-decoration-line: underline; text-decoration-skip-ink: none; vertical-align: baseline; white-space-collapse: preserve;\">Problem 1</span>\n",
                "\n",
                "<span style=\"font-size: 12pt; font-family: &quot;Times New Roman&quot;, serif; color: rgb(0, 0, 0); background-color: transparent; font-variant-numeric: normal; font-variant-east-asian: normal; font-variant-alternates: normal; vertical-align: baseline; white-space-collapse: preserve;\">You have been asked to understand how successful the Touring-3000 promotion was. Produce a report that retrieves the reseller name, country name, product category name, total sales amount, and currency name for this promotion.&nbsp; Be sure to show the highest value sales first.</span>"
            ],
            "metadata": {
                "azdata_cell_guid": "89a9d24e-cc10-4ec6-b3dd-270165e15ed3"
            },
            "attachments": {}
        },
        {
            "cell_type": "code",
            "source": [
                "USE ADW\r\n",
                "SELECT l.ResellerName, t.SalesTerritoryCountry, pc.EnglishProductCategoryName,  SUM (r.SalesAmount), c.CurrencyName\r\n",
                "FROM FactResellerSales r\r\n",
                "INNER JOIN DimPromotion o\r\n",
                "ON r.PromotionKey = o.PromotionKey\r\n",
                "INNER JOIN DimReseller l\r\n",
                "ON r.ResellerKey = l.ResellerKey\r\n",
                "INNER JOIN DimCurrency c\r\n",
                "ON c.CurrencyKey = r.CurrencyKey\r\n",
                "INNER JOIN DimProduct p\r\n",
                "ON r.ProductKey = p.ProductKey\r\n",
                "INNER JOIN DimProductSubcategory ps\r\n",
                "ON p.ProductSubcategoryKey = ps.ProductSubcategoryKey\r\n",
                "INNER JOIN DimProductCategory pc\r\n",
                "ON pc.ProductCategoryKey = ps.ProductCategoryKey\r\n",
                "INNER JOIN DimSalesTerritory t \r\n",
                "ON r.SalesTerritoryKey = t.SalesTerritoryKey\r\n",
                "WHERE o.EnglishPromotionName LIKE 'Touring-3000 Promotion'\r\n",
                "GROUP BY  l.ResellerName, t.SalesTerritoryCountry, pc.EnglishProductCategoryName, c.CurrencyName\r\n",
                "ORDER BY SUM (r.SalesAmount) DESC"
            ],
            "metadata": {
                "azdata_cell_guid": "f75db1dd-e7e7-44af-8b9f-63c5bb08e551",
                "language": "sql"
            },
            "outputs": [
                {
                    "output_type": "display_data",
                    "data": {
                        "text/html": "(101 rows affected)"
                    },
                    "metadata": {}
                },
                {
                    "output_type": "display_data",
                    "data": {
                        "text/html": "Total execution time: 00:00:00.118"
                    },
                    "metadata": {}
                },
                {
                    "output_type": "execute_result",
                    "execution_count": 78,
                    "data": {
                        "application/vnd.dataresource+json": {
                            "schema": {
                                "fields": [
                                    {
                                        "name": "ResellerName"
                                    },
                                    {
                                        "name": "SalesTerritoryCountry"
                                    },
                                    {
                                        "name": "EnglishProductCategoryName"
                                    },
                                    {
                                        "name": "(No column name)"
                                    },
                                    {
                                        "name": "CurrencyName"
                                    }
                                ]
                            },
                            "data": [
                                {
                                    "ResellerName": "Action Bicycle Specialists",
                                    "SalesTerritoryCountry": "United Kingdom",
                                    "EnglishProductCategoryName": "Bikes",
                                    "(No column name)": "19024.5748",
                                    "CurrencyName": "United Kingdom Pound"
                                },
                                {
                                    "ResellerName": "Westside Plaza",
                                    "SalesTerritoryCountry": "United States",
                                    "EnglishProductCategoryName": "Bikes",
                                    "(No column name)": "19024.5746",
                                    "CurrencyName": "US Dollar"
                                },
                                {
                                    "ResellerName": "Camping and Sports Store",
                                    "SalesTerritoryCountry": "Canada",
                                    "EnglishProductCategoryName": "Bikes",
                                    "(No column name)": "17320.8815",
                                    "CurrencyName": "Canadian Dollar"
                                },
                                {
                                    "ResellerName": "Global Bike Retailers",
                                    "SalesTerritoryCountry": "Germany",
                                    "EnglishProductCategoryName": "Bikes",
                                    "(No column name)": "16752.9838",
                                    "CurrencyName": "EURO"
                                },
                                {
                                    "ResellerName": "Perfect Toys",
                                    "SalesTerritoryCountry": "France",
                                    "EnglishProductCategoryName": "Bikes",
                                    "(No column name)": "15333.2394",
                                    "CurrencyName": "US Dollar"
                                },
                                {
                                    "ResellerName": "Roadway Bicycle Supply",
                                    "SalesTerritoryCountry": "France",
                                    "EnglishProductCategoryName": "Bikes",
                                    "(No column name)": "14481.3929",
                                    "CurrencyName": "US Dollar"
                                },
                                {
                                    "ResellerName": "Rally Master Company Inc",
                                    "SalesTerritoryCountry": "United States",
                                    "EnglishProductCategoryName": "Bikes",
                                    "(No column name)": "13913.495",
                                    "CurrencyName": "US Dollar"
                                },
                                {
                                    "ResellerName": "Best Cycle Store",
                                    "SalesTerritoryCountry": "Germany",
                                    "EnglishProductCategoryName": "Bikes",
                                    "(No column name)": "12493.7506",
                                    "CurrencyName": "EURO"
                                },
                                {
                                    "ResellerName": "Front Runner Bikes",
                                    "SalesTerritoryCountry": "United States",
                                    "EnglishProductCategoryName": "Bikes",
                                    "(No column name)": "11641.9039",
                                    "CurrencyName": "US Dollar"
                                },
                                {
                                    "ResellerName": "Favorite Toy Distributor",
                                    "SalesTerritoryCountry": "France",
                                    "EnglishProductCategoryName": "Bikes",
                                    "(No column name)": "10506.1085",
                                    "CurrencyName": "EURO"
                                },
                                {
                                    "ResellerName": "Glossy Bikes",
                                    "SalesTerritoryCountry": "United States",
                                    "EnglishProductCategoryName": "Bikes",
                                    "(No column name)": "9086.3642",
                                    "CurrencyName": "US Dollar"
                                },
                                {
                                    "ResellerName": "Outstanding Cycles",
                                    "SalesTerritoryCountry": "United States",
                                    "EnglishProductCategoryName": "Bikes",
                                    "(No column name)": "9086.3641",
                                    "CurrencyName": "US Dollar"
                                },
                                {
                                    "ResellerName": "Another Bicycle Company",
                                    "SalesTerritoryCountry": "United States",
                                    "EnglishProductCategoryName": "Bikes",
                                    "(No column name)": "8518.4665",
                                    "CurrencyName": "US Dollar"
                                },
                                {
                                    "ResellerName": "Vintage Sport Boutique",
                                    "SalesTerritoryCountry": "United States",
                                    "EnglishProductCategoryName": "Bikes",
                                    "(No column name)": "8518.4665",
                                    "CurrencyName": "US Dollar"
                                },
                                {
                                    "ResellerName": "Technical Parts Manufacturing",
                                    "SalesTerritoryCountry": "United States",
                                    "EnglishProductCategoryName": "Bikes",
                                    "(No column name)": "8518.4665",
                                    "CurrencyName": "US Dollar"
                                },
                                {
                                    "ResellerName": "Instruments and Parts Company",
                                    "SalesTerritoryCountry": "United Kingdom",
                                    "EnglishProductCategoryName": "Bikes",
                                    "(No column name)": "7950.5687",
                                    "CurrencyName": "United Kingdom Pound"
                                },
                                {
                                    "ResellerName": "Metro Metals Co.",
                                    "SalesTerritoryCountry": "United Kingdom",
                                    "EnglishProductCategoryName": "Bikes",
                                    "(No column name)": "7666.6198",
                                    "CurrencyName": "United Kingdom Pound"
                                },
                                {
                                    "ResellerName": "Extreme Riding Supplies",
                                    "SalesTerritoryCountry": "United States",
                                    "EnglishProductCategoryName": "Bikes",
                                    "(No column name)": "7666.6196",
                                    "CurrencyName": "US Dollar"
                                },
                                {
                                    "ResellerName": "Next Door Cycles",
                                    "SalesTerritoryCountry": "Germany",
                                    "EnglishProductCategoryName": "Bikes",
                                    "(No column name)": "7382.671",
                                    "CurrencyName": "EURO"
                                },
                                {
                                    "ResellerName": "Nationwide Supply",
                                    "SalesTerritoryCountry": "Australia",
                                    "EnglishProductCategoryName": "Bikes",
                                    "(No column name)": "7382.6709",
                                    "CurrencyName": "Australian Dollar"
                                },
                                {
                                    "ResellerName": "Petroleum Products Distributors",
                                    "SalesTerritoryCountry": "Canada",
                                    "EnglishProductCategoryName": "Bikes",
                                    "(No column name)": "7098.722",
                                    "CurrencyName": "Canadian Dollar"
                                },
                                {
                                    "ResellerName": "Roadway Bike Emporium",
                                    "SalesTerritoryCountry": "United States",
                                    "EnglishProductCategoryName": "Bikes",
                                    "(No column name)": "7098.7219",
                                    "CurrencyName": "US Dollar"
                                },
                                {
                                    "ResellerName": "Utilitarian Sporting Goods",
                                    "SalesTerritoryCountry": "United States",
                                    "EnglishProductCategoryName": "Bikes",
                                    "(No column name)": "6814.7731",
                                    "CurrencyName": "US Dollar"
                                },
                                {
                                    "ResellerName": "Grand Industries",
                                    "SalesTerritoryCountry": "Canada",
                                    "EnglishProductCategoryName": "Bikes",
                                    "(No column name)": "6530.8242",
                                    "CurrencyName": "Canadian Dollar"
                                },
                                {
                                    "ResellerName": "Farthest Bike Store",
                                    "SalesTerritoryCountry": "Canada",
                                    "EnglishProductCategoryName": "Bikes",
                                    "(No column name)": "6246.8753",
                                    "CurrencyName": "Canadian Dollar"
                                },
                                {
                                    "ResellerName": "Excellent Bikes",
                                    "SalesTerritoryCountry": "Germany",
                                    "EnglishProductCategoryName": "Bikes",
                                    "(No column name)": "6246.8753",
                                    "CurrencyName": "EURO"
                                },
                                {
                                    "ResellerName": "Running and Cycling Gear",
                                    "SalesTerritoryCountry": "United States",
                                    "EnglishProductCategoryName": "Bikes",
                                    "(No column name)": "5678.9778",
                                    "CurrencyName": "US Dollar"
                                },
                                {
                                    "ResellerName": "Amalgamated Parts Shop",
                                    "SalesTerritoryCountry": "Germany",
                                    "EnglishProductCategoryName": "Bikes",
                                    "(No column name)": "5395.0287",
                                    "CurrencyName": "EURO"
                                },
                                {
                                    "ResellerName": "Gears and Parts Company",
                                    "SalesTerritoryCountry": "Australia",
                                    "EnglishProductCategoryName": "Bikes",
                                    "(No column name)": "5111.0799",
                                    "CurrencyName": "Australian Dollar"
                                },
                                {
                                    "ResellerName": "Rugged Bikes",
                                    "SalesTerritoryCountry": "United States",
                                    "EnglishProductCategoryName": "Bikes",
                                    "(No column name)": "5111.0798",
                                    "CurrencyName": "US Dollar"
                                },
                                {
                                    "ResellerName": "Eighth Bike Store",
                                    "SalesTerritoryCountry": "United States",
                                    "EnglishProductCategoryName": "Bikes",
                                    "(No column name)": "4827.1311",
                                    "CurrencyName": "US Dollar"
                                },
                                {
                                    "ResellerName": "Helmets and Cycles",
                                    "SalesTerritoryCountry": "Australia",
                                    "EnglishProductCategoryName": "Bikes",
                                    "(No column name)": "4827.131",
                                    "CurrencyName": "Australian Dollar"
                                },
                                {
                                    "ResellerName": "Odometers and Accessories Company",
                                    "SalesTerritoryCountry": "Canada",
                                    "EnglishProductCategoryName": "Bikes",
                                    "(No column name)": "4827.131",
                                    "CurrencyName": "Canadian Dollar"
                                },
                                {
                                    "ResellerName": "Educational Services",
                                    "SalesTerritoryCountry": "Germany",
                                    "EnglishProductCategoryName": "Bikes",
                                    "(No column name)": "4543.1822",
                                    "CurrencyName": "EURO"
                                },
                                {
                                    "ResellerName": "Sleek Bikes",
                                    "SalesTerritoryCountry": "United States",
                                    "EnglishProductCategoryName": "Bikes",
                                    "(No column name)": "4543.1821",
                                    "CurrencyName": "US Dollar"
                                },
                                {
                                    "ResellerName": "Immense Manufacturing Company",
                                    "SalesTerritoryCountry": "United States",
                                    "EnglishProductCategoryName": "Bikes",
                                    "(No column name)": "4543.182",
                                    "CurrencyName": "US Dollar"
                                },
                                {
                                    "ResellerName": "Kickstands and Accessories Company",
                                    "SalesTerritoryCountry": "United States",
                                    "EnglishProductCategoryName": "Bikes",
                                    "(No column name)": "4259.2333",
                                    "CurrencyName": "US Dollar"
                                },
                                {
                                    "ResellerName": "Fourth Bike Store",
                                    "SalesTerritoryCountry": "United States",
                                    "EnglishProductCategoryName": "Bikes",
                                    "(No column name)": "4259.2333",
                                    "CurrencyName": "US Dollar"
                                },
                                {
                                    "ResellerName": "Mountain Bike Store",
                                    "SalesTerritoryCountry": "United States",
                                    "EnglishProductCategoryName": "Bikes",
                                    "(No column name)": "4259.2333",
                                    "CurrencyName": "US Dollar"
                                },
                                {
                                    "ResellerName": "Cycle Parts and Accessories",
                                    "SalesTerritoryCountry": "Australia",
                                    "EnglishProductCategoryName": "Bikes",
                                    "(No column name)": "3975.2845",
                                    "CurrencyName": "Australian Dollar"
                                },
                                {
                                    "ResellerName": "Blue-Ribbon Bike Company",
                                    "SalesTerritoryCountry": "United States",
                                    "EnglishProductCategoryName": "Bikes",
                                    "(No column name)": "3975.2844",
                                    "CurrencyName": "US Dollar"
                                },
                                {
                                    "ResellerName": "Quick Parts and Service",
                                    "SalesTerritoryCountry": "Canada",
                                    "EnglishProductCategoryName": "Bikes",
                                    "(No column name)": "3975.2844",
                                    "CurrencyName": "Canadian Dollar"
                                },
                                {
                                    "ResellerName": "The Bike Outlet",
                                    "SalesTerritoryCountry": "France",
                                    "EnglishProductCategoryName": "Bikes",
                                    "(No column name)": "3975.2844",
                                    "CurrencyName": "US Dollar"
                                },
                                {
                                    "ResellerName": "Industrial Supplies",
                                    "SalesTerritoryCountry": "United States",
                                    "EnglishProductCategoryName": "Bikes",
                                    "(No column name)": "3975.2843",
                                    "CurrencyName": "US Dollar"
                                },
                                {
                                    "ResellerName": "Authorized Bike Sales and Rental",
                                    "SalesTerritoryCountry": "United States",
                                    "EnglishProductCategoryName": "Bikes",
                                    "(No column name)": "3975.2842",
                                    "CurrencyName": "US Dollar"
                                },
                                {
                                    "ResellerName": "Bike Part Wholesalers",
                                    "SalesTerritoryCountry": "Australia",
                                    "EnglishProductCategoryName": "Bikes",
                                    "(No column name)": "3691.3355",
                                    "CurrencyName": "Australian Dollar"
                                },
                                {
                                    "ResellerName": "Fitness Supplies",
                                    "SalesTerritoryCountry": "United States",
                                    "EnglishProductCategoryName": "Bikes",
                                    "(No column name)": "3691.3355",
                                    "CurrencyName": "US Dollar"
                                },
                                {
                                    "ResellerName": "Exchange Parts Inc.",
                                    "SalesTerritoryCountry": "United States",
                                    "EnglishProductCategoryName": "Bikes",
                                    "(No column name)": "3691.3355",
                                    "CurrencyName": "US Dollar"
                                },
                                {
                                    "ResellerName": "Popular Bike Lines",
                                    "SalesTerritoryCountry": "Australia",
                                    "EnglishProductCategoryName": "Bikes",
                                    "(No column name)": "3691.3355",
                                    "CurrencyName": "Australian Dollar"
                                },
                                {
                                    "ResellerName": "Helpful Sales and Repair Service",
                                    "SalesTerritoryCountry": "Australia",
                                    "EnglishProductCategoryName": "Bikes",
                                    "(No column name)": "3691.3355",
                                    "CurrencyName": "Australian Dollar"
                                },
                                {
                                    "ResellerName": "Stock Parts and Supplies",
                                    "SalesTerritoryCountry": "United States",
                                    "EnglishProductCategoryName": "Bikes",
                                    "(No column name)": "3407.3866",
                                    "CurrencyName": "US Dollar"
                                },
                                {
                                    "ResellerName": "Variety Cycling",
                                    "SalesTerritoryCountry": "United Kingdom",
                                    "EnglishProductCategoryName": "Bikes",
                                    "(No column name)": "3123.4377",
                                    "CurrencyName": "United Kingdom Pound"
                                },
                                {
                                    "ResellerName": "Cycles Wholesaler & Mfg.",
                                    "SalesTerritoryCountry": "United Kingdom",
                                    "EnglishProductCategoryName": "Bikes",
                                    "(No column name)": "3123.4377",
                                    "CurrencyName": "United Kingdom Pound"
                                },
                                {
                                    "ResellerName": "Fast Bike Works",
                                    "SalesTerritoryCountry": "Australia",
                                    "EnglishProductCategoryName": "Bikes",
                                    "(No column name)": "3123.4376",
                                    "CurrencyName": "Australian Dollar"
                                },
                                {
                                    "ResellerName": "Fasteners & Bolts Outlet",
                                    "SalesTerritoryCountry": "Canada",
                                    "EnglishProductCategoryName": "Bikes",
                                    "(No column name)": "2839.4889",
                                    "CurrencyName": "Canadian Dollar"
                                },
                                {
                                    "ResellerName": "Locks Company",
                                    "SalesTerritoryCountry": "United States",
                                    "EnglishProductCategoryName": "Bikes",
                                    "(No column name)": "2839.4889",
                                    "CurrencyName": "US Dollar"
                                },
                                {
                                    "ResellerName": "Metal Clearing House",
                                    "SalesTerritoryCountry": "Canada",
                                    "EnglishProductCategoryName": "Bikes",
                                    "(No column name)": "2839.4889",
                                    "CurrencyName": "Canadian Dollar"
                                },
                                {
                                    "ResellerName": "Pedaling Components",
                                    "SalesTerritoryCountry": "Germany",
                                    "EnglishProductCategoryName": "Bikes",
                                    "(No column name)": "2555.5399",
                                    "CurrencyName": "EURO"
                                },
                                {
                                    "ResellerName": "Professional Sales and Service",
                                    "SalesTerritoryCountry": "United States",
                                    "EnglishProductCategoryName": "Bikes",
                                    "(No column name)": "2271.5912",
                                    "CurrencyName": "US Dollar"
                                },
                                {
                                    "ResellerName": "Fun Toys and Bikes",
                                    "SalesTerritoryCountry": "United States",
                                    "EnglishProductCategoryName": "Bikes",
                                    "(No column name)": "2271.5912",
                                    "CurrencyName": "US Dollar"
                                },
                                {
                                    "ResellerName": "Rich Department Store",
                                    "SalesTerritoryCountry": "Australia",
                                    "EnglishProductCategoryName": "Bikes",
                                    "(No column name)": "2271.591",
                                    "CurrencyName": "Australian Dollar"
                                },
                                {
                                    "ResellerName": "Small Bike Accessories Shop",
                                    "SalesTerritoryCountry": "United States",
                                    "EnglishProductCategoryName": "Bikes",
                                    "(No column name)": "1987.6423",
                                    "CurrencyName": "US Dollar"
                                },
                                {
                                    "ResellerName": "Sports Merchandise",
                                    "SalesTerritoryCountry": "United States",
                                    "EnglishProductCategoryName": "Bikes",
                                    "(No column name)": "1987.6422",
                                    "CurrencyName": "US Dollar"
                                },
                                {
                                    "ResellerName": "Honest Repair Service",
                                    "SalesTerritoryCountry": "United States",
                                    "EnglishProductCategoryName": "Bikes",
                                    "(No column name)": "1987.6422",
                                    "CurrencyName": "US Dollar"
                                },
                                {
                                    "ResellerName": "Liquidation Sales",
                                    "SalesTerritoryCountry": "Australia",
                                    "EnglishProductCategoryName": "Bikes",
                                    "(No column name)": "1703.6934",
                                    "CurrencyName": "Australian Dollar"
                                },
                                {
                                    "ResellerName": "Racing Supply Distributors",
                                    "SalesTerritoryCountry": "France",
                                    "EnglishProductCategoryName": "Bikes",
                                    "(No column name)": "1703.6934",
                                    "CurrencyName": "US Dollar"
                                },
                                {
                                    "ResellerName": "South Bike Company",
                                    "SalesTerritoryCountry": "Canada",
                                    "EnglishProductCategoryName": "Bikes",
                                    "(No column name)": "1703.6933",
                                    "CurrencyName": "Canadian Dollar"
                                },
                                {
                                    "ResellerName": "Quitting Business Distributors",
                                    "SalesTerritoryCountry": "United States",
                                    "EnglishProductCategoryName": "Bikes",
                                    "(No column name)": "1419.7445",
                                    "CurrencyName": "US Dollar"
                                },
                                {
                                    "ResellerName": "Thrilling Bike Tours",
                                    "SalesTerritoryCountry": "United States",
                                    "EnglishProductCategoryName": "Bikes",
                                    "(No column name)": "1419.7445",
                                    "CurrencyName": "US Dollar"
                                },
                                {
                                    "ResellerName": "Machines & Cycles Store",
                                    "SalesTerritoryCountry": "Canada",
                                    "EnglishProductCategoryName": "Bikes",
                                    "(No column name)": "1419.7445",
                                    "CurrencyName": "Canadian Dollar"
                                },
                                {
                                    "ResellerName": "Finer Sporting Goods",
                                    "SalesTerritoryCountry": "France",
                                    "EnglishProductCategoryName": "Bikes",
                                    "(No column name)": "1419.7445",
                                    "CurrencyName": "US Dollar"
                                },
                                {
                                    "ResellerName": "First Supplies",
                                    "SalesTerritoryCountry": "Australia",
                                    "EnglishProductCategoryName": "Bikes",
                                    "(No column name)": "1419.7445",
                                    "CurrencyName": "Australian Dollar"
                                },
                                {
                                    "ResellerName": "Engineered Bike Systems",
                                    "SalesTerritoryCountry": "United States",
                                    "EnglishProductCategoryName": "Bikes",
                                    "(No column name)": "1135.7956",
                                    "CurrencyName": "US Dollar"
                                },
                                {
                                    "ResellerName": "Cycles Sales and Repair",
                                    "SalesTerritoryCountry": "France",
                                    "EnglishProductCategoryName": "Bikes",
                                    "(No column name)": "1135.7956",
                                    "CurrencyName": "US Dollar"
                                },
                                {
                                    "ResellerName": "Bicycle Exporters",
                                    "SalesTerritoryCountry": "Germany",
                                    "EnglishProductCategoryName": "Bikes",
                                    "(No column name)": "1135.7956",
                                    "CurrencyName": "EURO"
                                },
                                {
                                    "ResellerName": "Novelty Bikes",
                                    "SalesTerritoryCountry": "United States",
                                    "EnglishProductCategoryName": "Bikes",
                                    "(No column name)": "1135.7956",
                                    "CurrencyName": "US Dollar"
                                },
                                {
                                    "ResellerName": "Systematic Sales",
                                    "SalesTerritoryCountry": "United States",
                                    "EnglishProductCategoryName": "Bikes",
                                    "(No column name)": "1135.7956",
                                    "CurrencyName": "US Dollar"
                                },
                                {
                                    "ResellerName": "Plastic Products Manufacturers",
                                    "SalesTerritoryCountry": "Australia",
                                    "EnglishProductCategoryName": "Bikes",
                                    "(No column name)": "1135.7956",
                                    "CurrencyName": "Australian Dollar"
                                },
                                {
                                    "ResellerName": "Finer Mart",
                                    "SalesTerritoryCountry": "United States",
                                    "EnglishProductCategoryName": "Bikes",
                                    "(No column name)": "1135.7955",
                                    "CurrencyName": "US Dollar"
                                },
                                {
                                    "ResellerName": "Exemplary Cycles",
                                    "SalesTerritoryCountry": "United States",
                                    "EnglishProductCategoryName": "Bikes",
                                    "(No column name)": "851.8467",
                                    "CurrencyName": "US Dollar"
                                },
                                {
                                    "ResellerName": "Paints and Solvents Company",
                                    "SalesTerritoryCountry": "United States",
                                    "EnglishProductCategoryName": "Bikes",
                                    "(No column name)": "851.8467",
                                    "CurrencyName": "US Dollar"
                                },
                                {
                                    "ResellerName": "West Wind Distributors",
                                    "SalesTerritoryCountry": "Germany",
                                    "EnglishProductCategoryName": "Bikes",
                                    "(No column name)": "851.8467",
                                    "CurrencyName": "EURO"
                                },
                                {
                                    "ResellerName": "Efficient Cycling",
                                    "SalesTerritoryCountry": "Canada",
                                    "EnglishProductCategoryName": "Bikes",
                                    "(No column name)": "851.8466",
                                    "CurrencyName": "Canadian Dollar"
                                },
                                {
                                    "ResellerName": "Purchase Mart",
                                    "SalesTerritoryCountry": "United States",
                                    "EnglishProductCategoryName": "Bikes",
                                    "(No column name)": "567.8978",
                                    "CurrencyName": "US Dollar"
                                },
                                {
                                    "ResellerName": "Quality Bike Sales",
                                    "SalesTerritoryCountry": "Australia",
                                    "EnglishProductCategoryName": "Bikes",
                                    "(No column name)": "567.8978",
                                    "CurrencyName": "Australian Dollar"
                                },
                                {
                                    "ResellerName": "List Price Catalog Company",
                                    "SalesTerritoryCountry": "Australia",
                                    "EnglishProductCategoryName": "Bikes",
                                    "(No column name)": "567.8978",
                                    "CurrencyName": "Australian Dollar"
                                },
                                {
                                    "ResellerName": "Rural Department Store",
                                    "SalesTerritoryCountry": "United States",
                                    "EnglishProductCategoryName": "Bikes",
                                    "(No column name)": "567.8978",
                                    "CurrencyName": "US Dollar"
                                },
                                {
                                    "ResellerName": "Rustic Bike Store",
                                    "SalesTerritoryCountry": "Germany",
                                    "EnglishProductCategoryName": "Bikes",
                                    "(No column name)": "283.9489",
                                    "CurrencyName": "EURO"
                                },
                                {
                                    "ResellerName": "Sensible Sports",
                                    "SalesTerritoryCountry": "Australia",
                                    "EnglishProductCategoryName": "Bikes",
                                    "(No column name)": "283.9489",
                                    "CurrencyName": "Australian Dollar"
                                },
                                {
                                    "ResellerName": "Rampart Amusement Company",
                                    "SalesTerritoryCountry": "United Kingdom",
                                    "EnglishProductCategoryName": "Bikes",
                                    "(No column name)": "283.9489",
                                    "CurrencyName": "United Kingdom Pound"
                                },
                                {
                                    "ResellerName": "Vale Riding Supplies",
                                    "SalesTerritoryCountry": "United States",
                                    "EnglishProductCategoryName": "Bikes",
                                    "(No column name)": "283.9489",
                                    "CurrencyName": "US Dollar"
                                },
                                {
                                    "ResellerName": "Transport Bikes",
                                    "SalesTerritoryCountry": "United States",
                                    "EnglishProductCategoryName": "Bikes",
                                    "(No column name)": "283.9489",
                                    "CurrencyName": "US Dollar"
                                },
                                {
                                    "ResellerName": "Incomparable Bicycle Store",
                                    "SalesTerritoryCountry": "United States",
                                    "EnglishProductCategoryName": "Bikes",
                                    "(No column name)": "283.9489",
                                    "CurrencyName": "US Dollar"
                                },
                                {
                                    "ResellerName": "Off-Price Bike Center",
                                    "SalesTerritoryCountry": "Germany",
                                    "EnglishProductCategoryName": "Bikes",
                                    "(No column name)": "283.9489",
                                    "CurrencyName": "EURO"
                                },
                                {
                                    "ResellerName": "Eastside Cycle Shop",
                                    "SalesTerritoryCountry": "Australia",
                                    "EnglishProductCategoryName": "Bikes",
                                    "(No column name)": "283.9489",
                                    "CurrencyName": "Australian Dollar"
                                },
                                {
                                    "ResellerName": "Eastward Bike Accessories",
                                    "SalesTerritoryCountry": "Australia",
                                    "EnglishProductCategoryName": "Bikes",
                                    "(No column name)": "283.9489",
                                    "CurrencyName": "Australian Dollar"
                                },
                                {
                                    "ResellerName": "Cycle Clearance",
                                    "SalesTerritoryCountry": "United States",
                                    "EnglishProductCategoryName": "Bikes",
                                    "(No column name)": "283.9489",
                                    "CurrencyName": "US Dollar"
                                },
                                {
                                    "ResellerName": "Accessories Network",
                                    "SalesTerritoryCountry": "France",
                                    "EnglishProductCategoryName": "Bikes",
                                    "(No column name)": "283.9489",
                                    "CurrencyName": "US Dollar"
                                },
                                {
                                    "ResellerName": "Family Entertainment Center",
                                    "SalesTerritoryCountry": "United States",
                                    "EnglishProductCategoryName": "Bikes",
                                    "(No column name)": "283.9489",
                                    "CurrencyName": "US Dollar"
                                },
                                {
                                    "ResellerName": "Fitness Bike Accessories",
                                    "SalesTerritoryCountry": "Australia",
                                    "EnglishProductCategoryName": "Bikes",
                                    "(No column name)": "283.9489",
                                    "CurrencyName": "Australian Dollar"
                                },
                                {
                                    "ResellerName": "Fitness Discount Store",
                                    "SalesTerritoryCountry": "Australia",
                                    "EnglishProductCategoryName": "Bikes",
                                    "(No column name)": "283.9489",
                                    "CurrencyName": "Australian Dollar"
                                }
                            ]
                        },
                        "text/html": "<table><tr><th>ResellerName</th><th>SalesTerritoryCountry</th><th>EnglishProductCategoryName</th><th>(No column name)</th><th>CurrencyName</th></tr><tr><td>Action Bicycle Specialists</td><td>United Kingdom</td><td>Bikes</td><td>19024.5748</td><td>United Kingdom Pound</td></tr><tr><td>Westside Plaza</td><td>United States</td><td>Bikes</td><td>19024.5746</td><td>US Dollar</td></tr><tr><td>Camping and Sports Store</td><td>Canada</td><td>Bikes</td><td>17320.8815</td><td>Canadian Dollar</td></tr><tr><td>Global Bike Retailers</td><td>Germany</td><td>Bikes</td><td>16752.9838</td><td>EURO</td></tr><tr><td>Perfect Toys</td><td>France</td><td>Bikes</td><td>15333.2394</td><td>US Dollar</td></tr><tr><td>Roadway Bicycle Supply</td><td>France</td><td>Bikes</td><td>14481.3929</td><td>US Dollar</td></tr><tr><td>Rally Master Company Inc</td><td>United States</td><td>Bikes</td><td>13913.495</td><td>US Dollar</td></tr><tr><td>Best Cycle Store</td><td>Germany</td><td>Bikes</td><td>12493.7506</td><td>EURO</td></tr><tr><td>Front Runner Bikes</td><td>United States</td><td>Bikes</td><td>11641.9039</td><td>US Dollar</td></tr><tr><td>Favorite Toy Distributor</td><td>France</td><td>Bikes</td><td>10506.1085</td><td>EURO</td></tr><tr><td>Glossy Bikes</td><td>United States</td><td>Bikes</td><td>9086.3642</td><td>US Dollar</td></tr><tr><td>Outstanding Cycles</td><td>United States</td><td>Bikes</td><td>9086.3641</td><td>US Dollar</td></tr><tr><td>Another Bicycle Company</td><td>United States</td><td>Bikes</td><td>8518.4665</td><td>US Dollar</td></tr><tr><td>Vintage Sport Boutique</td><td>United States</td><td>Bikes</td><td>8518.4665</td><td>US Dollar</td></tr><tr><td>Technical Parts Manufacturing</td><td>United States</td><td>Bikes</td><td>8518.4665</td><td>US Dollar</td></tr><tr><td>Instruments and Parts Company</td><td>United Kingdom</td><td>Bikes</td><td>7950.5687</td><td>United Kingdom Pound</td></tr><tr><td>Metro Metals Co.</td><td>United Kingdom</td><td>Bikes</td><td>7666.6198</td><td>United Kingdom Pound</td></tr><tr><td>Extreme Riding Supplies</td><td>United States</td><td>Bikes</td><td>7666.6196</td><td>US Dollar</td></tr><tr><td>Next Door Cycles</td><td>Germany</td><td>Bikes</td><td>7382.671</td><td>EURO</td></tr><tr><td>Nationwide Supply</td><td>Australia</td><td>Bikes</td><td>7382.6709</td><td>Australian Dollar</td></tr><tr><td>Petroleum Products Distributors</td><td>Canada</td><td>Bikes</td><td>7098.722</td><td>Canadian Dollar</td></tr><tr><td>Roadway Bike Emporium</td><td>United States</td><td>Bikes</td><td>7098.7219</td><td>US Dollar</td></tr><tr><td>Utilitarian Sporting Goods</td><td>United States</td><td>Bikes</td><td>6814.7731</td><td>US Dollar</td></tr><tr><td>Grand Industries</td><td>Canada</td><td>Bikes</td><td>6530.8242</td><td>Canadian Dollar</td></tr><tr><td>Farthest Bike Store</td><td>Canada</td><td>Bikes</td><td>6246.8753</td><td>Canadian Dollar</td></tr><tr><td>Excellent Bikes</td><td>Germany</td><td>Bikes</td><td>6246.8753</td><td>EURO</td></tr><tr><td>Running and Cycling Gear</td><td>United States</td><td>Bikes</td><td>5678.9778</td><td>US Dollar</td></tr><tr><td>Amalgamated Parts Shop</td><td>Germany</td><td>Bikes</td><td>5395.0287</td><td>EURO</td></tr><tr><td>Gears and Parts Company</td><td>Australia</td><td>Bikes</td><td>5111.0799</td><td>Australian Dollar</td></tr><tr><td>Rugged Bikes</td><td>United States</td><td>Bikes</td><td>5111.0798</td><td>US Dollar</td></tr><tr><td>Eighth Bike Store</td><td>United States</td><td>Bikes</td><td>4827.1311</td><td>US Dollar</td></tr><tr><td>Helmets and Cycles</td><td>Australia</td><td>Bikes</td><td>4827.131</td><td>Australian Dollar</td></tr><tr><td>Odometers and Accessories Company</td><td>Canada</td><td>Bikes</td><td>4827.131</td><td>Canadian Dollar</td></tr><tr><td>Educational Services</td><td>Germany</td><td>Bikes</td><td>4543.1822</td><td>EURO</td></tr><tr><td>Sleek Bikes</td><td>United States</td><td>Bikes</td><td>4543.1821</td><td>US Dollar</td></tr><tr><td>Immense Manufacturing Company</td><td>United States</td><td>Bikes</td><td>4543.182</td><td>US Dollar</td></tr><tr><td>Kickstands and Accessories Company</td><td>United States</td><td>Bikes</td><td>4259.2333</td><td>US Dollar</td></tr><tr><td>Fourth Bike Store</td><td>United States</td><td>Bikes</td><td>4259.2333</td><td>US Dollar</td></tr><tr><td>Mountain Bike Store</td><td>United States</td><td>Bikes</td><td>4259.2333</td><td>US Dollar</td></tr><tr><td>Cycle Parts and Accessories</td><td>Australia</td><td>Bikes</td><td>3975.2845</td><td>Australian Dollar</td></tr><tr><td>Blue-Ribbon Bike Company</td><td>United States</td><td>Bikes</td><td>3975.2844</td><td>US Dollar</td></tr><tr><td>Quick Parts and Service</td><td>Canada</td><td>Bikes</td><td>3975.2844</td><td>Canadian Dollar</td></tr><tr><td>The Bike Outlet</td><td>France</td><td>Bikes</td><td>3975.2844</td><td>US Dollar</td></tr><tr><td>Industrial Supplies</td><td>United States</td><td>Bikes</td><td>3975.2843</td><td>US Dollar</td></tr><tr><td>Authorized Bike Sales and Rental</td><td>United States</td><td>Bikes</td><td>3975.2842</td><td>US Dollar</td></tr><tr><td>Bike Part Wholesalers</td><td>Australia</td><td>Bikes</td><td>3691.3355</td><td>Australian Dollar</td></tr><tr><td>Fitness Supplies</td><td>United States</td><td>Bikes</td><td>3691.3355</td><td>US Dollar</td></tr><tr><td>Exchange Parts Inc.</td><td>United States</td><td>Bikes</td><td>3691.3355</td><td>US Dollar</td></tr><tr><td>Popular Bike Lines</td><td>Australia</td><td>Bikes</td><td>3691.3355</td><td>Australian Dollar</td></tr><tr><td>Helpful Sales and Repair Service</td><td>Australia</td><td>Bikes</td><td>3691.3355</td><td>Australian Dollar</td></tr><tr><td>Stock Parts and Supplies</td><td>United States</td><td>Bikes</td><td>3407.3866</td><td>US Dollar</td></tr><tr><td>Variety Cycling</td><td>United Kingdom</td><td>Bikes</td><td>3123.4377</td><td>United Kingdom Pound</td></tr><tr><td>Cycles Wholesaler &amp; Mfg.</td><td>United Kingdom</td><td>Bikes</td><td>3123.4377</td><td>United Kingdom Pound</td></tr><tr><td>Fast Bike Works</td><td>Australia</td><td>Bikes</td><td>3123.4376</td><td>Australian Dollar</td></tr><tr><td>Fasteners &amp; Bolts Outlet</td><td>Canada</td><td>Bikes</td><td>2839.4889</td><td>Canadian Dollar</td></tr><tr><td>Locks Company</td><td>United States</td><td>Bikes</td><td>2839.4889</td><td>US Dollar</td></tr><tr><td>Metal Clearing House</td><td>Canada</td><td>Bikes</td><td>2839.4889</td><td>Canadian Dollar</td></tr><tr><td>Pedaling Components</td><td>Germany</td><td>Bikes</td><td>2555.5399</td><td>EURO</td></tr><tr><td>Professional Sales and Service</td><td>United States</td><td>Bikes</td><td>2271.5912</td><td>US Dollar</td></tr><tr><td>Fun Toys and Bikes</td><td>United States</td><td>Bikes</td><td>2271.5912</td><td>US Dollar</td></tr><tr><td>Rich Department Store</td><td>Australia</td><td>Bikes</td><td>2271.591</td><td>Australian Dollar</td></tr><tr><td>Small Bike Accessories Shop</td><td>United States</td><td>Bikes</td><td>1987.6423</td><td>US Dollar</td></tr><tr><td>Sports Merchandise</td><td>United States</td><td>Bikes</td><td>1987.6422</td><td>US Dollar</td></tr><tr><td>Honest Repair Service</td><td>United States</td><td>Bikes</td><td>1987.6422</td><td>US Dollar</td></tr><tr><td>Liquidation Sales</td><td>Australia</td><td>Bikes</td><td>1703.6934</td><td>Australian Dollar</td></tr><tr><td>Racing Supply Distributors</td><td>France</td><td>Bikes</td><td>1703.6934</td><td>US Dollar</td></tr><tr><td>South Bike Company</td><td>Canada</td><td>Bikes</td><td>1703.6933</td><td>Canadian Dollar</td></tr><tr><td>Quitting Business Distributors</td><td>United States</td><td>Bikes</td><td>1419.7445</td><td>US Dollar</td></tr><tr><td>Thrilling Bike Tours</td><td>United States</td><td>Bikes</td><td>1419.7445</td><td>US Dollar</td></tr><tr><td>Machines &amp; Cycles Store</td><td>Canada</td><td>Bikes</td><td>1419.7445</td><td>Canadian Dollar</td></tr><tr><td>Finer Sporting Goods</td><td>France</td><td>Bikes</td><td>1419.7445</td><td>US Dollar</td></tr><tr><td>First Supplies</td><td>Australia</td><td>Bikes</td><td>1419.7445</td><td>Australian Dollar</td></tr><tr><td>Engineered Bike Systems</td><td>United States</td><td>Bikes</td><td>1135.7956</td><td>US Dollar</td></tr><tr><td>Cycles Sales and Repair</td><td>France</td><td>Bikes</td><td>1135.7956</td><td>US Dollar</td></tr><tr><td>Bicycle Exporters</td><td>Germany</td><td>Bikes</td><td>1135.7956</td><td>EURO</td></tr><tr><td>Novelty Bikes</td><td>United States</td><td>Bikes</td><td>1135.7956</td><td>US Dollar</td></tr><tr><td>Systematic Sales</td><td>United States</td><td>Bikes</td><td>1135.7956</td><td>US Dollar</td></tr><tr><td>Plastic Products Manufacturers</td><td>Australia</td><td>Bikes</td><td>1135.7956</td><td>Australian Dollar</td></tr><tr><td>Finer Mart</td><td>United States</td><td>Bikes</td><td>1135.7955</td><td>US Dollar</td></tr><tr><td>Exemplary Cycles</td><td>United States</td><td>Bikes</td><td>851.8467</td><td>US Dollar</td></tr><tr><td>Paints and Solvents Company</td><td>United States</td><td>Bikes</td><td>851.8467</td><td>US Dollar</td></tr><tr><td>West Wind Distributors</td><td>Germany</td><td>Bikes</td><td>851.8467</td><td>EURO</td></tr><tr><td>Efficient Cycling</td><td>Canada</td><td>Bikes</td><td>851.8466</td><td>Canadian Dollar</td></tr><tr><td>Purchase Mart</td><td>United States</td><td>Bikes</td><td>567.8978</td><td>US Dollar</td></tr><tr><td>Quality Bike Sales</td><td>Australia</td><td>Bikes</td><td>567.8978</td><td>Australian Dollar</td></tr><tr><td>List Price Catalog Company</td><td>Australia</td><td>Bikes</td><td>567.8978</td><td>Australian Dollar</td></tr><tr><td>Rural Department Store</td><td>United States</td><td>Bikes</td><td>567.8978</td><td>US Dollar</td></tr><tr><td>Rustic Bike Store</td><td>Germany</td><td>Bikes</td><td>283.9489</td><td>EURO</td></tr><tr><td>Sensible Sports</td><td>Australia</td><td>Bikes</td><td>283.9489</td><td>Australian Dollar</td></tr><tr><td>Rampart Amusement Company</td><td>United Kingdom</td><td>Bikes</td><td>283.9489</td><td>United Kingdom Pound</td></tr><tr><td>Vale Riding Supplies</td><td>United States</td><td>Bikes</td><td>283.9489</td><td>US Dollar</td></tr><tr><td>Transport Bikes</td><td>United States</td><td>Bikes</td><td>283.9489</td><td>US Dollar</td></tr><tr><td>Incomparable Bicycle Store</td><td>United States</td><td>Bikes</td><td>283.9489</td><td>US Dollar</td></tr><tr><td>Off-Price Bike Center</td><td>Germany</td><td>Bikes</td><td>283.9489</td><td>EURO</td></tr><tr><td>Eastside Cycle Shop</td><td>Australia</td><td>Bikes</td><td>283.9489</td><td>Australian Dollar</td></tr><tr><td>Eastward Bike Accessories</td><td>Australia</td><td>Bikes</td><td>283.9489</td><td>Australian Dollar</td></tr><tr><td>Cycle Clearance</td><td>United States</td><td>Bikes</td><td>283.9489</td><td>US Dollar</td></tr><tr><td>Accessories Network</td><td>France</td><td>Bikes</td><td>283.9489</td><td>US Dollar</td></tr><tr><td>Family Entertainment Center</td><td>United States</td><td>Bikes</td><td>283.9489</td><td>US Dollar</td></tr><tr><td>Fitness Bike Accessories</td><td>Australia</td><td>Bikes</td><td>283.9489</td><td>Australian Dollar</td></tr><tr><td>Fitness Discount Store</td><td>Australia</td><td>Bikes</td><td>283.9489</td><td>Australian Dollar</td></tr></table>"
                    },
                    "metadata": {}
                }
            ],
            "execution_count": 78
        },
        {
            "cell_type": "markdown",
            "source": [
                "<span style=\"font-size: 12pt; font-family: &quot;Times New Roman&quot;, serif; color: rgb(0, 0, 0); background-color: transparent; font-weight: 700; font-variant-numeric: normal; font-variant-east-asian: normal; font-variant-alternates: normal; text-decoration-line: underline; text-decoration-skip-ink: none; vertical-align: baseline; white-space-collapse: preserve;\">Problem 2</span>\n",
                "\n",
                "<span style=\"font-size: 12pt; font-family: &quot;Times New Roman&quot;, serif; color: rgb(0, 0, 0); background-color: transparent; font-variant-numeric: normal; font-variant-east-asian: normal; font-variant-alternates: normal; vertical-align: baseline; white-space-collapse: preserve;\">You have been asked to examine the performance of sales using the Euro currency.&nbsp; Produce a report showing state or province name, city name, and total reseller sales, subtotaled by city,</span>\n",
                "\n",
                "<span style=\"font-size: 12pt; font-family: &quot;Times New Roman&quot;, serif; color: rgb(0, 0, 0); background-color: transparent; font-variant-numeric: normal; font-variant-east-asian: normal; font-variant-alternates: normal; vertical-align: baseline; white-space-collapse: preserve;\">for all EURO sales.&nbsp; You should have three columns, called State/Province, City, and Total Reseller Sales, in alphabetical order by State/Province.&nbsp; The total for each state or province should have the word \"Total\" instead of NULL in the city column.&nbsp; The overall total should have the word \"Grand\" in the State/Province column.</span>\n",
                "\n",
                "<span style=\"font-size: 12pt; font-family: &quot;Times New Roman&quot;, serif; color: rgb(0, 0, 0); background-color: transparent; font-variant-numeric: normal; font-variant-east-asian: normal; font-variant-alternates: normal; vertical-align: baseline; white-space-collapse: preserve;\"><br></span>"
            ],
            "metadata": {
                "azdata_cell_guid": "cb690284-b06d-45f3-82dd-363ec421e4a4"
            },
            "attachments": {}
        },
        {
            "cell_type": "code",
            "source": [
                "USE ADW\r\n",
                "SELECT CASE WHEN g.StateProvinceName IS NULL THEN 'Grand'\r\n",
                "            ELSE g.StateProvinceName \r\n",
                "            END AS 'State/Province'\r\n",
                "        ,CASE WHEN g.City IS NULL THEN 'Total'\r\n",
                "            ELSE g.City\r\n",
                "            END AS City\r\n",
                "            ,SUM (rs.SalesAmount) AS TotalResellerSales\r\n",
                "FROM FactResellerSales rs\r\n",
                "INNER JOIN DimReseller r\r\n",
                "ON rs.ResellerKey = r.ResellerKey\r\n",
                "INNER JOIN DimGeography g\r\n",
                "ON g.GeographyKey = r.GeographyKey\r\n",
                "INNER JOIN DimCurrency c \r\n",
                "ON c.CurrencyKey = rs.CurrencyKey\r\n",
                "WHERE c.CurrencyName = 'EURO'\r\n",
                "GROUP BY ROLLUP (g.StateProvinceName, g.City)\r\n",
                "ORDER BY g.StateProvinceName ASC"
            ],
            "metadata": {
                "azdata_cell_guid": "eba72122-66fc-4108-af9f-36af62be23ce",
                "language": "sql"
            },
            "outputs": [
                {
                    "output_type": "display_data",
                    "data": {
                        "text/html": "(46 rows affected)"
                    },
                    "metadata": {}
                },
                {
                    "output_type": "display_data",
                    "data": {
                        "text/html": "Total execution time: 00:00:00.108"
                    },
                    "metadata": {}
                },
                {
                    "output_type": "execute_result",
                    "execution_count": 5,
                    "data": {
                        "application/vnd.dataresource+json": {
                            "schema": {
                                "fields": [
                                    {
                                        "name": "State/Province"
                                    },
                                    {
                                        "name": "City"
                                    },
                                    {
                                        "name": "TotalResellerSales"
                                    }
                                ]
                            },
                            "data": [
                                {
                                    "State/Province": "Grand",
                                    "City": "Total",
                                    "TotalResellerSales": "2474535.7092"
                                },
                                {
                                    "State/Province": "Bayern",
                                    "City": "Augsburg",
                                    "TotalResellerSales": "3192.3709"
                                },
                                {
                                    "State/Province": "Bayern",
                                    "City": "Frankfurt",
                                    "TotalResellerSales": "12795.432"
                                },
                                {
                                    "State/Province": "Bayern",
                                    "City": "Grevenbroich",
                                    "TotalResellerSales": "186217.0681"
                                },
                                {
                                    "State/Province": "Bayern",
                                    "City": "Total",
                                    "TotalResellerSales": "202204.871"
                                },
                                {
                                    "State/Province": "Brandenburg",
                                    "City": "Berlin",
                                    "TotalResellerSales": "144.00"
                                },
                                {
                                    "State/Province": "Brandenburg",
                                    "City": "Eilenburg",
                                    "TotalResellerSales": "116553.24"
                                },
                                {
                                    "State/Province": "Brandenburg",
                                    "City": "Total",
                                    "TotalResellerSales": "116697.24"
                                },
                                {
                                    "State/Province": "Hamburg",
                                    "City": "Augsburg",
                                    "TotalResellerSales": "5404.2048"
                                },
                                {
                                    "State/Province": "Hamburg",
                                    "City": "Berlin",
                                    "TotalResellerSales": "4689.126"
                                },
                                {
                                    "State/Province": "Hamburg",
                                    "City": "Essen",
                                    "TotalResellerSales": "30648.094"
                                },
                                {
                                    "State/Province": "Hamburg",
                                    "City": "Frankfurt am Main",
                                    "TotalResellerSales": "197327.5854"
                                },
                                {
                                    "State/Province": "Hamburg",
                                    "City": "Hamburg",
                                    "TotalResellerSales": "7963.932"
                                },
                                {
                                    "State/Province": "Hamburg",
                                    "City": "Muehlheim",
                                    "TotalResellerSales": "22090.0415"
                                },
                                {
                                    "State/Province": "Hamburg",
                                    "City": "Paderborn",
                                    "TotalResellerSales": "3372.3384"
                                },
                                {
                                    "State/Province": "Hamburg",
                                    "City": "Total",
                                    "TotalResellerSales": "271495.3221"
                                },
                                {
                                    "State/Province": "Hauts de Seine",
                                    "City": "Colombes",
                                    "TotalResellerSales": "147554.8323"
                                },
                                {
                                    "State/Province": "Hauts de Seine",
                                    "City": "Suresnes",
                                    "TotalResellerSales": "26980.5748"
                                },
                                {
                                    "State/Province": "Hauts de Seine",
                                    "City": "Total",
                                    "TotalResellerSales": "174535.4071"
                                },
                                {
                                    "State/Province": "Hessen",
                                    "City": "Bad Soden",
                                    "TotalResellerSales": "337756.7319"
                                },
                                {
                                    "State/Province": "Hessen",
                                    "City": "Berlin",
                                    "TotalResellerSales": "3372.4549"
                                },
                                {
                                    "State/Province": "Hessen",
                                    "City": "Duesseldorf",
                                    "TotalResellerSales": "12240.162"
                                },
                                {
                                    "State/Province": "Hessen",
                                    "City": "München",
                                    "TotalResellerSales": "8582.946"
                                },
                                {
                                    "State/Province": "Hessen",
                                    "City": "Total",
                                    "TotalResellerSales": "361952.2948"
                                },
                                {
                                    "State/Province": "Nordrhein-Westfalen",
                                    "City": "Berlin",
                                    "TotalResellerSales": "26427.372"
                                },
                                {
                                    "State/Province": "Nordrhein-Westfalen",
                                    "City": "Braunschweig",
                                    "TotalResellerSales": "8140.752"
                                },
                                {
                                    "State/Province": "Nordrhein-Westfalen",
                                    "City": "Hannover",
                                    "TotalResellerSales": "29218.3575"
                                },
                                {
                                    "State/Province": "Nordrhein-Westfalen",
                                    "City": "Leipzig",
                                    "TotalResellerSales": "6369.00"
                                },
                                {
                                    "State/Province": "Nordrhein-Westfalen",
                                    "City": "München",
                                    "TotalResellerSales": "153764.3535"
                                },
                                {
                                    "State/Province": "Nordrhein-Westfalen",
                                    "City": "Total",
                                    "TotalResellerSales": "223919.835"
                                },
                                {
                                    "State/Province": "Saarland",
                                    "City": "Berlin",
                                    "TotalResellerSales": "220496.689"
                                },
                                {
                                    "State/Province": "Saarland",
                                    "City": "Frankfurt am Main",
                                    "TotalResellerSales": "5426.7938"
                                },
                                {
                                    "State/Province": "Saarland",
                                    "City": "Kiel",
                                    "TotalResellerSales": "56130.0691"
                                },
                                {
                                    "State/Province": "Saarland",
                                    "City": "Münster",
                                    "TotalResellerSales": "132143.7064"
                                },
                                {
                                    "State/Province": "Saarland",
                                    "City": "Offenbach",
                                    "TotalResellerSales": "272052.2258"
                                },
                                {
                                    "State/Province": "Saarland",
                                    "City": "Poing",
                                    "TotalResellerSales": "1344.588"
                                },
                                {
                                    "State/Province": "Saarland",
                                    "City": "Saarbrücken",
                                    "TotalResellerSales": "117328.4563"
                                },
                                {
                                    "State/Province": "Saarland",
                                    "City": "Stuttgart",
                                    "TotalResellerSales": "228.582"
                                },
                                {
                                    "State/Province": "Saarland",
                                    "City": "Sulzbach Taunus",
                                    "TotalResellerSales": "2567.364"
                                },
                                {
                                    "State/Province": "Saarland",
                                    "City": "Total",
                                    "TotalResellerSales": "807718.4744"
                                },
                                {
                                    "State/Province": "Seine (Paris)",
                                    "City": "Paris",
                                    "TotalResellerSales": "287495.0167"
                                },
                                {
                                    "State/Province": "Seine (Paris)",
                                    "City": "Total",
                                    "TotalResellerSales": "287495.0167"
                                },
                                {
                                    "State/Province": "Seine et Marne",
                                    "City": "Lieusaint",
                                    "TotalResellerSales": "31.584"
                                },
                                {
                                    "State/Province": "Seine et Marne",
                                    "City": "Total",
                                    "TotalResellerSales": "31.584"
                                },
                                {
                                    "State/Province": "Val de Marne",
                                    "City": "Orly",
                                    "TotalResellerSales": "28485.6641"
                                },
                                {
                                    "State/Province": "Val de Marne",
                                    "City": "Total",
                                    "TotalResellerSales": "28485.6641"
                                }
                            ]
                        },
                        "text/html": "<table><tr><th>State/Province</th><th>City</th><th>TotalResellerSales</th></tr><tr><td>Grand</td><td>Total</td><td>2474535.7092</td></tr><tr><td>Bayern</td><td>Augsburg</td><td>3192.3709</td></tr><tr><td>Bayern</td><td>Frankfurt</td><td>12795.432</td></tr><tr><td>Bayern</td><td>Grevenbroich</td><td>186217.0681</td></tr><tr><td>Bayern</td><td>Total</td><td>202204.871</td></tr><tr><td>Brandenburg</td><td>Berlin</td><td>144.00</td></tr><tr><td>Brandenburg</td><td>Eilenburg</td><td>116553.24</td></tr><tr><td>Brandenburg</td><td>Total</td><td>116697.24</td></tr><tr><td>Hamburg</td><td>Augsburg</td><td>5404.2048</td></tr><tr><td>Hamburg</td><td>Berlin</td><td>4689.126</td></tr><tr><td>Hamburg</td><td>Essen</td><td>30648.094</td></tr><tr><td>Hamburg</td><td>Frankfurt am Main</td><td>197327.5854</td></tr><tr><td>Hamburg</td><td>Hamburg</td><td>7963.932</td></tr><tr><td>Hamburg</td><td>Muehlheim</td><td>22090.0415</td></tr><tr><td>Hamburg</td><td>Paderborn</td><td>3372.3384</td></tr><tr><td>Hamburg</td><td>Total</td><td>271495.3221</td></tr><tr><td>Hauts de Seine</td><td>Colombes</td><td>147554.8323</td></tr><tr><td>Hauts de Seine</td><td>Suresnes</td><td>26980.5748</td></tr><tr><td>Hauts de Seine</td><td>Total</td><td>174535.4071</td></tr><tr><td>Hessen</td><td>Bad Soden</td><td>337756.7319</td></tr><tr><td>Hessen</td><td>Berlin</td><td>3372.4549</td></tr><tr><td>Hessen</td><td>Duesseldorf</td><td>12240.162</td></tr><tr><td>Hessen</td><td>München</td><td>8582.946</td></tr><tr><td>Hessen</td><td>Total</td><td>361952.2948</td></tr><tr><td>Nordrhein-Westfalen</td><td>Berlin</td><td>26427.372</td></tr><tr><td>Nordrhein-Westfalen</td><td>Braunschweig</td><td>8140.752</td></tr><tr><td>Nordrhein-Westfalen</td><td>Hannover</td><td>29218.3575</td></tr><tr><td>Nordrhein-Westfalen</td><td>Leipzig</td><td>6369.00</td></tr><tr><td>Nordrhein-Westfalen</td><td>München</td><td>153764.3535</td></tr><tr><td>Nordrhein-Westfalen</td><td>Total</td><td>223919.835</td></tr><tr><td>Saarland</td><td>Berlin</td><td>220496.689</td></tr><tr><td>Saarland</td><td>Frankfurt am Main</td><td>5426.7938</td></tr><tr><td>Saarland</td><td>Kiel</td><td>56130.0691</td></tr><tr><td>Saarland</td><td>Münster</td><td>132143.7064</td></tr><tr><td>Saarland</td><td>Offenbach</td><td>272052.2258</td></tr><tr><td>Saarland</td><td>Poing</td><td>1344.588</td></tr><tr><td>Saarland</td><td>Saarbrücken</td><td>117328.4563</td></tr><tr><td>Saarland</td><td>Stuttgart</td><td>228.582</td></tr><tr><td>Saarland</td><td>Sulzbach Taunus</td><td>2567.364</td></tr><tr><td>Saarland</td><td>Total</td><td>807718.4744</td></tr><tr><td>Seine (Paris)</td><td>Paris</td><td>287495.0167</td></tr><tr><td>Seine (Paris)</td><td>Total</td><td>287495.0167</td></tr><tr><td>Seine et Marne</td><td>Lieusaint</td><td>31.584</td></tr><tr><td>Seine et Marne</td><td>Total</td><td>31.584</td></tr><tr><td>Val de Marne</td><td>Orly</td><td>28485.6641</td></tr><tr><td>Val de Marne</td><td>Total</td><td>28485.6641</td></tr></table>"
                    },
                    "metadata": {}
                }
            ],
            "execution_count": 5
        },
        {
            "cell_type": "markdown",
            "source": [
                "<span style=\"font-size: 12pt; font-family: &quot;Times New Roman&quot;, serif; color: rgb(0, 0, 0); background-color: transparent; font-weight: 700; font-variant-numeric: normal; font-variant-east-asian: normal; font-variant-alternates: normal; text-decoration-line: underline; text-decoration-skip-ink: none; vertical-align: baseline; white-space-collapse: preserve;\">Problem 3</span>\n",
                "\n",
                "<span style=\"font-size: 12pt; font-family: &quot;Times New Roman&quot;, serif; color: rgb(0, 0, 0); background-color: transparent; font-variant-numeric: normal; font-variant-east-asian: normal; font-variant-alternates: normal; vertical-align: baseline; white-space-collapse: preserve;\">Produce a report that illustrates the total amount of reseller sales by currency.&nbsp; Ensure that you</span>\n",
                "\n",
                "<span style=\"font-size: 12pt; font-family: &quot;Times New Roman&quot;, serif; color: rgb(0, 0, 0); background-color: transparent; font-variant-numeric: normal; font-variant-east-asian: normal; font-variant-alternates: normal; vertical-align: baseline; white-space-collapse: preserve;\">show the greatest value first, and please round to two decimal places.</span>"
            ],
            "metadata": {
                "azdata_cell_guid": "570db5b2-bd82-4c60-adb8-5b9158c83fc0"
            },
            "attachments": {}
        },
        {
            "cell_type": "code",
            "source": [
                "USE ADW\r\n",
                "SELECT c.CurrencyName, ROUND(SUM (rs.SalesAmount), 2) AS TotalResellerSales\r\n",
                "FROM FactResellerSales rs\r\n",
                "INNER JOIN DimCurrency c \r\n",
                "ON c.CurrencyKey = rs.CurrencyKey\r\n",
                "GROUP BY c.CurrencyName\r\n",
                "ORDER BY SUM (rs.SalesAmount) DESC"
            ],
            "metadata": {
                "azdata_cell_guid": "8a642f1e-3797-4ca2-b7ec-e12c1dc96beb",
                "language": "sql"
            },
            "outputs": [
                {
                    "output_type": "display_data",
                    "data": {
                        "text/html": "(5 rows affected)"
                    },
                    "metadata": {}
                },
                {
                    "output_type": "display_data",
                    "data": {
                        "text/html": "Total execution time: 00:00:00.191"
                    },
                    "metadata": {}
                },
                {
                    "output_type": "execute_result",
                    "execution_count": 77,
                    "data": {
                        "application/vnd.dataresource+json": {
                            "schema": {
                                "fields": [
                                    {
                                        "name": "CurrencyName"
                                    },
                                    {
                                        "name": "TotalResellerSales"
                                    }
                                ]
                            },
                            "data": [
                                {
                                    "CurrencyName": "US Dollar",
                                    "TotalResellerSales": "57724791.47"
                                },
                                {
                                    "CurrencyName": "Canadian Dollar",
                                    "TotalResellerSales": "14377925.60"
                                },
                                {
                                    "CurrencyName": "United Kingdom Pound",
                                    "TotalResellerSales": "4279008.83"
                                },
                                {
                                    "CurrencyName": "EURO",
                                    "TotalResellerSales": "2474535.71"
                                },
                                {
                                    "CurrencyName": "Australian Dollar",
                                    "TotalResellerSales": "1594335.38"
                                }
                            ]
                        },
                        "text/html": "<table><tr><th>CurrencyName</th><th>TotalResellerSales</th></tr><tr><td>US Dollar</td><td>57724791.47</td></tr><tr><td>Canadian Dollar</td><td>14377925.60</td></tr><tr><td>United Kingdom Pound</td><td>4279008.83</td></tr><tr><td>EURO</td><td>2474535.71</td></tr><tr><td>Australian Dollar</td><td>1594335.38</td></tr></table>"
                    },
                    "metadata": {}
                }
            ],
            "execution_count": 77
        },
        {
            "cell_type": "markdown",
            "source": [
                "<span style=\"font-size: 12pt; font-family: &quot;Times New Roman&quot;, serif; color: rgb(0, 0, 0); background-color: transparent; font-weight: 700; font-variant-numeric: normal; font-variant-east-asian: normal; font-variant-alternates: normal; text-decoration-line: underline; text-decoration-skip-ink: none; vertical-align: baseline; white-space-collapse: preserve;\">Problem 4</span>\n",
                "\n",
                "<span style=\"font-size: 12pt; font-family: &quot;Times New Roman&quot;, serif; color: rgb(0, 0, 0); background-color: transparent; font-variant-numeric: normal; font-variant-east-asian: normal; font-variant-alternates: normal; vertical-align: baseline; white-space-collapse: preserve;\">Leadership wants to compare the effectiveness of the Touring-1000 and Touring-3000 promotions across fiscal quarters for reseller sales. Produce a report with the following columns:</span>\n",
                "\n",
                "<span style=\"font-size: 12pt; font-family: &quot;Times New Roman&quot;, serif; color: rgb(0, 0, 0); background-color: transparent; font-variant-numeric: normal; font-variant-east-asian: normal; font-variant-alternates: normal; vertical-align: baseline; white-space-collapse: preserve;\">FiscalYear, English Promotion Name, Currency Name, FiscalQ2, FiscalQ3</span>\n",
                "\n",
                "  \n",
                "\n",
                "<span style=\"font-size: 12pt; font-family: &quot;Times New Roman&quot;, serif; color: rgb(0, 0, 0); background-color: transparent; font-variant-numeric: normal; font-variant-east-asian: normal; font-variant-alternates: normal; vertical-align: baseline; white-space-collapse: preserve;\">N.B. The FiscalQ2 and FiscalQ3 columns should contain the total sales the</span>\n",
                "\n",
                "<span style=\"font-size: 12pt; font-family: &quot;Times New Roman&quot;, serif; color: rgb(0, 0, 0); background-color: transparent; font-variant-numeric: normal; font-variant-east-asian: normal; font-variant-alternates: normal; vertical-align: baseline; white-space-collapse: preserve;\">given fiscal year and promotion name.</span>\n",
                "\n",
                "<span style=\"font-size: 12pt; font-family: &quot;Times New Roman&quot;, serif; color: rgb(0, 0, 0); background-color: transparent; font-variant-numeric: normal; font-variant-east-asian: normal; font-variant-alternates: normal; vertical-align: baseline; white-space-collapse: preserve;\"><br></span>"
            ],
            "metadata": {
                "azdata_cell_guid": "78299054-d59b-4352-9b1c-9fdba5278024"
            },
            "attachments": {}
        },
        {
            "cell_type": "code",
            "source": [
                "USE ADW\r\n",
                "SELECT wide_promo.FiscalYear, wide_promo.EnglishPromotionName, wide_promo.CurrencyName, wide_promo.[2] AS FiscalQ2, wide_promo.[3] AS FiscalQ3\r\n",
                "FROM \r\n",
                "(SELECT d.FiscalYear, o.EnglishPromotionName, d.FiscalQuarter\r\n",
                ", SUM(r.SalesAmount) AS TotalSales, c.CurrencyName\r\n",
                "FROM FactResellerSales r\r\n",
                "INNER JOIN DimPromotion o\r\n",
                "ON r.PromotionKey = o.PromotionKey\r\n",
                "INNER JOIN DimCurrency c\r\n",
                "ON c.CurrencyKey = r.CurrencyKey\r\n",
                "INNER JOIN DimDate d\r\n",
                "ON d.DateKey = r.OrderDateKey  \r\n",
                "WHERE (o.EnglishPromotionName LIKE 'Touring-1000 Promotion' OR  o.EnglishPromotionName LIKE 'Touring-3000 Promotion') AND (FiscalYear = '2012' or FiscalYear = '2013')\r\n",
                "GROUP BY  d.FiscalYear, d.FiscalQuarter, o.EnglishPromotionName, c.CurrencyName) AS promo_data\r\n",
                "PIVOT (\r\n",
                "    SUM(TotalSales)\r\n",
                "    FOR FiscalQuarter\r\n",
                "    IN ([1],[2],[3],[4])) AS wide_promo\r\n",
                ""
            ],
            "metadata": {
                "azdata_cell_guid": "376e484f-4f61-43a3-8969-eede053b3da5",
                "language": "sql",
                "tags": []
            },
            "outputs": [
                {
                    "output_type": "display_data",
                    "data": {
                        "text/html": "(10 rows affected)"
                    },
                    "metadata": {}
                },
                {
                    "output_type": "display_data",
                    "data": {
                        "text/html": "Total execution time: 00:00:00.097"
                    },
                    "metadata": {}
                },
                {
                    "output_type": "execute_result",
                    "execution_count": 9,
                    "data": {
                        "application/vnd.dataresource+json": {
                            "schema": {
                                "fields": [
                                    {
                                        "name": "FiscalYear"
                                    },
                                    {
                                        "name": "EnglishPromotionName"
                                    },
                                    {
                                        "name": "CurrencyName"
                                    },
                                    {
                                        "name": "FiscalQ2"
                                    },
                                    {
                                        "name": "FiscalQ3"
                                    }
                                ]
                            },
                            "data": [
                                {
                                    "FiscalYear": "2012",
                                    "EnglishPromotionName": "Touring-1000 Promotion",
                                    "CurrencyName": "Australian Dollar",
                                    "FiscalQ2": "12206.4384",
                                    "FiscalQ3": "66372.5088"
                                },
                                {
                                    "FiscalYear": "2012",
                                    "EnglishPromotionName": "Touring-1000 Promotion",
                                    "CurrencyName": "Canadian Dollar",
                                    "FiscalQ2": "3051.6096",
                                    "FiscalQ3": "71712.8256"
                                },
                                {
                                    "FiscalYear": "2012",
                                    "EnglishPromotionName": "Touring-1000 Promotion",
                                    "CurrencyName": "EURO",
                                    "FiscalQ2": "28227.3888",
                                    "FiscalQ3": "37382.2176"
                                },
                                {
                                    "FiscalYear": "2012",
                                    "EnglishPromotionName": "Touring-1000 Promotion",
                                    "CurrencyName": "United Kingdom Pound",
                                    "FiscalQ2": "6103.2192",
                                    "FiscalQ3": "42722.5344"
                                },
                                {
                                    "FiscalYear": "2012",
                                    "EnglishPromotionName": "Touring-1000 Promotion",
                                    "CurrencyName": "US Dollar",
                                    "FiscalQ2": "83919.264",
                                    "FiscalQ3": "229633.6224"
                                },
                                {
                                    "FiscalYear": "2012",
                                    "EnglishPromotionName": "Touring-3000 Promotion",
                                    "CurrencyName": "Australian Dollar",
                                    "FiscalQ2": "8234.5178",
                                    "FiscalQ3": "36345.4572"
                                },
                                {
                                    "FiscalYear": "2012",
                                    "EnglishPromotionName": "Touring-3000 Promotion",
                                    "CurrencyName": "Canadian Dollar",
                                    "FiscalQ2": "1419.7445",
                                    "FiscalQ3": "54234.2361"
                                },
                                {
                                    "FiscalYear": "2012",
                                    "EnglishPromotionName": "Touring-3000 Promotion",
                                    "CurrencyName": "EURO",
                                    "FiscalQ2": "19024.5749",
                                    "FiscalQ3": "49407.1052"
                                },
                                {
                                    "FiscalYear": "2012",
                                    "EnglishPromotionName": "Touring-3000 Promotion",
                                    "CurrencyName": "United Kingdom Pound",
                                    "FiscalQ2": "3123.4377",
                                    "FiscalQ3": "38049.1499"
                                },
                                {
                                    "FiscalYear": "2012",
                                    "EnglishPromotionName": "Touring-3000 Promotion",
                                    "CurrencyName": "US Dollar",
                                    "FiscalQ2": "64172.4467",
                                    "FiscalQ3": "169233.5343"
                                }
                            ]
                        },
                        "text/html": "<table><tr><th>FiscalYear</th><th>EnglishPromotionName</th><th>CurrencyName</th><th>FiscalQ2</th><th>FiscalQ3</th></tr><tr><td>2012</td><td>Touring-1000 Promotion</td><td>Australian Dollar</td><td>12206.4384</td><td>66372.5088</td></tr><tr><td>2012</td><td>Touring-1000 Promotion</td><td>Canadian Dollar</td><td>3051.6096</td><td>71712.8256</td></tr><tr><td>2012</td><td>Touring-1000 Promotion</td><td>EURO</td><td>28227.3888</td><td>37382.2176</td></tr><tr><td>2012</td><td>Touring-1000 Promotion</td><td>United Kingdom Pound</td><td>6103.2192</td><td>42722.5344</td></tr><tr><td>2012</td><td>Touring-1000 Promotion</td><td>US Dollar</td><td>83919.264</td><td>229633.6224</td></tr><tr><td>2012</td><td>Touring-3000 Promotion</td><td>Australian Dollar</td><td>8234.5178</td><td>36345.4572</td></tr><tr><td>2012</td><td>Touring-3000 Promotion</td><td>Canadian Dollar</td><td>1419.7445</td><td>54234.2361</td></tr><tr><td>2012</td><td>Touring-3000 Promotion</td><td>EURO</td><td>19024.5749</td><td>49407.1052</td></tr><tr><td>2012</td><td>Touring-3000 Promotion</td><td>United Kingdom Pound</td><td>3123.4377</td><td>38049.1499</td></tr><tr><td>2012</td><td>Touring-3000 Promotion</td><td>US Dollar</td><td>64172.4467</td><td>169233.5343</td></tr></table>"
                    },
                    "metadata": {}
                }
            ],
            "execution_count": 9
        },
        {
            "cell_type": "markdown",
            "source": [
                "<span style=\"font-size: 12pt; font-family: &quot;Times New Roman&quot;, serif; color: rgb(0, 0, 0); background-color: transparent; font-weight: 700; font-variant-numeric: normal; font-variant-east-asian: normal; font-variant-alternates: normal; text-decoration-line: underline; text-decoration-skip-ink: none; vertical-align: baseline; white-space-collapse: preserve;\">Problem 5</span>\n",
                "\n",
                "<span style=\"font-size: 12pt; font-family: &quot;Times New Roman&quot;, serif; color: rgb(0, 0, 0); background-color: transparent; font-variant-numeric: normal; font-variant-east-asian: normal; font-variant-alternates: normal; vertical-align: baseline; white-space-collapse: preserve;\">Leadership wants to improve profitability by targeting geographies with low spend as a function of income.&nbsp; Develop a report that shows sales territory region, associated state province name, currency, average income, average sales, and average sales as a percentage of average income.&nbsp; Order the result set so that the lowest share of income is first.</span>"
            ],
            "metadata": {
                "azdata_cell_guid": "6a567bac-bc0e-419d-8b5b-c7f1bfb0d78f"
            },
            "attachments": {}
        },
        {
            "cell_type": "code",
            "source": [
                "USE ADW\r\n",
                "SELECT t.SalesTerritoryRegion, g.StateProvinceName, cr.CurrencyName, AVG(c.YearlyIncome) AS AverageIncome, AVG(f.SalesAmount) AS AverageSales\r\n",
                "        , FORMAT(AVG(f.SalesAmount)/ AVG(c.YearlyIncome), 'p' )  AS SalesIncomePercentage \r\n",
                "FROM FactResellerSales f\r\n",
                "INNER JOIN DimSalesTerritory t\r\n",
                "ON f.SalesTerritoryKey = t.SalesTerritoryKey\r\n",
                "INNER JOIN DimGeography g \r\n",
                "ON g.SalesTerritoryKey = t.SalesTerritoryKey\r\n",
                "INNER JOIN DimCustomer c \r\n",
                "ON g.GeographyKey = c.GeographyKey\r\n",
                "INNER JOIN DimCurrency cr \r\n",
                "ON f.CurrencyKey = cr.CurrencyKey\r\n",
                "GROUP BY t.SalesTerritoryRegion, g.StateProvinceName, cr.CurrencyName\r\n",
                "ORDER BY SalesIncomePercentage ASC"
            ],
            "metadata": {
                "azdata_cell_guid": "544dbe08-535e-4311-9f3b-3333dbd431d0",
                "language": "sql"
            },
            "outputs": [
                {
                    "output_type": "display_data",
                    "data": {
                        "text/html": "(69 rows affected)"
                    },
                    "metadata": {}
                },
                {
                    "output_type": "display_data",
                    "data": {
                        "text/html": "Total execution time: 00:01:46.812"
                    },
                    "metadata": {}
                },
                {
                    "output_type": "execute_result",
                    "execution_count": 2,
                    "data": {
                        "application/vnd.dataresource+json": {
                            "schema": {
                                "fields": [
                                    {
                                        "name": "SalesTerritoryRegion"
                                    },
                                    {
                                        "name": "StateProvinceName"
                                    },
                                    {
                                        "name": "CurrencyName"
                                    },
                                    {
                                        "name": "AverageIncome"
                                    },
                                    {
                                        "name": "AverageSales"
                                    },
                                    {
                                        "name": "SalesIncomePercentage"
                                    }
                                ]
                            },
                            "data": [
                                {
                                    "SalesTerritoryRegion": "Southeast",
                                    "StateProvinceName": "South Carolina",
                                    "CurrencyName": "US Dollar",
                                    "AverageIncome": "110000.00",
                                    "AverageSales": "1325.1501",
                                    "SalesIncomePercentage": "1.20 %"
                                },
                                {
                                    "SalesTerritoryRegion": "Australia",
                                    "StateProvinceName": "Queensland",
                                    "CurrencyName": "Australian Dollar",
                                    "AverageIncome": "64716.2673",
                                    "AverageSales": "930.727",
                                    "SalesIncomePercentage": "1.43 %"
                                },
                                {
                                    "SalesTerritoryRegion": "Australia",
                                    "StateProvinceName": "New South Wales",
                                    "CurrencyName": "Australian Dollar",
                                    "AverageIncome": "64759.4611",
                                    "AverageSales": "930.727",
                                    "SalesIncomePercentage": "1.43 %"
                                },
                                {
                                    "SalesTerritoryRegion": "Australia",
                                    "StateProvinceName": "Tasmania",
                                    "CurrencyName": "Australian Dollar",
                                    "AverageIncome": "64433.9622",
                                    "AverageSales": "930.727",
                                    "SalesIncomePercentage": "1.44 %"
                                },
                                {
                                    "SalesTerritoryRegion": "Australia",
                                    "StateProvinceName": "Victoria",
                                    "CurrencyName": "Australian Dollar",
                                    "AverageIncome": "63545.8612",
                                    "AverageSales": "930.727",
                                    "SalesIncomePercentage": "1.46 %"
                                },
                                {
                                    "SalesTerritoryRegion": "Australia",
                                    "StateProvinceName": "South Australia",
                                    "CurrencyName": "Australian Dollar",
                                    "AverageIncome": "63263.5983",
                                    "AverageSales": "930.727",
                                    "SalesIncomePercentage": "1.47 %"
                                },
                                {
                                    "SalesTerritoryRegion": "Central",
                                    "StateProvinceName": "Minnesota",
                                    "CurrencyName": "US Dollar",
                                    "AverageIncome": "80000.00",
                                    "AverageSales": "1360.2904",
                                    "SalesIncomePercentage": "1.70 %"
                                },
                                {
                                    "SalesTerritoryRegion": "Central",
                                    "StateProvinceName": "Missouri",
                                    "CurrencyName": "US Dollar",
                                    "AverageIncome": "80000.00",
                                    "AverageSales": "1360.2904",
                                    "SalesIncomePercentage": "1.70 %"
                                },
                                {
                                    "SalesTerritoryRegion": "Northwest",
                                    "StateProvinceName": "Montana",
                                    "CurrencyName": "US Dollar",
                                    "AverageIncome": "90000.00",
                                    "AverageSales": "1579.659",
                                    "SalesIncomePercentage": "1.75 %"
                                },
                                {
                                    "SalesTerritoryRegion": "Southeast",
                                    "StateProvinceName": "Kentucky",
                                    "CurrencyName": "US Dollar",
                                    "AverageIncome": "70000.00",
                                    "AverageSales": "1325.1501",
                                    "SalesIncomePercentage": "1.89 %"
                                },
                                {
                                    "SalesTerritoryRegion": "Southeast",
                                    "StateProvinceName": "Georgia",
                                    "CurrencyName": "US Dollar",
                                    "AverageIncome": "66666.6666",
                                    "AverageSales": "1325.1501",
                                    "SalesIncomePercentage": "1.98 %"
                                },
                                {
                                    "SalesTerritoryRegion": "Northeast",
                                    "StateProvinceName": "Massachusetts",
                                    "CurrencyName": "US Dollar",
                                    "AverageIncome": "60000.00",
                                    "AverageSales": "1193.4656",
                                    "SalesIncomePercentage": "1.98 %"
                                },
                                {
                                    "SalesTerritoryRegion": "Southwest",
                                    "StateProvinceName": "California",
                                    "CurrencyName": "US Dollar",
                                    "AverageIncome": "66584.1584",
                                    "AverageSales": "1380.257",
                                    "SalesIncomePercentage": "2.07 %"
                                },
                                {
                                    "SalesTerritoryRegion": "Canada",
                                    "StateProvinceName": "British Columbia",
                                    "CurrencyName": "Canadian Dollar",
                                    "AverageIncome": "57216.1642",
                                    "AverageSales": "1256.3723",
                                    "SalesIncomePercentage": "2.19 %"
                                },
                                {
                                    "SalesTerritoryRegion": "France",
                                    "StateProvinceName": "Charente-Maritime",
                                    "CurrencyName": "EURO",
                                    "AverageIncome": "47142.8571",
                                    "AverageSales": "1075.7624",
                                    "SalesIncomePercentage": "2.28 %"
                                },
                                {
                                    "SalesTerritoryRegion": "Southeast",
                                    "StateProvinceName": "Florida",
                                    "CurrencyName": "US Dollar",
                                    "AverageIncome": "56666.6666",
                                    "AverageSales": "1325.1501",
                                    "SalesIncomePercentage": "2.33 %"
                                },
                                {
                                    "SalesTerritoryRegion": "United Kingdom",
                                    "StateProvinceName": "England",
                                    "CurrencyName": "United Kingdom Pound",
                                    "AverageIncome": "52169.3674",
                                    "AverageSales": "1215.6275",
                                    "SalesIncomePercentage": "2.33 %"
                                },
                                {
                                    "SalesTerritoryRegion": "Germany",
                                    "StateProvinceName": "Saarland",
                                    "CurrencyName": "EURO",
                                    "AverageIncome": "45497.7375",
                                    "AverageSales": "1078.8406",
                                    "SalesIncomePercentage": "2.37 %"
                                },
                                {
                                    "SalesTerritoryRegion": "France",
                                    "StateProvinceName": "Val d'Oise",
                                    "CurrencyName": "EURO",
                                    "AverageIncome": "45333.3333",
                                    "AverageSales": "1075.7624",
                                    "SalesIncomePercentage": "2.37 %"
                                },
                                {
                                    "SalesTerritoryRegion": "Canada",
                                    "StateProvinceName": "Alberta",
                                    "CurrencyName": "Canadian Dollar",
                                    "AverageIncome": "51818.1818",
                                    "AverageSales": "1256.3723",
                                    "SalesIncomePercentage": "2.42 %"
                                },
                                {
                                    "SalesTerritoryRegion": "Germany",
                                    "StateProvinceName": "Hamburg",
                                    "CurrencyName": "EURO",
                                    "AverageIncome": "43367.0033",
                                    "AverageSales": "1078.8406",
                                    "SalesIncomePercentage": "2.48 %"
                                },
                                {
                                    "SalesTerritoryRegion": "Northeast",
                                    "StateProvinceName": "Ohio",
                                    "CurrencyName": "US Dollar",
                                    "AverageIncome": "47500.00",
                                    "AverageSales": "1193.4656",
                                    "SalesIncomePercentage": "2.51 %"
                                },
                                {
                                    "SalesTerritoryRegion": "France",
                                    "StateProvinceName": "Loir et Cher",
                                    "CurrencyName": "EURO",
                                    "AverageIncome": "42352.9411",
                                    "AverageSales": "1075.7624",
                                    "SalesIncomePercentage": "2.53 %"
                                },
                                {
                                    "SalesTerritoryRegion": "Northeast",
                                    "StateProvinceName": "New York",
                                    "CurrencyName": "US Dollar",
                                    "AverageIncome": "46666.6666",
                                    "AverageSales": "1193.4656",
                                    "SalesIncomePercentage": "2.55 %"
                                },
                                {
                                    "SalesTerritoryRegion": "Germany",
                                    "StateProvinceName": "Hessen",
                                    "CurrencyName": "EURO",
                                    "AverageIncome": "42148.5411",
                                    "AverageSales": "1078.8406",
                                    "SalesIncomePercentage": "2.55 %"
                                },
                                {
                                    "SalesTerritoryRegion": "Germany",
                                    "StateProvinceName": "Nordrhein-Westfalen",
                                    "CurrencyName": "EURO",
                                    "AverageIncome": "42167.4876",
                                    "AverageSales": "1078.8406",
                                    "SalesIncomePercentage": "2.55 %"
                                },
                                {
                                    "SalesTerritoryRegion": "Northwest",
                                    "StateProvinceName": "Washington",
                                    "CurrencyName": "US Dollar",
                                    "AverageIncome": "60132.5673",
                                    "AverageSales": "1579.659",
                                    "SalesIncomePercentage": "2.62 %"
                                },
                                {
                                    "SalesTerritoryRegion": "Northwest",
                                    "StateProvinceName": "Wyoming",
                                    "CurrencyName": "US Dollar",
                                    "AverageIncome": "60000.00",
                                    "AverageSales": "1579.659",
                                    "SalesIncomePercentage": "2.63 %"
                                },
                                {
                                    "SalesTerritoryRegion": "Northwest",
                                    "StateProvinceName": "Utah",
                                    "CurrencyName": "US Dollar",
                                    "AverageIncome": "60000.00",
                                    "AverageSales": "1579.659",
                                    "SalesIncomePercentage": "2.63 %"
                                },
                                {
                                    "SalesTerritoryRegion": "Germany",
                                    "StateProvinceName": "Bayern",
                                    "CurrencyName": "EURO",
                                    "AverageIncome": "40789.4736",
                                    "AverageSales": "1078.8406",
                                    "SalesIncomePercentage": "2.64 %"
                                },
                                {
                                    "SalesTerritoryRegion": "Northwest",
                                    "StateProvinceName": "Oregon",
                                    "CurrencyName": "US Dollar",
                                    "AverageIncome": "59002.7958",
                                    "AverageSales": "1579.659",
                                    "SalesIncomePercentage": "2.67 %"
                                },
                                {
                                    "SalesTerritoryRegion": "France",
                                    "StateProvinceName": "Moselle",
                                    "CurrencyName": "EURO",
                                    "AverageIncome": "39107.1428",
                                    "AverageSales": "1075.7624",
                                    "SalesIncomePercentage": "2.75 %"
                                },
                                {
                                    "SalesTerritoryRegion": "France",
                                    "StateProvinceName": "Somme",
                                    "CurrencyName": "EURO",
                                    "AverageIncome": "38636.3636",
                                    "AverageSales": "1075.7624",
                                    "SalesIncomePercentage": "2.78 %"
                                },
                                {
                                    "SalesTerritoryRegion": "France",
                                    "StateProvinceName": "Seine et Marne",
                                    "CurrencyName": "EURO",
                                    "AverageIncome": "38000.00",
                                    "AverageSales": "1075.7624",
                                    "SalesIncomePercentage": "2.83 %"
                                },
                                {
                                    "SalesTerritoryRegion": "Germany",
                                    "StateProvinceName": "Brandenburg",
                                    "CurrencyName": "EURO",
                                    "AverageIncome": "38000.00",
                                    "AverageSales": "1078.8406",
                                    "SalesIncomePercentage": "2.83 %"
                                },
                                {
                                    "SalesTerritoryRegion": "France",
                                    "StateProvinceName": "Charente-Maritime",
                                    "CurrencyName": "US Dollar",
                                    "AverageIncome": "47142.8571",
                                    "AverageSales": "1339.2941",
                                    "SalesIncomePercentage": "2.84 %"
                                },
                                {
                                    "SalesTerritoryRegion": "Southwest",
                                    "StateProvinceName": "Texas",
                                    "CurrencyName": "US Dollar",
                                    "AverageIncome": "47500.00",
                                    "AverageSales": "1380.257",
                                    "SalesIncomePercentage": "2.90 %"
                                },
                                {
                                    "SalesTerritoryRegion": "France",
                                    "StateProvinceName": "Hauts de Seine",
                                    "CurrencyName": "EURO",
                                    "AverageIncome": "36871.7948",
                                    "AverageSales": "1075.7624",
                                    "SalesIncomePercentage": "2.91 %"
                                },
                                {
                                    "SalesTerritoryRegion": "France",
                                    "StateProvinceName": "Val d'Oise",
                                    "CurrencyName": "US Dollar",
                                    "AverageIncome": "45333.3333",
                                    "AverageSales": "1339.2941",
                                    "SalesIncomePercentage": "2.95 %"
                                },
                                {
                                    "SalesTerritoryRegion": "France",
                                    "StateProvinceName": "Nord",
                                    "CurrencyName": "EURO",
                                    "AverageIncome": "36161.9718",
                                    "AverageSales": "1075.7624",
                                    "SalesIncomePercentage": "2.97 %"
                                },
                                {
                                    "SalesTerritoryRegion": "France",
                                    "StateProvinceName": "Seine (Paris)",
                                    "CurrencyName": "EURO",
                                    "AverageIncome": "36088.0829",
                                    "AverageSales": "1075.7624",
                                    "SalesIncomePercentage": "2.98 %"
                                },
                                {
                                    "SalesTerritoryRegion": "Central",
                                    "StateProvinceName": "Illinois",
                                    "CurrencyName": "US Dollar",
                                    "AverageIncome": "45000.00",
                                    "AverageSales": "1360.2904",
                                    "SalesIncomePercentage": "3.02 %"
                                },
                                {
                                    "SalesTerritoryRegion": "France",
                                    "StateProvinceName": "Seine Saint Denis",
                                    "CurrencyName": "EURO",
                                    "AverageIncome": "34912.2807",
                                    "AverageSales": "1075.7624",
                                    "SalesIncomePercentage": "3.08 %"
                                },
                                {
                                    "SalesTerritoryRegion": "France",
                                    "StateProvinceName": "Val de Marne",
                                    "CurrencyName": "EURO",
                                    "AverageIncome": "34666.6666",
                                    "AverageSales": "1075.7624",
                                    "SalesIncomePercentage": "3.10 %"
                                },
                                {
                                    "SalesTerritoryRegion": "France",
                                    "StateProvinceName": "Yveline",
                                    "CurrencyName": "EURO",
                                    "AverageIncome": "34345.238",
                                    "AverageSales": "1075.7624",
                                    "SalesIncomePercentage": "3.13 %"
                                },
                                {
                                    "SalesTerritoryRegion": "Canada",
                                    "StateProvinceName": "Ontario",
                                    "CurrencyName": "Canadian Dollar",
                                    "AverageIncome": "40000.00",
                                    "AverageSales": "1256.3723",
                                    "SalesIncomePercentage": "3.14 %"
                                },
                                {
                                    "SalesTerritoryRegion": "France",
                                    "StateProvinceName": "Loir et Cher",
                                    "CurrencyName": "US Dollar",
                                    "AverageIncome": "42352.9411",
                                    "AverageSales": "1339.2941",
                                    "SalesIncomePercentage": "3.16 %"
                                },
                                {
                                    "SalesTerritoryRegion": "France",
                                    "StateProvinceName": "Pas de Calais",
                                    "CurrencyName": "EURO",
                                    "AverageIncome": "33750.00",
                                    "AverageSales": "1075.7624",
                                    "SalesIncomePercentage": "3.18 %"
                                },
                                {
                                    "SalesTerritoryRegion": "France",
                                    "StateProvinceName": "Essonne",
                                    "CurrencyName": "EURO",
                                    "AverageIncome": "33600.00",
                                    "AverageSales": "1075.7624",
                                    "SalesIncomePercentage": "3.20 %"
                                },
                                {
                                    "SalesTerritoryRegion": "Southeast",
                                    "StateProvinceName": "Alabama",
                                    "CurrencyName": "US Dollar",
                                    "AverageIncome": "40000.00",
                                    "AverageSales": "1325.1501",
                                    "SalesIncomePercentage": "3.31 %"
                                },
                                {
                                    "SalesTerritoryRegion": "Southeast",
                                    "StateProvinceName": "Mississippi",
                                    "CurrencyName": "US Dollar",
                                    "AverageIncome": "40000.00",
                                    "AverageSales": "1325.1501",
                                    "SalesIncomePercentage": "3.31 %"
                                },
                                {
                                    "SalesTerritoryRegion": "Southeast",
                                    "StateProvinceName": "North Carolina",
                                    "CurrencyName": "US Dollar",
                                    "AverageIncome": "40000.00",
                                    "AverageSales": "1325.1501",
                                    "SalesIncomePercentage": "3.31 %"
                                },
                                {
                                    "SalesTerritoryRegion": "Southeast",
                                    "StateProvinceName": "Virginia",
                                    "CurrencyName": "US Dollar",
                                    "AverageIncome": "40000.00",
                                    "AverageSales": "1325.1501",
                                    "SalesIncomePercentage": "3.31 %"
                                },
                                {
                                    "SalesTerritoryRegion": "France",
                                    "StateProvinceName": "Moselle",
                                    "CurrencyName": "US Dollar",
                                    "AverageIncome": "39107.1428",
                                    "AverageSales": "1339.2941",
                                    "SalesIncomePercentage": "3.42 %"
                                },
                                {
                                    "SalesTerritoryRegion": "Southwest",
                                    "StateProvinceName": "Arizona",
                                    "CurrencyName": "US Dollar",
                                    "AverageIncome": "40000.00",
                                    "AverageSales": "1380.257",
                                    "SalesIncomePercentage": "3.45 %"
                                },
                                {
                                    "SalesTerritoryRegion": "France",
                                    "StateProvinceName": "Somme",
                                    "CurrencyName": "US Dollar",
                                    "AverageIncome": "38636.3636",
                                    "AverageSales": "1339.2941",
                                    "SalesIncomePercentage": "3.46 %"
                                },
                                {
                                    "SalesTerritoryRegion": "France",
                                    "StateProvinceName": "Seine et Marne",
                                    "CurrencyName": "US Dollar",
                                    "AverageIncome": "38000.00",
                                    "AverageSales": "1339.2941",
                                    "SalesIncomePercentage": "3.52 %"
                                },
                                {
                                    "SalesTerritoryRegion": "France",
                                    "StateProvinceName": "Hauts de Seine",
                                    "CurrencyName": "US Dollar",
                                    "AverageIncome": "36871.7948",
                                    "AverageSales": "1339.2941",
                                    "SalesIncomePercentage": "3.63 %"
                                },
                                {
                                    "SalesTerritoryRegion": "France",
                                    "StateProvinceName": "Garonne (Haute)",
                                    "CurrencyName": "EURO",
                                    "AverageIncome": "29000.00",
                                    "AverageSales": "1075.7624",
                                    "SalesIncomePercentage": "3.70 %"
                                },
                                {
                                    "SalesTerritoryRegion": "France",
                                    "StateProvinceName": "Loiret",
                                    "CurrencyName": "EURO",
                                    "AverageIncome": "29000.00",
                                    "AverageSales": "1075.7624",
                                    "SalesIncomePercentage": "3.70 %"
                                },
                                {
                                    "SalesTerritoryRegion": "France",
                                    "StateProvinceName": "Nord",
                                    "CurrencyName": "US Dollar",
                                    "AverageIncome": "36161.9718",
                                    "AverageSales": "1339.2941",
                                    "SalesIncomePercentage": "3.70 %"
                                },
                                {
                                    "SalesTerritoryRegion": "France",
                                    "StateProvinceName": "Seine (Paris)",
                                    "CurrencyName": "US Dollar",
                                    "AverageIncome": "36088.0829",
                                    "AverageSales": "1339.2941",
                                    "SalesIncomePercentage": "3.71 %"
                                },
                                {
                                    "SalesTerritoryRegion": "France",
                                    "StateProvinceName": "Seine Saint Denis",
                                    "CurrencyName": "US Dollar",
                                    "AverageIncome": "34912.2807",
                                    "AverageSales": "1339.2941",
                                    "SalesIncomePercentage": "3.83 %"
                                },
                                {
                                    "SalesTerritoryRegion": "France",
                                    "StateProvinceName": "Val de Marne",
                                    "CurrencyName": "US Dollar",
                                    "AverageIncome": "34666.6666",
                                    "AverageSales": "1339.2941",
                                    "SalesIncomePercentage": "3.86 %"
                                },
                                {
                                    "SalesTerritoryRegion": "France",
                                    "StateProvinceName": "Yveline",
                                    "CurrencyName": "US Dollar",
                                    "AverageIncome": "34345.238",
                                    "AverageSales": "1339.2941",
                                    "SalesIncomePercentage": "3.89 %"
                                },
                                {
                                    "SalesTerritoryRegion": "France",
                                    "StateProvinceName": "Pas de Calais",
                                    "CurrencyName": "US Dollar",
                                    "AverageIncome": "33750.00",
                                    "AverageSales": "1339.2941",
                                    "SalesIncomePercentage": "3.96 %"
                                },
                                {
                                    "SalesTerritoryRegion": "France",
                                    "StateProvinceName": "Essonne",
                                    "CurrencyName": "US Dollar",
                                    "AverageIncome": "33600.00",
                                    "AverageSales": "1339.2941",
                                    "SalesIncomePercentage": "3.98 %"
                                },
                                {
                                    "SalesTerritoryRegion": "France",
                                    "StateProvinceName": "Garonne (Haute)",
                                    "CurrencyName": "US Dollar",
                                    "AverageIncome": "29000.00",
                                    "AverageSales": "1339.2941",
                                    "SalesIncomePercentage": "4.61 %"
                                },
                                {
                                    "SalesTerritoryRegion": "France",
                                    "StateProvinceName": "Loiret",
                                    "CurrencyName": "US Dollar",
                                    "AverageIncome": "29000.00",
                                    "AverageSales": "1339.2941",
                                    "SalesIncomePercentage": "4.61 %"
                                }
                            ]
                        },
                        "text/html": "<table><tr><th>SalesTerritoryRegion</th><th>StateProvinceName</th><th>CurrencyName</th><th>AverageIncome</th><th>AverageSales</th><th>SalesIncomePercentage</th></tr><tr><td>Southeast</td><td>South Carolina</td><td>US Dollar</td><td>110000.00</td><td>1325.1501</td><td>1.20 %</td></tr><tr><td>Australia</td><td>Queensland</td><td>Australian Dollar</td><td>64716.2673</td><td>930.727</td><td>1.43 %</td></tr><tr><td>Australia</td><td>New South Wales</td><td>Australian Dollar</td><td>64759.4611</td><td>930.727</td><td>1.43 %</td></tr><tr><td>Australia</td><td>Tasmania</td><td>Australian Dollar</td><td>64433.9622</td><td>930.727</td><td>1.44 %</td></tr><tr><td>Australia</td><td>Victoria</td><td>Australian Dollar</td><td>63545.8612</td><td>930.727</td><td>1.46 %</td></tr><tr><td>Australia</td><td>South Australia</td><td>Australian Dollar</td><td>63263.5983</td><td>930.727</td><td>1.47 %</td></tr><tr><td>Central</td><td>Minnesota</td><td>US Dollar</td><td>80000.00</td><td>1360.2904</td><td>1.70 %</td></tr><tr><td>Central</td><td>Missouri</td><td>US Dollar</td><td>80000.00</td><td>1360.2904</td><td>1.70 %</td></tr><tr><td>Northwest</td><td>Montana</td><td>US Dollar</td><td>90000.00</td><td>1579.659</td><td>1.75 %</td></tr><tr><td>Southeast</td><td>Kentucky</td><td>US Dollar</td><td>70000.00</td><td>1325.1501</td><td>1.89 %</td></tr><tr><td>Southeast</td><td>Georgia</td><td>US Dollar</td><td>66666.6666</td><td>1325.1501</td><td>1.98 %</td></tr><tr><td>Northeast</td><td>Massachusetts</td><td>US Dollar</td><td>60000.00</td><td>1193.4656</td><td>1.98 %</td></tr><tr><td>Southwest</td><td>California</td><td>US Dollar</td><td>66584.1584</td><td>1380.257</td><td>2.07 %</td></tr><tr><td>Canada</td><td>British Columbia</td><td>Canadian Dollar</td><td>57216.1642</td><td>1256.3723</td><td>2.19 %</td></tr><tr><td>France</td><td>Charente-Maritime</td><td>EURO</td><td>47142.8571</td><td>1075.7624</td><td>2.28 %</td></tr><tr><td>Southeast</td><td>Florida</td><td>US Dollar</td><td>56666.6666</td><td>1325.1501</td><td>2.33 %</td></tr><tr><td>United Kingdom</td><td>England</td><td>United Kingdom Pound</td><td>52169.3674</td><td>1215.6275</td><td>2.33 %</td></tr><tr><td>Germany</td><td>Saarland</td><td>EURO</td><td>45497.7375</td><td>1078.8406</td><td>2.37 %</td></tr><tr><td>France</td><td>Val d&#39;Oise</td><td>EURO</td><td>45333.3333</td><td>1075.7624</td><td>2.37 %</td></tr><tr><td>Canada</td><td>Alberta</td><td>Canadian Dollar</td><td>51818.1818</td><td>1256.3723</td><td>2.42 %</td></tr><tr><td>Germany</td><td>Hamburg</td><td>EURO</td><td>43367.0033</td><td>1078.8406</td><td>2.48 %</td></tr><tr><td>Northeast</td><td>Ohio</td><td>US Dollar</td><td>47500.00</td><td>1193.4656</td><td>2.51 %</td></tr><tr><td>France</td><td>Loir et Cher</td><td>EURO</td><td>42352.9411</td><td>1075.7624</td><td>2.53 %</td></tr><tr><td>Northeast</td><td>New York</td><td>US Dollar</td><td>46666.6666</td><td>1193.4656</td><td>2.55 %</td></tr><tr><td>Germany</td><td>Hessen</td><td>EURO</td><td>42148.5411</td><td>1078.8406</td><td>2.55 %</td></tr><tr><td>Germany</td><td>Nordrhein-Westfalen</td><td>EURO</td><td>42167.4876</td><td>1078.8406</td><td>2.55 %</td></tr><tr><td>Northwest</td><td>Washington</td><td>US Dollar</td><td>60132.5673</td><td>1579.659</td><td>2.62 %</td></tr><tr><td>Northwest</td><td>Wyoming</td><td>US Dollar</td><td>60000.00</td><td>1579.659</td><td>2.63 %</td></tr><tr><td>Northwest</td><td>Utah</td><td>US Dollar</td><td>60000.00</td><td>1579.659</td><td>2.63 %</td></tr><tr><td>Germany</td><td>Bayern</td><td>EURO</td><td>40789.4736</td><td>1078.8406</td><td>2.64 %</td></tr><tr><td>Northwest</td><td>Oregon</td><td>US Dollar</td><td>59002.7958</td><td>1579.659</td><td>2.67 %</td></tr><tr><td>France</td><td>Moselle</td><td>EURO</td><td>39107.1428</td><td>1075.7624</td><td>2.75 %</td></tr><tr><td>France</td><td>Somme</td><td>EURO</td><td>38636.3636</td><td>1075.7624</td><td>2.78 %</td></tr><tr><td>France</td><td>Seine et Marne</td><td>EURO</td><td>38000.00</td><td>1075.7624</td><td>2.83 %</td></tr><tr><td>Germany</td><td>Brandenburg</td><td>EURO</td><td>38000.00</td><td>1078.8406</td><td>2.83 %</td></tr><tr><td>France</td><td>Charente-Maritime</td><td>US Dollar</td><td>47142.8571</td><td>1339.2941</td><td>2.84 %</td></tr><tr><td>Southwest</td><td>Texas</td><td>US Dollar</td><td>47500.00</td><td>1380.257</td><td>2.90 %</td></tr><tr><td>France</td><td>Hauts de Seine</td><td>EURO</td><td>36871.7948</td><td>1075.7624</td><td>2.91 %</td></tr><tr><td>France</td><td>Val d&#39;Oise</td><td>US Dollar</td><td>45333.3333</td><td>1339.2941</td><td>2.95 %</td></tr><tr><td>France</td><td>Nord</td><td>EURO</td><td>36161.9718</td><td>1075.7624</td><td>2.97 %</td></tr><tr><td>France</td><td>Seine (Paris)</td><td>EURO</td><td>36088.0829</td><td>1075.7624</td><td>2.98 %</td></tr><tr><td>Central</td><td>Illinois</td><td>US Dollar</td><td>45000.00</td><td>1360.2904</td><td>3.02 %</td></tr><tr><td>France</td><td>Seine Saint Denis</td><td>EURO</td><td>34912.2807</td><td>1075.7624</td><td>3.08 %</td></tr><tr><td>France</td><td>Val de Marne</td><td>EURO</td><td>34666.6666</td><td>1075.7624</td><td>3.10 %</td></tr><tr><td>France</td><td>Yveline</td><td>EURO</td><td>34345.238</td><td>1075.7624</td><td>3.13 %</td></tr><tr><td>Canada</td><td>Ontario</td><td>Canadian Dollar</td><td>40000.00</td><td>1256.3723</td><td>3.14 %</td></tr><tr><td>France</td><td>Loir et Cher</td><td>US Dollar</td><td>42352.9411</td><td>1339.2941</td><td>3.16 %</td></tr><tr><td>France</td><td>Pas de Calais</td><td>EURO</td><td>33750.00</td><td>1075.7624</td><td>3.18 %</td></tr><tr><td>France</td><td>Essonne</td><td>EURO</td><td>33600.00</td><td>1075.7624</td><td>3.20 %</td></tr><tr><td>Southeast</td><td>Alabama</td><td>US Dollar</td><td>40000.00</td><td>1325.1501</td><td>3.31 %</td></tr><tr><td>Southeast</td><td>Mississippi</td><td>US Dollar</td><td>40000.00</td><td>1325.1501</td><td>3.31 %</td></tr><tr><td>Southeast</td><td>North Carolina</td><td>US Dollar</td><td>40000.00</td><td>1325.1501</td><td>3.31 %</td></tr><tr><td>Southeast</td><td>Virginia</td><td>US Dollar</td><td>40000.00</td><td>1325.1501</td><td>3.31 %</td></tr><tr><td>France</td><td>Moselle</td><td>US Dollar</td><td>39107.1428</td><td>1339.2941</td><td>3.42 %</td></tr><tr><td>Southwest</td><td>Arizona</td><td>US Dollar</td><td>40000.00</td><td>1380.257</td><td>3.45 %</td></tr><tr><td>France</td><td>Somme</td><td>US Dollar</td><td>38636.3636</td><td>1339.2941</td><td>3.46 %</td></tr><tr><td>France</td><td>Seine et Marne</td><td>US Dollar</td><td>38000.00</td><td>1339.2941</td><td>3.52 %</td></tr><tr><td>France</td><td>Hauts de Seine</td><td>US Dollar</td><td>36871.7948</td><td>1339.2941</td><td>3.63 %</td></tr><tr><td>France</td><td>Garonne (Haute)</td><td>EURO</td><td>29000.00</td><td>1075.7624</td><td>3.70 %</td></tr><tr><td>France</td><td>Loiret</td><td>EURO</td><td>29000.00</td><td>1075.7624</td><td>3.70 %</td></tr><tr><td>France</td><td>Nord</td><td>US Dollar</td><td>36161.9718</td><td>1339.2941</td><td>3.70 %</td></tr><tr><td>France</td><td>Seine (Paris)</td><td>US Dollar</td><td>36088.0829</td><td>1339.2941</td><td>3.71 %</td></tr><tr><td>France</td><td>Seine Saint Denis</td><td>US Dollar</td><td>34912.2807</td><td>1339.2941</td><td>3.83 %</td></tr><tr><td>France</td><td>Val de Marne</td><td>US Dollar</td><td>34666.6666</td><td>1339.2941</td><td>3.86 %</td></tr><tr><td>France</td><td>Yveline</td><td>US Dollar</td><td>34345.238</td><td>1339.2941</td><td>3.89 %</td></tr><tr><td>France</td><td>Pas de Calais</td><td>US Dollar</td><td>33750.00</td><td>1339.2941</td><td>3.96 %</td></tr><tr><td>France</td><td>Essonne</td><td>US Dollar</td><td>33600.00</td><td>1339.2941</td><td>3.98 %</td></tr><tr><td>France</td><td>Garonne (Haute)</td><td>US Dollar</td><td>29000.00</td><td>1339.2941</td><td>4.61 %</td></tr><tr><td>France</td><td>Loiret</td><td>US Dollar</td><td>29000.00</td><td>1339.2941</td><td>4.61 %</td></tr></table>"
                    },
                    "metadata": {}
                }
            ],
            "execution_count": 2
        }
    ]
}