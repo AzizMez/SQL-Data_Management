{
    "cells": [
        {
            "attachments": {},
            "cell_type": "markdown",
            "metadata": {
                "azdata_cell_guid": "07c361a9-b4bb-4da4-b510-e3acda633897"
            },
            "source": [
                "_**Aziz Al Mezraani**_\n",
                "\n",
                "_**SQL Assignment 3**_\n",
                "\n",
                "<span style=\"font-size: 12pt; font-family: &quot;Times New Roman&quot;, serif; color: rgb(0, 0, 0); background-color: transparent; font-variant-numeric: normal; font-variant-east-asian: normal; font-variant-alternates: normal; vertical-align: baseline; white-space-collapse: preserve;\">In this assignment, you will write some database queries based on the AdventureWorks database we use in class.&nbsp; You’ll want to refer to both the schema diagram and the data dictionary.&nbsp; You also should use SQL Server Management Studio to explore the database.&nbsp; Remember, it’s not unusual for database administrators to change the database structure and forget to update the documentation!&nbsp; Check your results carefully.&nbsp;&nbsp;</span>    \n",
                "\n",
                "<span style=\"font-size: 12pt; font-family: &quot;Times New Roman&quot;, serif; color: rgb(0, 0, 0); background-color: transparent; font-weight: 700; font-variant-numeric: normal; font-variant-east-asian: normal; font-variant-alternates: normal; text-decoration-line: underline; text-decoration-skip-ink: none; vertical-align: baseline; white-space-collapse: preserve;\">Problem 1</span>\n",
                "\n",
                "<span style=\"font-size: 12pt; font-family: &quot;Times New Roman&quot;, serif; color: rgb(0, 0, 0); background-color: transparent; font-variant-numeric: normal; font-variant-east-asian: normal; font-variant-alternates: normal; vertical-align: baseline; white-space-collapse: preserve;\">In the last homework assignment, you created a list of territories that required training because they did not have at least one month during 2013 with sales of more than $750,000. Working with this sample principle, use a CASE statement to create a list of all territories in alphabetical order, with a new column called \"TrainingRequired\" that has a value of either \"Yes\" or \"No.\"</span>\n",
                "\n",
                "<span style=\"font-size: 12pt; font-family: &quot;Times New Roman&quot;, serif; color: rgb(0, 0, 0); background-color: transparent; font-variant-numeric: normal; font-variant-east-asian: normal; font-variant-alternates: normal; vertical-align: baseline; white-space-collapse: preserve;\"><br></span>"
            ]
        },
        {
            "cell_type": "code",
            "execution_count": null,
            "metadata": {
                "azdata_cell_guid": "4214be3a-9baf-4eba-9d6a-1cc82b1c181a",
                "language": "sql",
                "vscode": {
                    "languageId": "sql"
                }
            },
            "outputs": [
                {
                    "data": {
                        "text/html": [
                            "(10 rows affected)"
                        ]
                    },
                    "metadata": {},
                    "output_type": "display_data"
                },
                {
                    "data": {
                        "text/html": [
                            "Total execution time: 00:00:00.123"
                        ]
                    },
                    "metadata": {},
                    "output_type": "display_data"
                },
                {
                    "data": {
                        "application/vnd.dataresource+json": {
                            "data": [
                                {
                                    "TerritoryName": "Australia",
                                    "TrainingRequired": "Yes"
                                },
                                {
                                    "TerritoryName": "Canada",
                                    "TrainingRequired": "No"
                                },
                                {
                                    "TerritoryName": "Central",
                                    "TrainingRequired": "Yes"
                                },
                                {
                                    "TerritoryName": "France",
                                    "TrainingRequired": "No"
                                },
                                {
                                    "TerritoryName": "Germany",
                                    "TrainingRequired": "Yes"
                                },
                                {
                                    "TerritoryName": "Northeast",
                                    "TrainingRequired": "Yes"
                                },
                                {
                                    "TerritoryName": "Northwest",
                                    "TrainingRequired": "No"
                                },
                                {
                                    "TerritoryName": "Southeast",
                                    "TrainingRequired": "Yes"
                                },
                                {
                                    "TerritoryName": "Southwest",
                                    "TrainingRequired": "No"
                                },
                                {
                                    "TerritoryName": "United Kingdom",
                                    "TrainingRequired": "Yes"
                                }
                            ],
                            "schema": {
                                "fields": [
                                    {
                                        "name": "TerritoryName"
                                    },
                                    {
                                        "name": "TrainingRequired"
                                    }
                                ]
                            }
                        },
                        "text/html": [
                            "<table><tr><th>TerritoryName</th><th>TrainingRequired</th></tr><tr><td>Australia</td><td>Yes</td></tr><tr><td>Canada</td><td>No</td></tr><tr><td>Central</td><td>Yes</td></tr><tr><td>France</td><td>No</td></tr><tr><td>Germany</td><td>Yes</td></tr><tr><td>Northeast</td><td>Yes</td></tr><tr><td>Northwest</td><td>No</td></tr><tr><td>Southeast</td><td>Yes</td></tr><tr><td>Southwest</td><td>No</td></tr><tr><td>United Kingdom</td><td>Yes</td></tr></table>"
                        ]
                    },
                    "execution_count": 8,
                    "metadata": {},
                    "output_type": "execute_result"
                }
            ],
            "source": [
                "-- Retrieve key metrics or descriptive fields\n",
                "SELECT DISTINCT t.Name AS TerritoryName\n",
                "-- Apply conditional logic to transform or categorize data\n",
                "            ,CASE WHEN MAX(SUM(h.subtotal)) OVER (PARTITION BY t.Name)> 750000 THEN 'No'\n",
                "            ELSE 'Yes'\n",
                "            END AS TrainingRequired\n",
                "FROM Sales.SalesTerritory t\n",
                "-- Enrich the dataset by joining with related dimension or fact tables\n",
                "INNER JOIN Sales.SalesOrderHeader h \n",
                "ON t.TerritoryID = h.TerritoryID\n",
                "-- Filter data based on business-specific logic or required constraints\n",
                "WHERE DATEPART(YEAR, OrderDate) = '2013'\n",
                "-- Aggregate data to summarize at the desired granularity\n",
                "GROUP BY t.Name, DATEPART(MONTH, OrderDate), DATEPART(YEAR, OrderDate) \n",
                "-- Sort results to prioritize or format final output\n",
                "ORDER BY t.Name ASC"
            ]
        },
        {
            "attachments": {},
            "cell_type": "markdown",
            "metadata": {
                "azdata_cell_guid": "ddfc273e-a92f-4244-89fb-43ea0e8a0c4d"
            },
            "source": [
                "<span style=\"font-size: 12pt; font-family: &quot;Times New Roman&quot;, serif; color: rgb(0, 0, 0); background-color: transparent; font-weight: 700; font-variant-numeric: normal; font-variant-east-asian: normal; font-variant-alternates: normal; text-decoration-line: underline; text-decoration-skip-ink: none; vertical-align: baseline; white-space-collapse: preserve;\">Problem 2</span>\n",
                "\n",
                "<span style=\"font-size: 12pt; font-family: &quot;Times New Roman&quot;, serif; color: rgb(0, 0, 0); background-color: transparent; font-variant-numeric: normal; font-variant-east-asian: normal; font-variant-alternates: normal; vertical-align: baseline; white-space-collapse: preserve;\">The sales manager wants to know how many sales orders were shipped to each country and state/province.&nbsp; Your result set should contain three columns: Country, StateProvince, and TotalOrders in alphabetical order by country, then showing the greatest number of TotalOrders.</span>"
            ]
        },
        {
            "cell_type": "code",
            "execution_count": null,
            "metadata": {
                "azdata_cell_guid": "84990142-b5e2-44f3-a55b-22e2d19376d2",
                "language": "sql",
                "tags": [],
                "vscode": {
                    "languageId": "sql"
                }
            },
            "outputs": [
                {
                    "data": {
                        "text/html": [
                            "(77 rows affected)"
                        ]
                    },
                    "metadata": {},
                    "output_type": "display_data"
                },
                {
                    "data": {
                        "text/html": [
                            "Total execution time: 00:00:00.120"
                        ]
                    },
                    "metadata": {},
                    "output_type": "display_data"
                },
                {
                    "data": {
                        "application/vnd.dataresource+json": {
                            "data": [
                                {
                                    "Country": "All",
                                    "StateProvince": "All",
                                    "TotalOrders": "31465"
                                },
                                {
                                    "Country": "Australia",
                                    "StateProvince": "All",
                                    "TotalOrders": "6843"
                                },
                                {
                                    "Country": "Australia",
                                    "StateProvince": "New South Wales",
                                    "TotalOrders": "3009"
                                },
                                {
                                    "Country": "Australia",
                                    "StateProvince": "Victoria",
                                    "TotalOrders": "1710"
                                },
                                {
                                    "Country": "Australia",
                                    "StateProvince": "Queensland",
                                    "TotalOrders": "1461"
                                },
                                {
                                    "Country": "Australia",
                                    "StateProvince": "South Australia",
                                    "TotalOrders": "466"
                                },
                                {
                                    "Country": "Australia",
                                    "StateProvince": "Tasmania",
                                    "TotalOrders": "197"
                                },
                                {
                                    "Country": "Canada",
                                    "StateProvince": "All",
                                    "TotalOrders": "4067"
                                },
                                {
                                    "Country": "Canada",
                                    "StateProvince": "British Columbia",
                                    "TotalOrders": "3472"
                                },
                                {
                                    "Country": "Canada",
                                    "StateProvince": "Ontario",
                                    "TotalOrders": "339"
                                },
                                {
                                    "Country": "Canada",
                                    "StateProvince": "Quebec",
                                    "TotalOrders": "146"
                                },
                                {
                                    "Country": "Canada",
                                    "StateProvince": "Alberta",
                                    "TotalOrders": "90"
                                },
                                {
                                    "Country": "Canada",
                                    "StateProvince": "Manitoba",
                                    "TotalOrders": "12"
                                },
                                {
                                    "Country": "Canada",
                                    "StateProvince": "Brunswick",
                                    "TotalOrders": "8"
                                },
                                {
                                    "Country": "France",
                                    "StateProvince": "All",
                                    "TotalOrders": "2672"
                                },
                                {
                                    "Country": "France",
                                    "StateProvince": "Seine (Paris)",
                                    "TotalOrders": "575"
                                },
                                {
                                    "Country": "France",
                                    "StateProvince": "Seine Saint Denis",
                                    "TotalOrders": "391"
                                },
                                {
                                    "Country": "France",
                                    "StateProvince": "Nord",
                                    "TotalOrders": "387"
                                },
                                {
                                    "Country": "France",
                                    "StateProvince": "Hauts de Seine",
                                    "TotalOrders": "295"
                                },
                                {
                                    "Country": "France",
                                    "StateProvince": "Essonne",
                                    "TotalOrders": "236"
                                },
                                {
                                    "Country": "France",
                                    "StateProvince": "Yveline",
                                    "TotalOrders": "224"
                                },
                                {
                                    "Country": "France",
                                    "StateProvince": "Loiret",
                                    "TotalOrders": "99"
                                },
                                {
                                    "Country": "France",
                                    "StateProvince": "Seine et Marne",
                                    "TotalOrders": "98"
                                },
                                {
                                    "Country": "France",
                                    "StateProvince": "Moselle",
                                    "TotalOrders": "82"
                                },
                                {
                                    "Country": "France",
                                    "StateProvince": "Val d'Oise",
                                    "TotalOrders": "71"
                                },
                                {
                                    "Country": "France",
                                    "StateProvince": "Garonne (Haute)",
                                    "TotalOrders": "46"
                                },
                                {
                                    "Country": "France",
                                    "StateProvince": "Val de Marne",
                                    "TotalOrders": "43"
                                },
                                {
                                    "Country": "France",
                                    "StateProvince": "Loir et Cher",
                                    "TotalOrders": "38"
                                },
                                {
                                    "Country": "France",
                                    "StateProvince": "Charente-Maritime",
                                    "TotalOrders": "31"
                                },
                                {
                                    "Country": "France",
                                    "StateProvince": "Somme",
                                    "TotalOrders": "30"
                                },
                                {
                                    "Country": "France",
                                    "StateProvince": "Pas de Calais",
                                    "TotalOrders": "26"
                                },
                                {
                                    "Country": "Germany",
                                    "StateProvince": "All",
                                    "TotalOrders": "2623"
                                },
                                {
                                    "Country": "Germany",
                                    "StateProvince": "Saarland",
                                    "TotalOrders": "658"
                                },
                                {
                                    "Country": "Germany",
                                    "StateProvince": "Nordrhein-Westfalen",
                                    "TotalOrders": "570"
                                },
                                {
                                    "Country": "Germany",
                                    "StateProvince": "Hessen",
                                    "TotalOrders": "560"
                                },
                                {
                                    "Country": "Germany",
                                    "StateProvince": "Hamburg",
                                    "TotalOrders": "441"
                                },
                                {
                                    "Country": "Germany",
                                    "StateProvince": "Bayern",
                                    "TotalOrders": "344"
                                },
                                {
                                    "Country": "Germany",
                                    "StateProvince": "Brandenburg",
                                    "TotalOrders": "50"
                                },
                                {
                                    "Country": "United Kingdom",
                                    "StateProvince": "England",
                                    "TotalOrders": "3219"
                                },
                                {
                                    "Country": "United Kingdom",
                                    "StateProvince": "All",
                                    "TotalOrders": "3219"
                                },
                                {
                                    "Country": "United States",
                                    "StateProvince": "All",
                                    "TotalOrders": "12041"
                                },
                                {
                                    "Country": "United States",
                                    "StateProvince": "California",
                                    "TotalOrders": "5884"
                                },
                                {
                                    "Country": "United States",
                                    "StateProvince": "Washington",
                                    "TotalOrders": "3042"
                                },
                                {
                                    "Country": "United States",
                                    "StateProvince": "Oregon",
                                    "TotalOrders": "1380"
                                },
                                {
                                    "Country": "United States",
                                    "StateProvince": "Texas",
                                    "TotalOrders": "253"
                                },
                                {
                                    "Country": "United States",
                                    "StateProvince": "Florida",
                                    "TotalOrders": "159"
                                },
                                {
                                    "Country": "United States",
                                    "StateProvince": "Michigan",
                                    "TotalOrders": "104"
                                },
                                {
                                    "Country": "United States",
                                    "StateProvince": "Tennessee",
                                    "TotalOrders": "92"
                                },
                                {
                                    "Country": "United States",
                                    "StateProvince": "Ohio",
                                    "TotalOrders": "83"
                                },
                                {
                                    "Country": "United States",
                                    "StateProvince": "Georgia",
                                    "TotalOrders": "76"
                                },
                                {
                                    "Country": "United States",
                                    "StateProvince": "Illinois",
                                    "TotalOrders": "73"
                                },
                                {
                                    "Country": "United States",
                                    "StateProvince": "Missouri",
                                    "TotalOrders": "68"
                                },
                                {
                                    "Country": "United States",
                                    "StateProvince": "Arizona",
                                    "TotalOrders": "67"
                                },
                                {
                                    "Country": "United States",
                                    "StateProvince": "Indiana",
                                    "TotalOrders": "65"
                                },
                                {
                                    "Country": "United States",
                                    "StateProvince": "Colorado",
                                    "TotalOrders": "64"
                                },
                                {
                                    "Country": "United States",
                                    "StateProvince": "Utah",
                                    "TotalOrders": "60"
                                },
                                {
                                    "Country": "United States",
                                    "StateProvince": "Connecticut",
                                    "TotalOrders": "59"
                                },
                                {
                                    "Country": "United States",
                                    "StateProvince": "New York",
                                    "TotalOrders": "53"
                                },
                                {
                                    "Country": "United States",
                                    "StateProvince": "Nevada",
                                    "TotalOrders": "49"
                                },
                                {
                                    "Country": "United States",
                                    "StateProvince": "New Hampshire",
                                    "TotalOrders": "48"
                                },
                                {
                                    "Country": "United States",
                                    "StateProvince": "North Carolina",
                                    "TotalOrders": "42"
                                },
                                {
                                    "Country": "United States",
                                    "StateProvince": "Minnesota",
                                    "TotalOrders": "38"
                                },
                                {
                                    "Country": "United States",
                                    "StateProvince": "Virginia",
                                    "TotalOrders": "34"
                                },
                                {
                                    "Country": "United States",
                                    "StateProvince": "Wyoming",
                                    "TotalOrders": "34"
                                },
                                {
                                    "Country": "United States",
                                    "StateProvince": "Massachusetts",
                                    "TotalOrders": "25"
                                },
                                {
                                    "Country": "United States",
                                    "StateProvince": "Wisconsin",
                                    "TotalOrders": "24"
                                },
                                {
                                    "Country": "United States",
                                    "StateProvince": "Kentucky",
                                    "TotalOrders": "23"
                                },
                                {
                                    "Country": "United States",
                                    "StateProvince": "Alabama",
                                    "TotalOrders": "22"
                                },
                                {
                                    "Country": "United States",
                                    "StateProvince": "South Carolina",
                                    "TotalOrders": "22"
                                },
                                {
                                    "Country": "United States",
                                    "StateProvince": "New Mexico",
                                    "TotalOrders": "20"
                                },
                                {
                                    "Country": "United States",
                                    "StateProvince": "Mississippi",
                                    "TotalOrders": "16"
                                },
                                {
                                    "Country": "United States",
                                    "StateProvince": "Montana",
                                    "TotalOrders": "16"
                                },
                                {
                                    "Country": "United States",
                                    "StateProvince": "South Dakota",
                                    "TotalOrders": "14"
                                },
                                {
                                    "Country": "United States",
                                    "StateProvince": "Idaho",
                                    "TotalOrders": "13"
                                },
                                {
                                    "Country": "United States",
                                    "StateProvince": "Maine",
                                    "TotalOrders": "12"
                                },
                                {
                                    "Country": "United States",
                                    "StateProvince": "Rhode Island",
                                    "TotalOrders": "6"
                                },
                                {
                                    "Country": "United States",
                                    "StateProvince": "Maryland",
                                    "TotalOrders": "1"
                                }
                            ],
                            "schema": {
                                "fields": [
                                    {
                                        "name": "Country"
                                    },
                                    {
                                        "name": "StateProvince"
                                    },
                                    {
                                        "name": "TotalOrders"
                                    }
                                ]
                            }
                        },
                        "text/html": [
                            "<table><tr><th>Country</th><th>StateProvince</th><th>TotalOrders</th></tr><tr><td>All</td><td>All</td><td>31465</td></tr><tr><td>Australia</td><td>All</td><td>6843</td></tr><tr><td>Australia</td><td>New South Wales</td><td>3009</td></tr><tr><td>Australia</td><td>Victoria</td><td>1710</td></tr><tr><td>Australia</td><td>Queensland</td><td>1461</td></tr><tr><td>Australia</td><td>South Australia</td><td>466</td></tr><tr><td>Australia</td><td>Tasmania</td><td>197</td></tr><tr><td>Canada</td><td>All</td><td>4067</td></tr><tr><td>Canada</td><td>British Columbia</td><td>3472</td></tr><tr><td>Canada</td><td>Ontario</td><td>339</td></tr><tr><td>Canada</td><td>Quebec</td><td>146</td></tr><tr><td>Canada</td><td>Alberta</td><td>90</td></tr><tr><td>Canada</td><td>Manitoba</td><td>12</td></tr><tr><td>Canada</td><td>Brunswick</td><td>8</td></tr><tr><td>France</td><td>All</td><td>2672</td></tr><tr><td>France</td><td>Seine (Paris)</td><td>575</td></tr><tr><td>France</td><td>Seine Saint Denis</td><td>391</td></tr><tr><td>France</td><td>Nord</td><td>387</td></tr><tr><td>France</td><td>Hauts de Seine</td><td>295</td></tr><tr><td>France</td><td>Essonne</td><td>236</td></tr><tr><td>France</td><td>Yveline</td><td>224</td></tr><tr><td>France</td><td>Loiret</td><td>99</td></tr><tr><td>France</td><td>Seine et Marne</td><td>98</td></tr><tr><td>France</td><td>Moselle</td><td>82</td></tr><tr><td>France</td><td>Val d&#39;Oise</td><td>71</td></tr><tr><td>France</td><td>Garonne (Haute)</td><td>46</td></tr><tr><td>France</td><td>Val de Marne</td><td>43</td></tr><tr><td>France</td><td>Loir et Cher</td><td>38</td></tr><tr><td>France</td><td>Charente-Maritime</td><td>31</td></tr><tr><td>France</td><td>Somme</td><td>30</td></tr><tr><td>France</td><td>Pas de Calais</td><td>26</td></tr><tr><td>Germany</td><td>All</td><td>2623</td></tr><tr><td>Germany</td><td>Saarland</td><td>658</td></tr><tr><td>Germany</td><td>Nordrhein-Westfalen</td><td>570</td></tr><tr><td>Germany</td><td>Hessen</td><td>560</td></tr><tr><td>Germany</td><td>Hamburg</td><td>441</td></tr><tr><td>Germany</td><td>Bayern</td><td>344</td></tr><tr><td>Germany</td><td>Brandenburg</td><td>50</td></tr><tr><td>United Kingdom</td><td>England</td><td>3219</td></tr><tr><td>United Kingdom</td><td>All</td><td>3219</td></tr><tr><td>United States</td><td>All</td><td>12041</td></tr><tr><td>United States</td><td>California</td><td>5884</td></tr><tr><td>United States</td><td>Washington</td><td>3042</td></tr><tr><td>United States</td><td>Oregon</td><td>1380</td></tr><tr><td>United States</td><td>Texas</td><td>253</td></tr><tr><td>United States</td><td>Florida</td><td>159</td></tr><tr><td>United States</td><td>Michigan</td><td>104</td></tr><tr><td>United States</td><td>Tennessee</td><td>92</td></tr><tr><td>United States</td><td>Ohio</td><td>83</td></tr><tr><td>United States</td><td>Georgia</td><td>76</td></tr><tr><td>United States</td><td>Illinois</td><td>73</td></tr><tr><td>United States</td><td>Missouri</td><td>68</td></tr><tr><td>United States</td><td>Arizona</td><td>67</td></tr><tr><td>United States</td><td>Indiana</td><td>65</td></tr><tr><td>United States</td><td>Colorado</td><td>64</td></tr><tr><td>United States</td><td>Utah</td><td>60</td></tr><tr><td>United States</td><td>Connecticut</td><td>59</td></tr><tr><td>United States</td><td>New York</td><td>53</td></tr><tr><td>United States</td><td>Nevada</td><td>49</td></tr><tr><td>United States</td><td>New Hampshire</td><td>48</td></tr><tr><td>United States</td><td>North Carolina</td><td>42</td></tr><tr><td>United States</td><td>Minnesota</td><td>38</td></tr><tr><td>United States</td><td>Virginia</td><td>34</td></tr><tr><td>United States</td><td>Wyoming</td><td>34</td></tr><tr><td>United States</td><td>Massachusetts</td><td>25</td></tr><tr><td>United States</td><td>Wisconsin</td><td>24</td></tr><tr><td>United States</td><td>Kentucky</td><td>23</td></tr><tr><td>United States</td><td>Alabama</td><td>22</td></tr><tr><td>United States</td><td>South Carolina</td><td>22</td></tr><tr><td>United States</td><td>New Mexico</td><td>20</td></tr><tr><td>United States</td><td>Mississippi</td><td>16</td></tr><tr><td>United States</td><td>Montana</td><td>16</td></tr><tr><td>United States</td><td>South Dakota</td><td>14</td></tr><tr><td>United States</td><td>Idaho</td><td>13</td></tr><tr><td>United States</td><td>Maine</td><td>12</td></tr><tr><td>United States</td><td>Rhode Island</td><td>6</td></tr><tr><td>United States</td><td>Maryland</td><td>1</td></tr></table>"
                        ]
                    },
                    "execution_count": 5,
                    "metadata": {},
                    "output_type": "execute_result"
                }
            ],
            "source": [
                "-- Retrieve key metrics or descriptive fields\n",
                "SELECT CASE WHEN c.Name IS NULL THEN 'All'\n",
                "                                ELSE c.Name\n",
                "                                END AS Country\n",
                "-- Apply conditional logic to transform or categorize data\n",
                "       , CASE WHEN sp.Name IS NULL THEN 'All'\n",
                "                        ELSE sp.Name \n",
                "                        END AS StateProvince, COUNT(h.ShipToAddressID) AS TotalOrders\n",
                "FROM Person.Address a\n",
                "-- Enrich the dataset by joining with related dimension or fact tables\n",
                "INNER JOIN Sales.SalesOrderHeader h \n",
                "ON h.ShipToAddressID = a.AddressID\n",
                "INNER JOIN Person.StateProvince sp\n",
                "ON a.StateProvinceID = sp.StateProvinceID\n",
                "INNER JOIN Person.CountryRegion c \n",
                "ON sp.CountryRegionCode = c.CountryRegionCode\n",
                "-- Filter data based on business-specific logic or required constraints\n",
                "WHERE h.[Status] = 5\n",
                "-- Aggregate data to summarize at the desired granularity\n",
                "GROUP BY ROLLUP (c.Name, sp.Name) \n",
                "-- Sort results to prioritize or format final output\n",
                "ORDER BY c.Name ASC, COUNT(h.ShipToAddressID) DESC"
            ]
        },
        {
            "attachments": {},
            "cell_type": "markdown",
            "metadata": {
                "azdata_cell_guid": "ec691e38-23f6-4795-b46e-67762e680c3f"
            },
            "source": [
                "<span style=\"font-size: 12pt; font-family: &quot;Times New Roman&quot;, serif; color: rgb(0, 0, 0); background-color: transparent; font-variant-numeric: normal; font-variant-east-asian: normal; font-variant-alternates: normal; text-decoration-line: underline; text-decoration-skip-ink: none; vertical-align: baseline; white-space-collapse: preserve;\">Part A</span>\n",
                "\n",
                "<span style=\"font-size: 12pt; font-family: &quot;Times New Roman&quot;, serif; color: rgb(0, 0, 0); background-color: transparent; font-variant-numeric: normal; font-variant-east-asian: normal; font-variant-alternates: normal; vertical-align: baseline; white-space-collapse: preserve;\">Write a single query that shows the total number of sales orders from each country and each state/province within each country. Use the full name of each country and state/province.</span>"
            ]
        },
        {
            "cell_type": "code",
            "execution_count": null,
            "metadata": {
                "azdata_cell_guid": "c5fd6ed1-1542-4671-9fa7-982f141ae887",
                "language": "sql",
                "tags": [],
                "vscode": {
                    "languageId": "sql"
                }
            },
            "outputs": [
                {
                    "data": {
                        "text/html": [
                            "(77 rows affected)"
                        ]
                    },
                    "metadata": {},
                    "output_type": "display_data"
                },
                {
                    "data": {
                        "text/html": [
                            "Total execution time: 00:00:00.153"
                        ]
                    },
                    "metadata": {},
                    "output_type": "display_data"
                },
                {
                    "data": {
                        "application/vnd.dataresource+json": {
                            "data": [
                                {
                                    "Country": "All",
                                    "StateProvince": "All",
                                    "TotalSalesOrders": "31465"
                                },
                                {
                                    "Country": "Australia",
                                    "StateProvince": "All",
                                    "TotalSalesOrders": "6843"
                                },
                                {
                                    "Country": "Australia",
                                    "StateProvince": "New South Wales",
                                    "TotalSalesOrders": "3009"
                                },
                                {
                                    "Country": "Australia",
                                    "StateProvince": "Victoria",
                                    "TotalSalesOrders": "1710"
                                },
                                {
                                    "Country": "Australia",
                                    "StateProvince": "Queensland",
                                    "TotalSalesOrders": "1461"
                                },
                                {
                                    "Country": "Australia",
                                    "StateProvince": "South Australia",
                                    "TotalSalesOrders": "466"
                                },
                                {
                                    "Country": "Australia",
                                    "StateProvince": "Tasmania",
                                    "TotalSalesOrders": "197"
                                },
                                {
                                    "Country": "Canada",
                                    "StateProvince": "All",
                                    "TotalSalesOrders": "4067"
                                },
                                {
                                    "Country": "Canada",
                                    "StateProvince": "British Columbia",
                                    "TotalSalesOrders": "3472"
                                },
                                {
                                    "Country": "Canada",
                                    "StateProvince": "Ontario",
                                    "TotalSalesOrders": "339"
                                },
                                {
                                    "Country": "Canada",
                                    "StateProvince": "Quebec",
                                    "TotalSalesOrders": "146"
                                },
                                {
                                    "Country": "Canada",
                                    "StateProvince": "Alberta",
                                    "TotalSalesOrders": "90"
                                },
                                {
                                    "Country": "Canada",
                                    "StateProvince": "Manitoba",
                                    "TotalSalesOrders": "12"
                                },
                                {
                                    "Country": "Canada",
                                    "StateProvince": "Brunswick",
                                    "TotalSalesOrders": "8"
                                },
                                {
                                    "Country": "France",
                                    "StateProvince": "All",
                                    "TotalSalesOrders": "2672"
                                },
                                {
                                    "Country": "France",
                                    "StateProvince": "Seine (Paris)",
                                    "TotalSalesOrders": "575"
                                },
                                {
                                    "Country": "France",
                                    "StateProvince": "Seine Saint Denis",
                                    "TotalSalesOrders": "391"
                                },
                                {
                                    "Country": "France",
                                    "StateProvince": "Nord",
                                    "TotalSalesOrders": "387"
                                },
                                {
                                    "Country": "France",
                                    "StateProvince": "Hauts de Seine",
                                    "TotalSalesOrders": "295"
                                },
                                {
                                    "Country": "France",
                                    "StateProvince": "Essonne",
                                    "TotalSalesOrders": "236"
                                },
                                {
                                    "Country": "France",
                                    "StateProvince": "Yveline",
                                    "TotalSalesOrders": "224"
                                },
                                {
                                    "Country": "France",
                                    "StateProvince": "Loiret",
                                    "TotalSalesOrders": "99"
                                },
                                {
                                    "Country": "France",
                                    "StateProvince": "Seine et Marne",
                                    "TotalSalesOrders": "98"
                                },
                                {
                                    "Country": "France",
                                    "StateProvince": "Moselle",
                                    "TotalSalesOrders": "82"
                                },
                                {
                                    "Country": "France",
                                    "StateProvince": "Val d'Oise",
                                    "TotalSalesOrders": "71"
                                },
                                {
                                    "Country": "France",
                                    "StateProvince": "Garonne (Haute)",
                                    "TotalSalesOrders": "46"
                                },
                                {
                                    "Country": "France",
                                    "StateProvince": "Val de Marne",
                                    "TotalSalesOrders": "43"
                                },
                                {
                                    "Country": "France",
                                    "StateProvince": "Loir et Cher",
                                    "TotalSalesOrders": "38"
                                },
                                {
                                    "Country": "France",
                                    "StateProvince": "Charente-Maritime",
                                    "TotalSalesOrders": "31"
                                },
                                {
                                    "Country": "France",
                                    "StateProvince": "Somme",
                                    "TotalSalesOrders": "30"
                                },
                                {
                                    "Country": "France",
                                    "StateProvince": "Pas de Calais",
                                    "TotalSalesOrders": "26"
                                },
                                {
                                    "Country": "Germany",
                                    "StateProvince": "All",
                                    "TotalSalesOrders": "2623"
                                },
                                {
                                    "Country": "Germany",
                                    "StateProvince": "Saarland",
                                    "TotalSalesOrders": "658"
                                },
                                {
                                    "Country": "Germany",
                                    "StateProvince": "Nordrhein-Westfalen",
                                    "TotalSalesOrders": "570"
                                },
                                {
                                    "Country": "Germany",
                                    "StateProvince": "Hessen",
                                    "TotalSalesOrders": "560"
                                },
                                {
                                    "Country": "Germany",
                                    "StateProvince": "Hamburg",
                                    "TotalSalesOrders": "441"
                                },
                                {
                                    "Country": "Germany",
                                    "StateProvince": "Bayern",
                                    "TotalSalesOrders": "344"
                                },
                                {
                                    "Country": "Germany",
                                    "StateProvince": "Brandenburg",
                                    "TotalSalesOrders": "50"
                                },
                                {
                                    "Country": "United Kingdom",
                                    "StateProvince": "England",
                                    "TotalSalesOrders": "3219"
                                },
                                {
                                    "Country": "United Kingdom",
                                    "StateProvince": "All",
                                    "TotalSalesOrders": "3219"
                                },
                                {
                                    "Country": "United States",
                                    "StateProvince": "All",
                                    "TotalSalesOrders": "12041"
                                },
                                {
                                    "Country": "United States",
                                    "StateProvince": "California",
                                    "TotalSalesOrders": "5884"
                                },
                                {
                                    "Country": "United States",
                                    "StateProvince": "Washington",
                                    "TotalSalesOrders": "3042"
                                },
                                {
                                    "Country": "United States",
                                    "StateProvince": "Oregon",
                                    "TotalSalesOrders": "1380"
                                },
                                {
                                    "Country": "United States",
                                    "StateProvince": "Texas",
                                    "TotalSalesOrders": "253"
                                },
                                {
                                    "Country": "United States",
                                    "StateProvince": "Florida",
                                    "TotalSalesOrders": "159"
                                },
                                {
                                    "Country": "United States",
                                    "StateProvince": "Michigan",
                                    "TotalSalesOrders": "104"
                                },
                                {
                                    "Country": "United States",
                                    "StateProvince": "Tennessee",
                                    "TotalSalesOrders": "92"
                                },
                                {
                                    "Country": "United States",
                                    "StateProvince": "Ohio",
                                    "TotalSalesOrders": "83"
                                },
                                {
                                    "Country": "United States",
                                    "StateProvince": "Georgia",
                                    "TotalSalesOrders": "76"
                                },
                                {
                                    "Country": "United States",
                                    "StateProvince": "Illinois",
                                    "TotalSalesOrders": "73"
                                },
                                {
                                    "Country": "United States",
                                    "StateProvince": "Missouri",
                                    "TotalSalesOrders": "68"
                                },
                                {
                                    "Country": "United States",
                                    "StateProvince": "Arizona",
                                    "TotalSalesOrders": "67"
                                },
                                {
                                    "Country": "United States",
                                    "StateProvince": "Indiana",
                                    "TotalSalesOrders": "65"
                                },
                                {
                                    "Country": "United States",
                                    "StateProvince": "Colorado",
                                    "TotalSalesOrders": "64"
                                },
                                {
                                    "Country": "United States",
                                    "StateProvince": "Utah",
                                    "TotalSalesOrders": "60"
                                },
                                {
                                    "Country": "United States",
                                    "StateProvince": "Connecticut",
                                    "TotalSalesOrders": "59"
                                },
                                {
                                    "Country": "United States",
                                    "StateProvince": "New York",
                                    "TotalSalesOrders": "53"
                                },
                                {
                                    "Country": "United States",
                                    "StateProvince": "Nevada",
                                    "TotalSalesOrders": "49"
                                },
                                {
                                    "Country": "United States",
                                    "StateProvince": "New Hampshire",
                                    "TotalSalesOrders": "48"
                                },
                                {
                                    "Country": "United States",
                                    "StateProvince": "North Carolina",
                                    "TotalSalesOrders": "42"
                                },
                                {
                                    "Country": "United States",
                                    "StateProvince": "Minnesota",
                                    "TotalSalesOrders": "38"
                                },
                                {
                                    "Country": "United States",
                                    "StateProvince": "Virginia",
                                    "TotalSalesOrders": "34"
                                },
                                {
                                    "Country": "United States",
                                    "StateProvince": "Wyoming",
                                    "TotalSalesOrders": "34"
                                },
                                {
                                    "Country": "United States",
                                    "StateProvince": "Massachusetts",
                                    "TotalSalesOrders": "25"
                                },
                                {
                                    "Country": "United States",
                                    "StateProvince": "Wisconsin",
                                    "TotalSalesOrders": "24"
                                },
                                {
                                    "Country": "United States",
                                    "StateProvince": "Kentucky",
                                    "TotalSalesOrders": "23"
                                },
                                {
                                    "Country": "United States",
                                    "StateProvince": "Alabama",
                                    "TotalSalesOrders": "22"
                                },
                                {
                                    "Country": "United States",
                                    "StateProvince": "South Carolina",
                                    "TotalSalesOrders": "22"
                                },
                                {
                                    "Country": "United States",
                                    "StateProvince": "New Mexico",
                                    "TotalSalesOrders": "20"
                                },
                                {
                                    "Country": "United States",
                                    "StateProvince": "Mississippi",
                                    "TotalSalesOrders": "16"
                                },
                                {
                                    "Country": "United States",
                                    "StateProvince": "Montana",
                                    "TotalSalesOrders": "16"
                                },
                                {
                                    "Country": "United States",
                                    "StateProvince": "South Dakota",
                                    "TotalSalesOrders": "14"
                                },
                                {
                                    "Country": "United States",
                                    "StateProvince": "Idaho",
                                    "TotalSalesOrders": "13"
                                },
                                {
                                    "Country": "United States",
                                    "StateProvince": "Maine",
                                    "TotalSalesOrders": "12"
                                },
                                {
                                    "Country": "United States",
                                    "StateProvince": "Rhode Island",
                                    "TotalSalesOrders": "6"
                                },
                                {
                                    "Country": "United States",
                                    "StateProvince": "Maryland",
                                    "TotalSalesOrders": "1"
                                }
                            ],
                            "schema": {
                                "fields": [
                                    {
                                        "name": "Country"
                                    },
                                    {
                                        "name": "StateProvince"
                                    },
                                    {
                                        "name": "TotalSalesOrders"
                                    }
                                ]
                            }
                        },
                        "text/html": [
                            "<table><tr><th>Country</th><th>StateProvince</th><th>TotalSalesOrders</th></tr><tr><td>All</td><td>All</td><td>31465</td></tr><tr><td>Australia</td><td>All</td><td>6843</td></tr><tr><td>Australia</td><td>New South Wales</td><td>3009</td></tr><tr><td>Australia</td><td>Victoria</td><td>1710</td></tr><tr><td>Australia</td><td>Queensland</td><td>1461</td></tr><tr><td>Australia</td><td>South Australia</td><td>466</td></tr><tr><td>Australia</td><td>Tasmania</td><td>197</td></tr><tr><td>Canada</td><td>All</td><td>4067</td></tr><tr><td>Canada</td><td>British Columbia</td><td>3472</td></tr><tr><td>Canada</td><td>Ontario</td><td>339</td></tr><tr><td>Canada</td><td>Quebec</td><td>146</td></tr><tr><td>Canada</td><td>Alberta</td><td>90</td></tr><tr><td>Canada</td><td>Manitoba</td><td>12</td></tr><tr><td>Canada</td><td>Brunswick</td><td>8</td></tr><tr><td>France</td><td>All</td><td>2672</td></tr><tr><td>France</td><td>Seine (Paris)</td><td>575</td></tr><tr><td>France</td><td>Seine Saint Denis</td><td>391</td></tr><tr><td>France</td><td>Nord</td><td>387</td></tr><tr><td>France</td><td>Hauts de Seine</td><td>295</td></tr><tr><td>France</td><td>Essonne</td><td>236</td></tr><tr><td>France</td><td>Yveline</td><td>224</td></tr><tr><td>France</td><td>Loiret</td><td>99</td></tr><tr><td>France</td><td>Seine et Marne</td><td>98</td></tr><tr><td>France</td><td>Moselle</td><td>82</td></tr><tr><td>France</td><td>Val d&#39;Oise</td><td>71</td></tr><tr><td>France</td><td>Garonne (Haute)</td><td>46</td></tr><tr><td>France</td><td>Val de Marne</td><td>43</td></tr><tr><td>France</td><td>Loir et Cher</td><td>38</td></tr><tr><td>France</td><td>Charente-Maritime</td><td>31</td></tr><tr><td>France</td><td>Somme</td><td>30</td></tr><tr><td>France</td><td>Pas de Calais</td><td>26</td></tr><tr><td>Germany</td><td>All</td><td>2623</td></tr><tr><td>Germany</td><td>Saarland</td><td>658</td></tr><tr><td>Germany</td><td>Nordrhein-Westfalen</td><td>570</td></tr><tr><td>Germany</td><td>Hessen</td><td>560</td></tr><tr><td>Germany</td><td>Hamburg</td><td>441</td></tr><tr><td>Germany</td><td>Bayern</td><td>344</td></tr><tr><td>Germany</td><td>Brandenburg</td><td>50</td></tr><tr><td>United Kingdom</td><td>England</td><td>3219</td></tr><tr><td>United Kingdom</td><td>All</td><td>3219</td></tr><tr><td>United States</td><td>All</td><td>12041</td></tr><tr><td>United States</td><td>California</td><td>5884</td></tr><tr><td>United States</td><td>Washington</td><td>3042</td></tr><tr><td>United States</td><td>Oregon</td><td>1380</td></tr><tr><td>United States</td><td>Texas</td><td>253</td></tr><tr><td>United States</td><td>Florida</td><td>159</td></tr><tr><td>United States</td><td>Michigan</td><td>104</td></tr><tr><td>United States</td><td>Tennessee</td><td>92</td></tr><tr><td>United States</td><td>Ohio</td><td>83</td></tr><tr><td>United States</td><td>Georgia</td><td>76</td></tr><tr><td>United States</td><td>Illinois</td><td>73</td></tr><tr><td>United States</td><td>Missouri</td><td>68</td></tr><tr><td>United States</td><td>Arizona</td><td>67</td></tr><tr><td>United States</td><td>Indiana</td><td>65</td></tr><tr><td>United States</td><td>Colorado</td><td>64</td></tr><tr><td>United States</td><td>Utah</td><td>60</td></tr><tr><td>United States</td><td>Connecticut</td><td>59</td></tr><tr><td>United States</td><td>New York</td><td>53</td></tr><tr><td>United States</td><td>Nevada</td><td>49</td></tr><tr><td>United States</td><td>New Hampshire</td><td>48</td></tr><tr><td>United States</td><td>North Carolina</td><td>42</td></tr><tr><td>United States</td><td>Minnesota</td><td>38</td></tr><tr><td>United States</td><td>Virginia</td><td>34</td></tr><tr><td>United States</td><td>Wyoming</td><td>34</td></tr><tr><td>United States</td><td>Massachusetts</td><td>25</td></tr><tr><td>United States</td><td>Wisconsin</td><td>24</td></tr><tr><td>United States</td><td>Kentucky</td><td>23</td></tr><tr><td>United States</td><td>Alabama</td><td>22</td></tr><tr><td>United States</td><td>South Carolina</td><td>22</td></tr><tr><td>United States</td><td>New Mexico</td><td>20</td></tr><tr><td>United States</td><td>Mississippi</td><td>16</td></tr><tr><td>United States</td><td>Montana</td><td>16</td></tr><tr><td>United States</td><td>South Dakota</td><td>14</td></tr><tr><td>United States</td><td>Idaho</td><td>13</td></tr><tr><td>United States</td><td>Maine</td><td>12</td></tr><tr><td>United States</td><td>Rhode Island</td><td>6</td></tr><tr><td>United States</td><td>Maryland</td><td>1</td></tr></table>"
                        ]
                    },
                    "execution_count": 3,
                    "metadata": {},
                    "output_type": "execute_result"
                }
            ],
            "source": [
                "-- Retrieve key metrics or descriptive fields\n",
                "SELECT CASE WHEN c.Name IS NULL THEN 'All'\n",
                "                                ELSE c.Name\n",
                "                                END AS Country\n",
                "-- Apply conditional logic to transform or categorize data\n",
                "       , CASE WHEN sp.Name IS NULL THEN 'All'\n",
                "                        ELSE sp.Name \n",
                "                        END AS StateProvince, COUNT(h.SalesOrderNumber) AS TotalSalesOrders\n",
                "FROM Person.Address a\n",
                "-- Enrich the dataset by joining with related dimension or fact tables\n",
                "INNER JOIN Sales.SalesOrderHeader h \n",
                "ON h.ShipToAddressID = a.AddressID\n",
                "INNER JOIN Person.StateProvince sp\n",
                "ON a.StateProvinceID = sp.StateProvinceID\n",
                "INNER JOIN Person.CountryRegion c \n",
                "ON sp.CountryRegionCode = c.CountryRegionCode\n",
                "-- Aggregate data to summarize at the desired granularity\n",
                "GROUP BY ROLLUP (c.Name, sp.Name) \n",
                "-- Sort results to prioritize or format final output\n",
                "ORDER BY c.Name ASC, COUNT(h.SalesOrderNumber) DESC"
            ]
        },
        {
            "attachments": {},
            "cell_type": "markdown",
            "metadata": {
                "azdata_cell_guid": "54185f35-a54f-4b13-b806-c4fc4038a342"
            },
            "source": [
                "<span style=\"font-size: 12pt; font-family: &quot;Times New Roman&quot;, serif; color: rgb(0, 0, 0); background-color: transparent; font-variant-numeric: normal; font-variant-east-asian: normal; font-variant-alternates: normal; text-decoration-line: underline; text-decoration-skip-ink: none; vertical-align: baseline; white-space-collapse: preserve;\">Part B</span>\n",
                "\n",
                "<span style=\"font-size: 12pt; font-family: &quot;Times New Roman&quot;, serif; color: rgb(0, 0, 0); background-color: transparent; font-variant-numeric: normal; font-variant-east-asian: normal; font-variant-alternates: normal; vertical-align: baseline; white-space-collapse: preserve;\">Modify your query to only show cases with 100 or more orders, sorted in the same fashion as Part A.</span>\n",
                "\n",
                "<span style=\"font-size: 12pt; font-family: &quot;Times New Roman&quot;, serif; color: rgb(0, 0, 0); background-color: transparent; font-variant-numeric: normal; font-variant-east-asian: normal; font-variant-alternates: normal; vertical-align: baseline; white-space-collapse: preserve;\"><br></span>"
            ]
        },
        {
            "cell_type": "code",
            "execution_count": null,
            "metadata": {
                "azdata_cell_guid": "b503ba62-89b9-49eb-8b95-48fd38c5be66",
                "language": "sql",
                "tags": [],
                "vscode": {
                    "languageId": "sql"
                }
            },
            "outputs": [
                {
                    "data": {
                        "text/html": [
                            "(33 rows affected)"
                        ]
                    },
                    "metadata": {},
                    "output_type": "display_data"
                },
                {
                    "data": {
                        "text/html": [
                            "Total execution time: 00:00:00.132"
                        ]
                    },
                    "metadata": {},
                    "output_type": "display_data"
                },
                {
                    "data": {
                        "application/vnd.dataresource+json": {
                            "data": [
                                {
                                    "Country": "All",
                                    "StateProvince": "All",
                                    "TotalSalesOrders": "31465"
                                },
                                {
                                    "Country": "Australia",
                                    "StateProvince": "All",
                                    "TotalSalesOrders": "6843"
                                },
                                {
                                    "Country": "Australia",
                                    "StateProvince": "New South Wales",
                                    "TotalSalesOrders": "3009"
                                },
                                {
                                    "Country": "Australia",
                                    "StateProvince": "Victoria",
                                    "TotalSalesOrders": "1710"
                                },
                                {
                                    "Country": "Australia",
                                    "StateProvince": "Queensland",
                                    "TotalSalesOrders": "1461"
                                },
                                {
                                    "Country": "Australia",
                                    "StateProvince": "South Australia",
                                    "TotalSalesOrders": "466"
                                },
                                {
                                    "Country": "Australia",
                                    "StateProvince": "Tasmania",
                                    "TotalSalesOrders": "197"
                                },
                                {
                                    "Country": "Canada",
                                    "StateProvince": "All",
                                    "TotalSalesOrders": "4067"
                                },
                                {
                                    "Country": "Canada",
                                    "StateProvince": "British Columbia",
                                    "TotalSalesOrders": "3472"
                                },
                                {
                                    "Country": "Canada",
                                    "StateProvince": "Ontario",
                                    "TotalSalesOrders": "339"
                                },
                                {
                                    "Country": "Canada",
                                    "StateProvince": "Quebec",
                                    "TotalSalesOrders": "146"
                                },
                                {
                                    "Country": "France",
                                    "StateProvince": "All",
                                    "TotalSalesOrders": "2672"
                                },
                                {
                                    "Country": "France",
                                    "StateProvince": "Seine (Paris)",
                                    "TotalSalesOrders": "575"
                                },
                                {
                                    "Country": "France",
                                    "StateProvince": "Seine Saint Denis",
                                    "TotalSalesOrders": "391"
                                },
                                {
                                    "Country": "France",
                                    "StateProvince": "Nord",
                                    "TotalSalesOrders": "387"
                                },
                                {
                                    "Country": "France",
                                    "StateProvince": "Hauts de Seine",
                                    "TotalSalesOrders": "295"
                                },
                                {
                                    "Country": "France",
                                    "StateProvince": "Essonne",
                                    "TotalSalesOrders": "236"
                                },
                                {
                                    "Country": "France",
                                    "StateProvince": "Yveline",
                                    "TotalSalesOrders": "224"
                                },
                                {
                                    "Country": "Germany",
                                    "StateProvince": "All",
                                    "TotalSalesOrders": "2623"
                                },
                                {
                                    "Country": "Germany",
                                    "StateProvince": "Saarland",
                                    "TotalSalesOrders": "658"
                                },
                                {
                                    "Country": "Germany",
                                    "StateProvince": "Nordrhein-Westfalen",
                                    "TotalSalesOrders": "570"
                                },
                                {
                                    "Country": "Germany",
                                    "StateProvince": "Hessen",
                                    "TotalSalesOrders": "560"
                                },
                                {
                                    "Country": "Germany",
                                    "StateProvince": "Hamburg",
                                    "TotalSalesOrders": "441"
                                },
                                {
                                    "Country": "Germany",
                                    "StateProvince": "Bayern",
                                    "TotalSalesOrders": "344"
                                },
                                {
                                    "Country": "United Kingdom",
                                    "StateProvince": "England",
                                    "TotalSalesOrders": "3219"
                                },
                                {
                                    "Country": "United Kingdom",
                                    "StateProvince": "All",
                                    "TotalSalesOrders": "3219"
                                },
                                {
                                    "Country": "United States",
                                    "StateProvince": "All",
                                    "TotalSalesOrders": "12041"
                                },
                                {
                                    "Country": "United States",
                                    "StateProvince": "California",
                                    "TotalSalesOrders": "5884"
                                },
                                {
                                    "Country": "United States",
                                    "StateProvince": "Washington",
                                    "TotalSalesOrders": "3042"
                                },
                                {
                                    "Country": "United States",
                                    "StateProvince": "Oregon",
                                    "TotalSalesOrders": "1380"
                                },
                                {
                                    "Country": "United States",
                                    "StateProvince": "Texas",
                                    "TotalSalesOrders": "253"
                                },
                                {
                                    "Country": "United States",
                                    "StateProvince": "Florida",
                                    "TotalSalesOrders": "159"
                                },
                                {
                                    "Country": "United States",
                                    "StateProvince": "Michigan",
                                    "TotalSalesOrders": "104"
                                }
                            ],
                            "schema": {
                                "fields": [
                                    {
                                        "name": "Country"
                                    },
                                    {
                                        "name": "StateProvince"
                                    },
                                    {
                                        "name": "TotalSalesOrders"
                                    }
                                ]
                            }
                        },
                        "text/html": [
                            "<table><tr><th>Country</th><th>StateProvince</th><th>TotalSalesOrders</th></tr><tr><td>All</td><td>All</td><td>31465</td></tr><tr><td>Australia</td><td>All</td><td>6843</td></tr><tr><td>Australia</td><td>New South Wales</td><td>3009</td></tr><tr><td>Australia</td><td>Victoria</td><td>1710</td></tr><tr><td>Australia</td><td>Queensland</td><td>1461</td></tr><tr><td>Australia</td><td>South Australia</td><td>466</td></tr><tr><td>Australia</td><td>Tasmania</td><td>197</td></tr><tr><td>Canada</td><td>All</td><td>4067</td></tr><tr><td>Canada</td><td>British Columbia</td><td>3472</td></tr><tr><td>Canada</td><td>Ontario</td><td>339</td></tr><tr><td>Canada</td><td>Quebec</td><td>146</td></tr><tr><td>France</td><td>All</td><td>2672</td></tr><tr><td>France</td><td>Seine (Paris)</td><td>575</td></tr><tr><td>France</td><td>Seine Saint Denis</td><td>391</td></tr><tr><td>France</td><td>Nord</td><td>387</td></tr><tr><td>France</td><td>Hauts de Seine</td><td>295</td></tr><tr><td>France</td><td>Essonne</td><td>236</td></tr><tr><td>France</td><td>Yveline</td><td>224</td></tr><tr><td>Germany</td><td>All</td><td>2623</td></tr><tr><td>Germany</td><td>Saarland</td><td>658</td></tr><tr><td>Germany</td><td>Nordrhein-Westfalen</td><td>570</td></tr><tr><td>Germany</td><td>Hessen</td><td>560</td></tr><tr><td>Germany</td><td>Hamburg</td><td>441</td></tr><tr><td>Germany</td><td>Bayern</td><td>344</td></tr><tr><td>United Kingdom</td><td>England</td><td>3219</td></tr><tr><td>United Kingdom</td><td>All</td><td>3219</td></tr><tr><td>United States</td><td>All</td><td>12041</td></tr><tr><td>United States</td><td>California</td><td>5884</td></tr><tr><td>United States</td><td>Washington</td><td>3042</td></tr><tr><td>United States</td><td>Oregon</td><td>1380</td></tr><tr><td>United States</td><td>Texas</td><td>253</td></tr><tr><td>United States</td><td>Florida</td><td>159</td></tr><tr><td>United States</td><td>Michigan</td><td>104</td></tr></table>"
                        ]
                    },
                    "execution_count": 4,
                    "metadata": {},
                    "output_type": "execute_result"
                }
            ],
            "source": [
                "-- Retrieve key metrics or descriptive fields\n",
                "SELECT CASE WHEN c.Name IS NULL THEN 'All'\n",
                "                                ELSE c.Name\n",
                "                                END AS Country\n",
                "-- Apply conditional logic to transform or categorize data\n",
                "       , CASE WHEN sp.Name IS NULL THEN 'All'\n",
                "                        ELSE sp.Name \n",
                "                        END AS StateProvince, COUNT(h.SalesOrderNumber) AS TotalSalesOrders\n",
                "FROM Person.Address a\n",
                "-- Enrich the dataset by joining with related dimension or fact tables\n",
                "INNER JOIN Sales.SalesOrderHeader h \n",
                "ON h.ShipToAddressID = a.AddressID\n",
                "INNER JOIN Person.StateProvince sp\n",
                "ON a.StateProvinceID = sp.StateProvinceID\n",
                "INNER JOIN Person.CountryRegion c \n",
                "ON sp.CountryRegionCode = c.CountryRegionCode\n",
                "-- Aggregate data to summarize at the desired granularity\n",
                "GROUP BY ROLLUP (c.Name, sp.Name)\n",
                "HAVING COUNT(h.SalesOrderNumber) >= 100\n",
                "-- Sort results to prioritize or format final output\n",
                "ORDER BY c.Name ASC, COUNT(h.SalesOrderNumber) DESC"
            ]
        },
        {
            "attachments": {},
            "cell_type": "markdown",
            "metadata": {
                "azdata_cell_guid": "9ed58626-5030-4cd2-acc8-de771ddc0c2a"
            },
            "source": [
                "<span style=\"font-size: 12pt; font-family: &quot;Times New Roman&quot;, serif; color: rgb(0, 0, 0); background-color: transparent; font-weight: 700; font-variant-numeric: normal; font-variant-east-asian: normal; font-variant-alternates: normal; text-decoration-line: underline; text-decoration-skip-ink: none; vertical-align: baseline; white-space-collapse: preserve;\">Problem 3</span>\n",
                "\n",
                "<span style=\"font-size: 12pt; font-family: &quot;Times New Roman&quot;, serif; color: rgb(0, 0, 0); background-color: transparent; font-variant-numeric: normal; font-variant-east-asian: normal; font-variant-alternates: normal; vertical-align: baseline; white-space-collapse: preserve;\">Produce a report showing the total number of units for each product sold by AdventureWorks that also includes the category of each product and each product's sales rank and quintile within the category.&nbsp; Make sure the result set is alphabetical by category and in the appropriate rank order.</span>\n",
                "\n",
                "<span style=\"font-size: 12pt; font-family: &quot;Times New Roman&quot;, serif; color: rgb(0, 0, 0); background-color: transparent; font-variant-numeric: normal; font-variant-east-asian: normal; font-variant-alternates: normal; vertical-align: baseline; white-space-collapse: preserve;\"><br></span>"
            ]
        },
        {
            "cell_type": "code",
            "execution_count": null,
            "metadata": {
                "azdata_cell_guid": "8fca1ea2-b155-48be-aca0-9ed70045dea8",
                "language": "sql",
                "tags": [],
                "vscode": {
                    "languageId": "sql"
                }
            },
            "outputs": [
                {
                    "data": {
                        "text/html": [
                            "(266 rows affected)"
                        ]
                    },
                    "metadata": {},
                    "output_type": "display_data"
                },
                {
                    "data": {
                        "text/html": [
                            "Total execution time: 00:00:00.256"
                        ]
                    },
                    "metadata": {},
                    "output_type": "display_data"
                },
                {
                    "data": {
                        "application/vnd.dataresource+json": {
                            "data": [
                                {
                                    "Name": "Water Bottle - 30 oz.",
                                    "Quintile": "1",
                                    "Rank": "1",
                                    "TotalUnits": "6815"
                                },
                                {
                                    "Name": "Sport-100 Helmet, Blue",
                                    "Quintile": "1",
                                    "Rank": "2",
                                    "TotalUnits": "6743"
                                },
                                {
                                    "Name": "Sport-100 Helmet, Black",
                                    "Quintile": "1",
                                    "Rank": "3",
                                    "TotalUnits": "6532"
                                },
                                {
                                    "Name": "Sport-100 Helmet, Red",
                                    "Quintile": "1",
                                    "Rank": "4",
                                    "TotalUnits": "6266"
                                },
                                {
                                    "Name": "Patch Kit/8 Patches",
                                    "Quintile": "1",
                                    "Rank": "5",
                                    "TotalUnits": "3865"
                                },
                                {
                                    "Name": "Bike Wash - Dissolver",
                                    "Quintile": "2",
                                    "Rank": "6",
                                    "TotalUnits": "3319"
                                },
                                {
                                    "Name": "Hitch Rack - 4-Bike",
                                    "Quintile": "2",
                                    "Rank": "7",
                                    "TotalUnits": "3166"
                                },
                                {
                                    "Name": "Mountain Tire Tube",
                                    "Quintile": "2",
                                    "Rank": "8",
                                    "TotalUnits": "3095"
                                },
                                {
                                    "Name": "Hydration Pack - 70 oz.",
                                    "Quintile": "2",
                                    "Rank": "9",
                                    "TotalUnits": "2761"
                                },
                                {
                                    "Name": "Road Tire Tube",
                                    "Quintile": "2",
                                    "Rank": "10",
                                    "TotalUnits": "2376"
                                },
                                {
                                    "Name": "Fender Set - Mountain",
                                    "Quintile": "3",
                                    "Rank": "11",
                                    "TotalUnits": "2121"
                                },
                                {
                                    "Name": "Mountain Bottle Cage",
                                    "Quintile": "3",
                                    "Rank": "12",
                                    "TotalUnits": "2025"
                                },
                                {
                                    "Name": "Road Bottle Cage",
                                    "Quintile": "3",
                                    "Rank": "13",
                                    "TotalUnits": "1712"
                                },
                                {
                                    "Name": "Touring Tire Tube",
                                    "Quintile": "3",
                                    "Rank": "14",
                                    "TotalUnits": "1488"
                                },
                                {
                                    "Name": "HL Mountain Tire",
                                    "Quintile": "3",
                                    "Rank": "15",
                                    "TotalUnits": "1396"
                                },
                                {
                                    "Name": "ML Mountain Tire",
                                    "Quintile": "4",
                                    "Rank": "16",
                                    "TotalUnits": "1161"
                                },
                                {
                                    "Name": "Minipump",
                                    "Quintile": "4",
                                    "Rank": "17",
                                    "TotalUnits": "1130"
                                },
                                {
                                    "Name": "Cable Lock",
                                    "Quintile": "4",
                                    "Rank": "18",
                                    "TotalUnits": "1087"
                                },
                                {
                                    "Name": "LL Road Tire",
                                    "Quintile": "4",
                                    "Rank": "19",
                                    "TotalUnits": "1044"
                                },
                                {
                                    "Name": "Touring Tire",
                                    "Quintile": "4",
                                    "Rank": "20",
                                    "TotalUnits": "935"
                                },
                                {
                                    "Name": "ML Road Tire",
                                    "Quintile": "5",
                                    "Rank": "21",
                                    "TotalUnits": "926"
                                },
                                {
                                    "Name": "LL Mountain Tire",
                                    "Quintile": "5",
                                    "Rank": "22",
                                    "TotalUnits": "862"
                                },
                                {
                                    "Name": "HL Road Tire",
                                    "Quintile": "5",
                                    "Rank": "23",
                                    "TotalUnits": "858"
                                },
                                {
                                    "Name": "All-Purpose Bike Stand",
                                    "Quintile": "5",
                                    "Rank": "24",
                                    "TotalUnits": "249"
                                },
                                {
                                    "Name": "Mountain-200 Black, 38",
                                    "Quintile": "1",
                                    "Rank": "1",
                                    "TotalUnits": "2977"
                                },
                                {
                                    "Name": "Mountain-200 Black, 42",
                                    "Quintile": "1",
                                    "Rank": "2",
                                    "TotalUnits": "2664"
                                },
                                {
                                    "Name": "Mountain-200 Silver, 38",
                                    "Quintile": "1",
                                    "Rank": "3",
                                    "TotalUnits": "2394"
                                },
                                {
                                    "Name": "Road-650 Black, 52",
                                    "Quintile": "1",
                                    "Rank": "4",
                                    "TotalUnits": "2270"
                                },
                                {
                                    "Name": "Road-650 Red, 44",
                                    "Quintile": "1",
                                    "Rank": "5",
                                    "TotalUnits": "2254"
                                },
                                {
                                    "Name": "Mountain-200 Silver, 42",
                                    "Quintile": "1",
                                    "Rank": "6",
                                    "TotalUnits": "2234"
                                },
                                {
                                    "Name": "Road-650 Red, 60",
                                    "Quintile": "1",
                                    "Rank": "7",
                                    "TotalUnits": "2232"
                                },
                                {
                                    "Name": "Mountain-200 Silver, 46",
                                    "Quintile": "1",
                                    "Rank": "8",
                                    "TotalUnits": "2216"
                                },
                                {
                                    "Name": "Mountain-200 Black, 46",
                                    "Quintile": "1",
                                    "Rank": "9",
                                    "TotalUnits": "2111"
                                },
                                {
                                    "Name": "Road-650 Red, 62",
                                    "Quintile": "1",
                                    "Rank": "10",
                                    "TotalUnits": "1896"
                                },
                                {
                                    "Name": "Road-650 Red, 48",
                                    "Quintile": "1",
                                    "Rank": "11",
                                    "TotalUnits": "1888"
                                },
                                {
                                    "Name": "Road-650 Black, 58",
                                    "Quintile": "1",
                                    "Rank": "12",
                                    "TotalUnits": "1871"
                                },
                                {
                                    "Name": "Road-550-W Yellow, 48",
                                    "Quintile": "1",
                                    "Rank": "13",
                                    "TotalUnits": "1763"
                                },
                                {
                                    "Name": "Road-550-W Yellow, 38",
                                    "Quintile": "1",
                                    "Rank": "14",
                                    "TotalUnits": "1744"
                                },
                                {
                                    "Name": "Road-250 Black, 44",
                                    "Quintile": "1",
                                    "Rank": "15",
                                    "TotalUnits": "1642"
                                },
                                {
                                    "Name": "Road-350-W Yellow, 48",
                                    "Quintile": "1",
                                    "Rank": "16",
                                    "TotalUnits": "1622"
                                },
                                {
                                    "Name": "Road-750 Black, 48",
                                    "Quintile": "1",
                                    "Rank": "17",
                                    "TotalUnits": "1556"
                                },
                                {
                                    "Name": "Road-550-W Yellow, 40",
                                    "Quintile": "1",
                                    "Rank": "18",
                                    "TotalUnits": "1500"
                                },
                                {
                                    "Name": "Road-250 Black, 48",
                                    "Quintile": "1",
                                    "Rank": "19",
                                    "TotalUnits": "1498"
                                },
                                {
                                    "Name": "Road-350-W Yellow, 40",
                                    "Quintile": "1",
                                    "Rank": "20",
                                    "TotalUnits": "1477"
                                },
                                {
                                    "Name": "Road-750 Black, 52",
                                    "Quintile": "2",
                                    "Rank": "21",
                                    "TotalUnits": "1338"
                                },
                                {
                                    "Name": "Road-550-W Yellow, 42",
                                    "Quintile": "2",
                                    "Rank": "22",
                                    "TotalUnits": "1249"
                                },
                                {
                                    "Name": "Road-250 Black, 52",
                                    "Quintile": "2",
                                    "Rank": "23",
                                    "TotalUnits": "1245"
                                },
                                {
                                    "Name": "Touring-1000 Blue, 60",
                                    "Quintile": "2",
                                    "Rank": "24",
                                    "TotalUnits": "1120"
                                },
                                {
                                    "Name": "Touring-1000 Yellow, 60",
                                    "Quintile": "2",
                                    "Rank": "25",
                                    "TotalUnits": "1114"
                                },
                                {
                                    "Name": "Road-650 Red, 52",
                                    "Quintile": "2",
                                    "Rank": "26",
                                    "TotalUnits": "1112"
                                },
                                {
                                    "Name": "Road-650 Black, 60",
                                    "Quintile": "2",
                                    "Rank": "27",
                                    "TotalUnits": "1100"
                                },
                                {
                                    "Name": "Road-650 Black, 44",
                                    "Quintile": "2",
                                    "Rank": "28",
                                    "TotalUnits": "1080"
                                },
                                {
                                    "Name": "Touring-2000 Blue, 54",
                                    "Quintile": "2",
                                    "Rank": "29",
                                    "TotalUnits": "1010"
                                },
                                {
                                    "Name": "Touring-1000 Yellow, 46",
                                    "Quintile": "2",
                                    "Rank": "30",
                                    "TotalUnits": "1005"
                                },
                                {
                                    "Name": "Touring-1000 Blue, 46",
                                    "Quintile": "2",
                                    "Rank": "31",
                                    "TotalUnits": "1002"
                                },
                                {
                                    "Name": "Road-250 Red, 58",
                                    "Quintile": "2",
                                    "Rank": "32",
                                    "TotalUnits": "946"
                                },
                                {
                                    "Name": "Road-350-W Yellow, 42",
                                    "Quintile": "2",
                                    "Rank": "33",
                                    "TotalUnits": "944"
                                },
                                {
                                    "Name": "Road-550-W Yellow, 44",
                                    "Quintile": "2",
                                    "Rank": "34",
                                    "TotalUnits": "927"
                                },
                                {
                                    "Name": "Road-250 Black, 58",
                                    "Quintile": "2",
                                    "Rank": "35",
                                    "TotalUnits": "910"
                                },
                                {
                                    "Name": "Road-250 Red, 44",
                                    "Quintile": "2",
                                    "Rank": "36",
                                    "TotalUnits": "895"
                                },
                                {
                                    "Name": "Road-750 Black, 58",
                                    "Quintile": "2",
                                    "Rank": "37",
                                    "TotalUnits": "892"
                                },
                                {
                                    "Name": "Touring-3000 Yellow, 44",
                                    "Quintile": "2",
                                    "Rank": "38",
                                    "TotalUnits": "851"
                                },
                                {
                                    "Name": "Touring-3000 Yellow, 62",
                                    "Quintile": "2",
                                    "Rank": "39",
                                    "TotalUnits": "844"
                                },
                                {
                                    "Name": "Touring-3000 Blue, 50",
                                    "Quintile": "2",
                                    "Rank": "40",
                                    "TotalUnits": "841"
                                },
                                {
                                    "Name": "Touring-2000 Blue, 60",
                                    "Quintile": "3",
                                    "Rank": "41",
                                    "TotalUnits": "820"
                                },
                                {
                                    "Name": "Road-250 Red, 48",
                                    "Quintile": "3",
                                    "Rank": "42",
                                    "TotalUnits": "812"
                                },
                                {
                                    "Name": "Mountain-300 Black, 40",
                                    "Quintile": "3",
                                    "Rank": "43",
                                    "TotalUnits": "776"
                                },
                                {
                                    "Name": "Mountain-300 Black, 44",
                                    "Quintile": "3",
                                    "Rank": "44",
                                    "TotalUnits": "747"
                                },
                                {
                                    "Name": "Mountain-300 Black, 48",
                                    "Quintile": "3",
                                    "Rank": "45",
                                    "TotalUnits": "740"
                                },
                                {
                                    "Name": "Road-450 Red, 52",
                                    "Quintile": "3",
                                    "Rank": "46",
                                    "TotalUnits": "710"
                                },
                                {
                                    "Name": "Touring-3000 Blue, 54",
                                    "Quintile": "3",
                                    "Rank": "47",
                                    "TotalUnits": "686"
                                },
                                {
                                    "Name": "Touring-3000 Yellow, 50",
                                    "Quintile": "3",
                                    "Rank": "47",
                                    "TotalUnits": "686"
                                },
                                {
                                    "Name": "Mountain-300 Black, 38",
                                    "Quintile": "3",
                                    "Rank": "49",
                                    "TotalUnits": "684"
                                },
                                {
                                    "Name": "Mountain-100 Black, 38",
                                    "Quintile": "3",
                                    "Rank": "50",
                                    "TotalUnits": "682"
                                },
                                {
                                    "Name": "Mountain-100 Black, 44",
                                    "Quintile": "3",
                                    "Rank": "51",
                                    "TotalUnits": "678"
                                },
                                {
                                    "Name": "Road-150 Red, 56",
                                    "Quintile": "3",
                                    "Rank": "52",
                                    "TotalUnits": "664"
                                },
                                {
                                    "Name": "Road-750 Black, 44",
                                    "Quintile": "3",
                                    "Rank": "53",
                                    "TotalUnits": "656"
                                },
                                {
                                    "Name": "Touring-1000 Yellow, 50",
                                    "Quintile": "3",
                                    "Rank": "54",
                                    "TotalUnits": "652"
                                },
                                {
                                    "Name": "Touring-1000 Blue, 50",
                                    "Quintile": "3",
                                    "Rank": "55",
                                    "TotalUnits": "649"
                                },
                                {
                                    "Name": "Road-650 Black, 48",
                                    "Quintile": "3",
                                    "Rank": "56",
                                    "TotalUnits": "644"
                                },
                                {
                                    "Name": "Road-650 Black, 62",
                                    "Quintile": "3",
                                    "Rank": "56",
                                    "TotalUnits": "644"
                                },
                                {
                                    "Name": "Mountain-100 Silver, 38",
                                    "Quintile": "3",
                                    "Rank": "58",
                                    "TotalUnits": "642"
                                },
                                {
                                    "Name": "Road-250 Red, 52",
                                    "Quintile": "3",
                                    "Rank": "59",
                                    "TotalUnits": "639"
                                },
                                {
                                    "Name": "Mountain-100 Black, 42",
                                    "Quintile": "4",
                                    "Rank": "60",
                                    "TotalUnits": "634"
                                },
                                {
                                    "Name": "Road-650 Red, 58",
                                    "Quintile": "4",
                                    "Rank": "61",
                                    "TotalUnits": "618"
                                },
                                {
                                    "Name": "Mountain-400-W Silver, 40",
                                    "Quintile": "4",
                                    "Rank": "62",
                                    "TotalUnits": "617"
                                },
                                {
                                    "Name": "Mountain-100 Black, 48",
                                    "Quintile": "4",
                                    "Rank": "63",
                                    "TotalUnits": "616"
                                },
                                {
                                    "Name": "Mountain-100 Silver, 44",
                                    "Quintile": "4",
                                    "Rank": "64",
                                    "TotalUnits": "601"
                                },
                                {
                                    "Name": "Road-150 Red, 62",
                                    "Quintile": "4",
                                    "Rank": "65",
                                    "TotalUnits": "600"
                                },
                                {
                                    "Name": "Mountain-100 Silver, 42",
                                    "Quintile": "4",
                                    "Rank": "66",
                                    "TotalUnits": "593"
                                },
                                {
                                    "Name": "Road-450 Red, 58",
                                    "Quintile": "4",
                                    "Rank": "67",
                                    "TotalUnits": "582"
                                },
                                {
                                    "Name": "Touring-2000 Blue, 46",
                                    "Quintile": "4",
                                    "Rank": "68",
                                    "TotalUnits": "538"
                                },
                                {
                                    "Name": "Road-350-W Yellow, 44",
                                    "Quintile": "4",
                                    "Rank": "69",
                                    "TotalUnits": "536"
                                },
                                {
                                    "Name": "Mountain-500 Silver, 52",
                                    "Quintile": "4",
                                    "Rank": "70",
                                    "TotalUnits": "515"
                                },
                                {
                                    "Name": "Mountain-100 Silver, 48",
                                    "Quintile": "4",
                                    "Rank": "71",
                                    "TotalUnits": "505"
                                },
                                {
                                    "Name": "Road-150 Red, 48",
                                    "Quintile": "4",
                                    "Rank": "72",
                                    "TotalUnits": "493"
                                },
                                {
                                    "Name": "Touring-3000 Blue, 58",
                                    "Quintile": "4",
                                    "Rank": "73",
                                    "TotalUnits": "482"
                                },
                                {
                                    "Name": "Road-150 Red, 52",
                                    "Quintile": "4",
                                    "Rank": "74",
                                    "TotalUnits": "458"
                                },
                                {
                                    "Name": "Mountain-500 Silver, 48",
                                    "Quintile": "4",
                                    "Rank": "75",
                                    "TotalUnits": "457"
                                },
                                {
                                    "Name": "Mountain-500 Silver, 42",
                                    "Quintile": "4",
                                    "Rank": "76",
                                    "TotalUnits": "455"
                                },
                                {
                                    "Name": "Touring-3000 Yellow, 54",
                                    "Quintile": "4",
                                    "Rank": "77",
                                    "TotalUnits": "453"
                                },
                                {
                                    "Name": "Mountain-500 Silver, 40",
                                    "Quintile": "4",
                                    "Rank": "78",
                                    "TotalUnits": "450"
                                },
                                {
                                    "Name": "Mountain-500 Black, 48",
                                    "Quintile": "5",
                                    "Rank": "79",
                                    "TotalUnits": "449"
                                },
                                {
                                    "Name": "Road-150 Red, 44",
                                    "Quintile": "5",
                                    "Rank": "80",
                                    "TotalUnits": "437"
                                },
                                {
                                    "Name": "Mountain-400-W Silver, 38",
                                    "Quintile": "5",
                                    "Rank": "81",
                                    "TotalUnits": "425"
                                },
                                {
                                    "Name": "Touring-1000 Blue, 54",
                                    "Quintile": "5",
                                    "Rank": "82",
                                    "TotalUnits": "413"
                                },
                                {
                                    "Name": "Mountain-400-W Silver, 46",
                                    "Quintile": "5",
                                    "Rank": "83",
                                    "TotalUnits": "401"
                                },
                                {
                                    "Name": "Touring-1000 Yellow, 54",
                                    "Quintile": "5",
                                    "Rank": "84",
                                    "TotalUnits": "397"
                                },
                                {
                                    "Name": "Mountain-500 Black, 42",
                                    "Quintile": "5",
                                    "Rank": "85",
                                    "TotalUnits": "388"
                                },
                                {
                                    "Name": "Mountain-400-W Silver, 42",
                                    "Quintile": "5",
                                    "Rank": "86",
                                    "TotalUnits": "385"
                                },
                                {
                                    "Name": "Mountain-500 Silver, 44",
                                    "Quintile": "5",
                                    "Rank": "87",
                                    "TotalUnits": "381"
                                },
                                {
                                    "Name": "Mountain-500 Black, 44",
                                    "Quintile": "5",
                                    "Rank": "88",
                                    "TotalUnits": "350"
                                },
                                {
                                    "Name": "Road-450 Red, 60",
                                    "Quintile": "5",
                                    "Rank": "88",
                                    "TotalUnits": "350"
                                },
                                {
                                    "Name": "Road-450 Red, 44",
                                    "Quintile": "5",
                                    "Rank": "90",
                                    "TotalUnits": "346"
                                },
                                {
                                    "Name": "Touring-2000 Blue, 50",
                                    "Quintile": "5",
                                    "Rank": "91",
                                    "TotalUnits": "322"
                                },
                                {
                                    "Name": "Touring-3000 Yellow, 58",
                                    "Quintile": "5",
                                    "Rank": "92",
                                    "TotalUnits": "293"
                                },
                                {
                                    "Name": "Touring-3000 Blue, 44",
                                    "Quintile": "5",
                                    "Rank": "93",
                                    "TotalUnits": "292"
                                },
                                {
                                    "Name": "Mountain-500 Black, 40",
                                    "Quintile": "5",
                                    "Rank": "94",
                                    "TotalUnits": "282"
                                },
                                {
                                    "Name": "Touring-3000 Blue, 62",
                                    "Quintile": "5",
                                    "Rank": "95",
                                    "TotalUnits": "281"
                                },
                                {
                                    "Name": "Mountain-500 Black, 52",
                                    "Quintile": "5",
                                    "Rank": "96",
                                    "TotalUnits": "272"
                                },
                                {
                                    "Name": "Road-450 Red, 48",
                                    "Quintile": "5",
                                    "Rank": "97",
                                    "TotalUnits": "156"
                                },
                                {
                                    "Name": "AWC Logo Cap",
                                    "Quintile": "1",
                                    "Rank": "1",
                                    "TotalUnits": "8311"
                                },
                                {
                                    "Name": "Long-Sleeve Logo Jersey, L",
                                    "Quintile": "1",
                                    "Rank": "2",
                                    "TotalUnits": "6592"
                                },
                                {
                                    "Name": "Classic Vest, S",
                                    "Quintile": "1",
                                    "Rank": "3",
                                    "TotalUnits": "4247"
                                },
                                {
                                    "Name": "Short-Sleeve Classic Jersey, XL",
                                    "Quintile": "1",
                                    "Rank": "4",
                                    "TotalUnits": "3864"
                                },
                                {
                                    "Name": "Long-Sleeve Logo Jersey, M",
                                    "Quintile": "1",
                                    "Rank": "5",
                                    "TotalUnits": "3636"
                                },
                                {
                                    "Name": "Half-Finger Gloves, M",
                                    "Quintile": "1",
                                    "Rank": "6",
                                    "TotalUnits": "3464"
                                },
                                {
                                    "Name": "Full-Finger Gloves, L",
                                    "Quintile": "1",
                                    "Rank": "7",
                                    "TotalUnits": "3378"
                                },
                                {
                                    "Name": "Women's Mountain Shorts, S",
                                    "Quintile": "2",
                                    "Rank": "8",
                                    "TotalUnits": "3296"
                                },
                                {
                                    "Name": "Women's Mountain Shorts, L",
                                    "Quintile": "2",
                                    "Rank": "9",
                                    "TotalUnits": "3244"
                                },
                                {
                                    "Name": "Long-Sleeve Logo Jersey, XL",
                                    "Quintile": "2",
                                    "Rank": "10",
                                    "TotalUnits": "2980"
                                },
                                {
                                    "Name": "Short-Sleeve Classic Jersey, L",
                                    "Quintile": "2",
                                    "Rank": "11",
                                    "TotalUnits": "2848"
                                },
                                {
                                    "Name": "Racing Socks, L",
                                    "Quintile": "2",
                                    "Rank": "12",
                                    "TotalUnits": "2473"
                                },
                                {
                                    "Name": "Classic Vest, M",
                                    "Quintile": "2",
                                    "Rank": "13",
                                    "TotalUnits": "2284"
                                },
                                {
                                    "Name": "Full-Finger Gloves, M",
                                    "Quintile": "2",
                                    "Rank": "14",
                                    "TotalUnits": "2206"
                                },
                                {
                                    "Name": "Half-Finger Gloves, S",
                                    "Quintile": "3",
                                    "Rank": "15",
                                    "TotalUnits": "2188"
                                },
                                {
                                    "Name": "Women's Tights, L",
                                    "Quintile": "3",
                                    "Rank": "16",
                                    "TotalUnits": "2123"
                                },
                                {
                                    "Name": "Women's Tights, S",
                                    "Quintile": "3",
                                    "Rank": "17",
                                    "TotalUnits": "2072"
                                },
                                {
                                    "Name": "Short-Sleeve Classic Jersey, S",
                                    "Quintile": "3",
                                    "Rank": "18",
                                    "TotalUnits": "1955"
                                },
                                {
                                    "Name": "Men's Bib-Shorts, M",
                                    "Quintile": "3",
                                    "Rank": "19",
                                    "TotalUnits": "1616"
                                },
                                {
                                    "Name": "Racing Socks, M",
                                    "Quintile": "3",
                                    "Rank": "20",
                                    "TotalUnits": "1547"
                                },
                                {
                                    "Name": "Half-Finger Gloves, L",
                                    "Quintile": "3",
                                    "Rank": "21",
                                    "TotalUnits": "1276"
                                },
                                {
                                    "Name": "Men's Sports Shorts, M",
                                    "Quintile": "4",
                                    "Rank": "21",
                                    "TotalUnits": "1276"
                                },
                                {
                                    "Name": "Women's Mountain Shorts, M",
                                    "Quintile": "4",
                                    "Rank": "23",
                                    "TotalUnits": "1139"
                                },
                                {
                                    "Name": "Mountain Bike Socks, M",
                                    "Quintile": "4",
                                    "Rank": "24",
                                    "TotalUnits": "1107"
                                },
                                {
                                    "Name": "Men's Bib-Shorts, S",
                                    "Quintile": "4",
                                    "Rank": "25",
                                    "TotalUnits": "876"
                                },
                                {
                                    "Name": "Men's Bib-Shorts, L",
                                    "Quintile": "4",
                                    "Rank": "26",
                                    "TotalUnits": "633"
                                },
                                {
                                    "Name": "Men's Sports Shorts, S",
                                    "Quintile": "4",
                                    "Rank": "27",
                                    "TotalUnits": "567"
                                },
                                {
                                    "Name": "Full-Finger Gloves, S",
                                    "Quintile": "4",
                                    "Rank": "28",
                                    "TotalUnits": "500"
                                },
                                {
                                    "Name": "Men's Sports Shorts, L",
                                    "Quintile": "5",
                                    "Rank": "29",
                                    "TotalUnits": "445"
                                },
                                {
                                    "Name": "Long-Sleeve Logo Jersey, S",
                                    "Quintile": "5",
                                    "Rank": "30",
                                    "TotalUnits": "429"
                                },
                                {
                                    "Name": "Short-Sleeve Classic Jersey, M",
                                    "Quintile": "5",
                                    "Rank": "31",
                                    "TotalUnits": "407"
                                },
                                {
                                    "Name": "Women's Tights, M",
                                    "Quintile": "5",
                                    "Rank": "32",
                                    "TotalUnits": "394"
                                },
                                {
                                    "Name": "Classic Vest, L",
                                    "Quintile": "5",
                                    "Rank": "33",
                                    "TotalUnits": "207"
                                },
                                {
                                    "Name": "Mountain Bike Socks, L",
                                    "Quintile": "5",
                                    "Rank": "34",
                                    "TotalUnits": "90"
                                },
                                {
                                    "Name": "LL Road Frame - Black, 52",
                                    "Quintile": "1",
                                    "Rank": "1",
                                    "TotalUnits": "1581"
                                },
                                {
                                    "Name": "ML Mountain Handlebars",
                                    "Quintile": "1",
                                    "Rank": "2",
                                    "TotalUnits": "1465"
                                },
                                {
                                    "Name": "ML Road Frame-W - Yellow, 44",
                                    "Quintile": "1",
                                    "Rank": "3",
                                    "TotalUnits": "1435"
                                },
                                {
                                    "Name": "HL Mountain Frame - Silver, 38",
                                    "Quintile": "1",
                                    "Rank": "4",
                                    "TotalUnits": "1206"
                                },
                                {
                                    "Name": "HL Mountain Frame - Black, 42",
                                    "Quintile": "1",
                                    "Rank": "5",
                                    "TotalUnits": "1181"
                                },
                                {
                                    "Name": "LL Road Frame - Red, 60",
                                    "Quintile": "1",
                                    "Rank": "6",
                                    "TotalUnits": "996"
                                },
                                {
                                    "Name": "LL Road Frame - Red, 44",
                                    "Quintile": "1",
                                    "Rank": "7",
                                    "TotalUnits": "991"
                                },
                                {
                                    "Name": "ML Mountain Frame - Black, 48",
                                    "Quintile": "1",
                                    "Rank": "8",
                                    "TotalUnits": "959"
                                },
                                {
                                    "Name": "LL Road Frame - Black, 58",
                                    "Quintile": "1",
                                    "Rank": "9",
                                    "TotalUnits": "940"
                                },
                                {
                                    "Name": "ML Mountain Frame-W - Silver, 40",
                                    "Quintile": "1",
                                    "Rank": "10",
                                    "TotalUnits": "899"
                                },
                                {
                                    "Name": "ML Road Frame-W - Yellow, 38",
                                    "Quintile": "1",
                                    "Rank": "11",
                                    "TotalUnits": "895"
                                },
                                {
                                    "Name": "ML Road Frame-W - Yellow, 48",
                                    "Quintile": "1",
                                    "Rank": "12",
                                    "TotalUnits": "889"
                                },
                                {
                                    "Name": "LL Road Rear Wheel",
                                    "Quintile": "1",
                                    "Rank": "13",
                                    "TotalUnits": "868"
                                },
                                {
                                    "Name": "LL Road Pedal",
                                    "Quintile": "1",
                                    "Rank": "13",
                                    "TotalUnits": "868"
                                },
                                {
                                    "Name": "LL Mountain Handlebars",
                                    "Quintile": "1",
                                    "Rank": "15",
                                    "TotalUnits": "865"
                                },
                                {
                                    "Name": "ML Mountain Rear Wheel",
                                    "Quintile": "1",
                                    "Rank": "16",
                                    "TotalUnits": "851"
                                },
                                {
                                    "Name": "HL Mountain Rear Wheel",
                                    "Quintile": "1",
                                    "Rank": "17",
                                    "TotalUnits": "850"
                                },
                                {
                                    "Name": "Front Derailleur",
                                    "Quintile": "1",
                                    "Rank": "18",
                                    "TotalUnits": "813"
                                },
                                {
                                    "Name": "Front Brakes",
                                    "Quintile": "1",
                                    "Rank": "19",
                                    "TotalUnits": "789"
                                },
                                {
                                    "Name": "HL Mountain Pedal",
                                    "Quintile": "1",
                                    "Rank": "20",
                                    "TotalUnits": "785"
                                },
                                {
                                    "Name": "Chain",
                                    "Quintile": "1",
                                    "Rank": "21",
                                    "TotalUnits": "774"
                                },
                                {
                                    "Name": "LL Road Frame - Red, 62",
                                    "Quintile": "1",
                                    "Rank": "22",
                                    "TotalUnits": "697"
                                },
                                {
                                    "Name": "HL Road Pedal",
                                    "Quintile": "1",
                                    "Rank": "23",
                                    "TotalUnits": "676"
                                },
                                {
                                    "Name": "LL Road Frame - Red, 48",
                                    "Quintile": "2",
                                    "Rank": "24",
                                    "TotalUnits": "671"
                                },
                                {
                                    "Name": "ML Road Pedal",
                                    "Quintile": "2",
                                    "Rank": "25",
                                    "TotalUnits": "661"
                                },
                                {
                                    "Name": "ML Headset",
                                    "Quintile": "2",
                                    "Rank": "26",
                                    "TotalUnits": "659"
                                },
                                {
                                    "Name": "HL Mountain Frame - Black, 38",
                                    "Quintile": "2",
                                    "Rank": "26",
                                    "TotalUnits": "659"
                                },
                                {
                                    "Name": "HL Mountain Frame - Silver, 46",
                                    "Quintile": "2",
                                    "Rank": "28",
                                    "TotalUnits": "649"
                                },
                                {
                                    "Name": "LL Mountain Frame - Silver, 42",
                                    "Quintile": "2",
                                    "Rank": "29",
                                    "TotalUnits": "638"
                                },
                                {
                                    "Name": "HL Road Handlebars",
                                    "Quintile": "2",
                                    "Rank": "30",
                                    "TotalUnits": "631"
                                },
                                {
                                    "Name": "ML Mountain Frame-W - Silver, 42",
                                    "Quintile": "2",
                                    "Rank": "31",
                                    "TotalUnits": "627"
                                },
                                {
                                    "Name": "LL Mountain Frame - Black, 44",
                                    "Quintile": "2",
                                    "Rank": "32",
                                    "TotalUnits": "625"
                                },
                                {
                                    "Name": "ML Mountain Frame - Black, 44",
                                    "Quintile": "2",
                                    "Rank": "33",
                                    "TotalUnits": "619"
                                },
                                {
                                    "Name": "LL Mountain Front Wheel",
                                    "Quintile": "2",
                                    "Rank": "34",
                                    "TotalUnits": "617"
                                },
                                {
                                    "Name": "HL Crankset",
                                    "Quintile": "2",
                                    "Rank": "35",
                                    "TotalUnits": "613"
                                },
                                {
                                    "Name": "HL Road Front Wheel",
                                    "Quintile": "2",
                                    "Rank": "36",
                                    "TotalUnits": "567"
                                },
                                {
                                    "Name": "HL Bottom Bracket",
                                    "Quintile": "2",
                                    "Rank": "37",
                                    "TotalUnits": "543"
                                },
                                {
                                    "Name": "HL Touring Frame - Blue, 54",
                                    "Quintile": "2",
                                    "Rank": "38",
                                    "TotalUnits": "542"
                                },
                                {
                                    "Name": "HL Touring Frame - Yellow, 54",
                                    "Quintile": "2",
                                    "Rank": "39",
                                    "TotalUnits": "540"
                                },
                                {
                                    "Name": "ML Mountain Seat/Saddle",
                                    "Quintile": "2",
                                    "Rank": "40",
                                    "TotalUnits": "534"
                                },
                                {
                                    "Name": "ML Road Front Wheel",
                                    "Quintile": "2",
                                    "Rank": "41",
                                    "TotalUnits": "532"
                                },
                                {
                                    "Name": "HL Mountain Seat/Saddle",
                                    "Quintile": "2",
                                    "Rank": "42",
                                    "TotalUnits": "519"
                                },
                                {
                                    "Name": "ML Mountain Frame - Black, 38",
                                    "Quintile": "2",
                                    "Rank": "43",
                                    "TotalUnits": "514"
                                },
                                {
                                    "Name": "HL Mountain Handlebars",
                                    "Quintile": "2",
                                    "Rank": "44",
                                    "TotalUnits": "500"
                                },
                                {
                                    "Name": "HL Road Frame - Red, 44",
                                    "Quintile": "2",
                                    "Rank": "45",
                                    "TotalUnits": "486"
                                },
                                {
                                    "Name": "HL Road Frame - Red, 62",
                                    "Quintile": "3",
                                    "Rank": "46",
                                    "TotalUnits": "485"
                                },
                                {
                                    "Name": "HL Road Frame - Black, 44",
                                    "Quintile": "3",
                                    "Rank": "47",
                                    "TotalUnits": "459"
                                },
                                {
                                    "Name": "LL Mountain Pedal",
                                    "Quintile": "3",
                                    "Rank": "48",
                                    "TotalUnits": "449"
                                },
                                {
                                    "Name": "HL Fork",
                                    "Quintile": "3",
                                    "Rank": "49",
                                    "TotalUnits": "444"
                                },
                                {
                                    "Name": "LL Mountain Frame - Silver, 40",
                                    "Quintile": "3",
                                    "Rank": "50",
                                    "TotalUnits": "442"
                                },
                                {
                                    "Name": "LL Crankset",
                                    "Quintile": "3",
                                    "Rank": "51",
                                    "TotalUnits": "426"
                                },
                                {
                                    "Name": "HL Touring Seat/Saddle",
                                    "Quintile": "3",
                                    "Rank": "51",
                                    "TotalUnits": "426"
                                },
                                {
                                    "Name": "LL Mountain Frame - Silver, 52",
                                    "Quintile": "3",
                                    "Rank": "53",
                                    "TotalUnits": "425"
                                },
                                {
                                    "Name": "LL Mountain Frame - Black, 42",
                                    "Quintile": "3",
                                    "Rank": "54",
                                    "TotalUnits": "423"
                                },
                                {
                                    "Name": "HL Touring Frame - Yellow, 60",
                                    "Quintile": "3",
                                    "Rank": "55",
                                    "TotalUnits": "387"
                                },
                                {
                                    "Name": "LL Mountain Frame - Black, 48",
                                    "Quintile": "3",
                                    "Rank": "56",
                                    "TotalUnits": "386"
                                },
                                {
                                    "Name": "LL Bottom Bracket",
                                    "Quintile": "3",
                                    "Rank": "57",
                                    "TotalUnits": "378"
                                },
                                {
                                    "Name": "HL Touring Frame - Blue, 60",
                                    "Quintile": "3",
                                    "Rank": "58",
                                    "TotalUnits": "371"
                                },
                                {
                                    "Name": "LL Mountain Frame - Silver, 44",
                                    "Quintile": "3",
                                    "Rank": "58",
                                    "TotalUnits": "371"
                                },
                                {
                                    "Name": "Rear Derailleur",
                                    "Quintile": "3",
                                    "Rank": "60",
                                    "TotalUnits": "353"
                                },
                                {
                                    "Name": "LL Touring Frame - Yellow, 62",
                                    "Quintile": "3",
                                    "Rank": "61",
                                    "TotalUnits": "348"
                                },
                                {
                                    "Name": "LL Mountain Seat/Saddle",
                                    "Quintile": "3",
                                    "Rank": "62",
                                    "TotalUnits": "347"
                                },
                                {
                                    "Name": "HL Mountain Frame - Silver, 42",
                                    "Quintile": "3",
                                    "Rank": "62",
                                    "TotalUnits": "347"
                                },
                                {
                                    "Name": "ML Mountain Pedal",
                                    "Quintile": "3",
                                    "Rank": "64",
                                    "TotalUnits": "345"
                                },
                                {
                                    "Name": "LL Mountain Rear Wheel",
                                    "Quintile": "3",
                                    "Rank": "65",
                                    "TotalUnits": "342"
                                },
                                {
                                    "Name": "LL Touring Frame - Blue, 50",
                                    "Quintile": "3",
                                    "Rank": "66",
                                    "TotalUnits": "316"
                                },
                                {
                                    "Name": "LL Touring Frame - Yellow, 44",
                                    "Quintile": "3",
                                    "Rank": "67",
                                    "TotalUnits": "294"
                                },
                                {
                                    "Name": "ML Mountain Front Wheel",
                                    "Quintile": "4",
                                    "Rank": "68",
                                    "TotalUnits": "266"
                                },
                                {
                                    "Name": "HL Headset",
                                    "Quintile": "4",
                                    "Rank": "69",
                                    "TotalUnits": "255"
                                },
                                {
                                    "Name": "ML Road Frame - Red, 48",
                                    "Quintile": "4",
                                    "Rank": "70",
                                    "TotalUnits": "250"
                                },
                                {
                                    "Name": "Rear Brakes",
                                    "Quintile": "4",
                                    "Rank": "71",
                                    "TotalUnits": "246"
                                },
                                {
                                    "Name": "LL Road Frame - Black, 44",
                                    "Quintile": "4",
                                    "Rank": "72",
                                    "TotalUnits": "238"
                                },
                                {
                                    "Name": "LL Touring Frame - Yellow, 50",
                                    "Quintile": "4",
                                    "Rank": "73",
                                    "TotalUnits": "228"
                                },
                                {
                                    "Name": "HL Mountain Front Wheel",
                                    "Quintile": "4",
                                    "Rank": "74",
                                    "TotalUnits": "222"
                                },
                                {
                                    "Name": "HL Touring Handlebars",
                                    "Quintile": "4",
                                    "Rank": "75",
                                    "TotalUnits": "220"
                                },
                                {
                                    "Name": "LL Road Handlebars",
                                    "Quintile": "4",
                                    "Rank": "76",
                                    "TotalUnits": "213"
                                },
                                {
                                    "Name": "LL Touring Frame - Blue, 54",
                                    "Quintile": "4",
                                    "Rank": "77",
                                    "TotalUnits": "211"
                                },
                                {
                                    "Name": "ML Road Frame-W - Yellow, 40",
                                    "Quintile": "4",
                                    "Rank": "78",
                                    "TotalUnits": "203"
                                },
                                {
                                    "Name": "LL Fork",
                                    "Quintile": "4",
                                    "Rank": "79",
                                    "TotalUnits": "190"
                                },
                                {
                                    "Name": "ML Mountain Frame-W - Silver, 46",
                                    "Quintile": "4",
                                    "Rank": "80",
                                    "TotalUnits": "188"
                                },
                                {
                                    "Name": "HL Mountain Frame - Silver, 48",
                                    "Quintile": "4",
                                    "Rank": "81",
                                    "TotalUnits": "173"
                                },
                                {
                                    "Name": "Touring Pedal",
                                    "Quintile": "4",
                                    "Rank": "82",
                                    "TotalUnits": "147"
                                },
                                {
                                    "Name": "HL Road Seat/Saddle",
                                    "Quintile": "4",
                                    "Rank": "83",
                                    "TotalUnits": "134"
                                },
                                {
                                    "Name": "HL Mountain Frame - Black, 48",
                                    "Quintile": "4",
                                    "Rank": "84",
                                    "TotalUnits": "131"
                                },
                                {
                                    "Name": "LL Road Frame - Black, 60",
                                    "Quintile": "4",
                                    "Rank": "85",
                                    "TotalUnits": "129"
                                },
                                {
                                    "Name": "HL Touring Frame - Blue, 50",
                                    "Quintile": "4",
                                    "Rank": "86",
                                    "TotalUnits": "124"
                                },
                                {
                                    "Name": "HL Touring Frame - Blue, 46",
                                    "Quintile": "4",
                                    "Rank": "87",
                                    "TotalUnits": "114"
                                },
                                {
                                    "Name": "HL Road Frame - Black, 48",
                                    "Quintile": "4",
                                    "Rank": "88",
                                    "TotalUnits": "109"
                                },
                                {
                                    "Name": "HL Road Frame - Red, 48",
                                    "Quintile": "4",
                                    "Rank": "88",
                                    "TotalUnits": "109"
                                },
                                {
                                    "Name": "LL Road Frame - Red, 52",
                                    "Quintile": "5",
                                    "Rank": "90",
                                    "TotalUnits": "100"
                                },
                                {
                                    "Name": "LL Headset",
                                    "Quintile": "5",
                                    "Rank": "91",
                                    "TotalUnits": "95"
                                },
                                {
                                    "Name": "HL Road Rear Wheel",
                                    "Quintile": "5",
                                    "Rank": "92",
                                    "TotalUnits": "94"
                                },
                                {
                                    "Name": "LL Touring Seat/Saddle",
                                    "Quintile": "5",
                                    "Rank": "93",
                                    "TotalUnits": "91"
                                },
                                {
                                    "Name": "ML Road Frame - Red, 52",
                                    "Quintile": "5",
                                    "Rank": "94",
                                    "TotalUnits": "90"
                                },
                                {
                                    "Name": "HL Touring Frame - Yellow, 46",
                                    "Quintile": "5",
                                    "Rank": "95",
                                    "TotalUnits": "87"
                                },
                                {
                                    "Name": "ML Touring Seat/Saddle",
                                    "Quintile": "5",
                                    "Rank": "96",
                                    "TotalUnits": "84"
                                },
                                {
                                    "Name": "HL Touring Frame - Yellow, 50",
                                    "Quintile": "5",
                                    "Rank": "97",
                                    "TotalUnits": "83"
                                },
                                {
                                    "Name": "ML Mountain Frame - Black, 40",
                                    "Quintile": "5",
                                    "Rank": "98",
                                    "TotalUnits": "68"
                                },
                                {
                                    "Name": "ML Crankset",
                                    "Quintile": "5",
                                    "Rank": "98",
                                    "TotalUnits": "68"
                                },
                                {
                                    "Name": "ML Road Rear Wheel",
                                    "Quintile": "5",
                                    "Rank": "100",
                                    "TotalUnits": "64"
                                },
                                {
                                    "Name": "LL Touring Handlebars",
                                    "Quintile": "5",
                                    "Rank": "101",
                                    "TotalUnits": "56"
                                },
                                {
                                    "Name": "LL Mountain Frame - Silver, 48",
                                    "Quintile": "5",
                                    "Rank": "102",
                                    "TotalUnits": "44"
                                },
                                {
                                    "Name": "LL Touring Frame - Yellow, 58",
                                    "Quintile": "5",
                                    "Rank": "103",
                                    "TotalUnits": "36"
                                },
                                {
                                    "Name": "LL Touring Frame - Blue, 44",
                                    "Quintile": "5",
                                    "Rank": "104",
                                    "TotalUnits": "25"
                                },
                                {
                                    "Name": "HL Mountain Frame - Black, 44",
                                    "Quintile": "5",
                                    "Rank": "105",
                                    "TotalUnits": "17"
                                },
                                {
                                    "Name": "LL Touring Frame - Blue, 62",
                                    "Quintile": "5",
                                    "Rank": "106",
                                    "TotalUnits": "15"
                                },
                                {
                                    "Name": "LL Mountain Frame - Black, 52",
                                    "Quintile": "5",
                                    "Rank": "106",
                                    "TotalUnits": "15"
                                },
                                {
                                    "Name": "LL Road Seat/Saddle",
                                    "Quintile": "5",
                                    "Rank": "108",
                                    "TotalUnits": "10"
                                },
                                {
                                    "Name": "LL Mountain Frame - Black, 40",
                                    "Quintile": "5",
                                    "Rank": "109",
                                    "TotalUnits": "8"
                                },
                                {
                                    "Name": "ML Mountain Frame-W - Silver, 38",
                                    "Quintile": "5",
                                    "Rank": "110",
                                    "TotalUnits": "7"
                                },
                                {
                                    "Name": "LL Touring Frame - Blue, 58",
                                    "Quintile": "5",
                                    "Rank": "111",
                                    "TotalUnits": "4"
                                }
                            ],
                            "schema": {
                                "fields": [
                                    {
                                        "name": "Name"
                                    },
                                    {
                                        "name": "Name"
                                    },
                                    {
                                        "name": "TotalUnits"
                                    },
                                    {
                                        "name": "Rank"
                                    },
                                    {
                                        "name": "Quintile"
                                    }
                                ]
                            }
                        },
                        "text/html": [
                            "<table>\n",
                            "<tr><th>Name</th><th>Name</th><th>TotalUnits</th><th>Rank</th><th>Quintile</th></tr>\n",
                            "<tr><td>Accessories</td><td>Water Bottle - 30 oz.</td><td>6815</td><td>1</td><td>1</td></tr>\n",
                            "<tr><td>Accessories</td><td>Sport-100 Helmet, Blue</td><td>6743</td><td>2</td><td>1</td></tr>\n",
                            "<tr><td>Accessories</td><td>Sport-100 Helmet, Black</td><td>6532</td><td>3</td><td>1</td></tr>\n",
                            "<tr><td>Accessories</td><td>Sport-100 Helmet, Red</td><td>6266</td><td>4</td><td>1</td></tr>\n",
                            "<tr><td>Accessories</td><td>Patch Kit/8 Patches</td><td>3865</td><td>5</td><td>1</td></tr>\n",
                            "<tr><td>Accessories</td><td>Bike Wash - Dissolver</td><td>3319</td><td>6</td><td>2</td></tr>\n",
                            "<tr><td>Accessories</td><td>Hitch Rack - 4-Bike</td><td>3166</td><td>7</td><td>2</td></tr>\n",
                            "<tr><td>Accessories</td><td>Mountain Tire Tube</td><td>3095</td><td>8</td><td>2</td></tr>\n",
                            "<tr><td>Accessories</td><td>Hydration Pack - 70 oz.</td><td>2761</td><td>9</td><td>2</td></tr>\n",
                            "<tr><td>Accessories</td><td>Road Tire Tube</td><td>2376</td><td>10</td><td>2</td></tr>\n",
                            "<tr><td>Accessories</td><td>Fender Set - Mountain</td><td>2121</td><td>11</td><td>3</td></tr>\n",
                            "<tr><td>Accessories</td><td>Mountain Bottle Cage</td><td>2025</td><td>12</td><td>3</td></tr>\n",
                            "<tr><td>Accessories</td><td>Road Bottle Cage</td><td>1712</td><td>13</td><td>3</td></tr>\n",
                            "<tr><td>Accessories</td><td>Touring Tire Tube</td><td>1488</td><td>14</td><td>3</td></tr>\n",
                            "<tr><td>Accessories</td><td>HL Mountain Tire</td><td>1396</td><td>15</td><td>3</td></tr>\n",
                            "<tr><td>Accessories</td><td>ML Mountain Tire</td><td>1161</td><td>16</td><td>4</td></tr>\n",
                            "<tr><td>Accessories</td><td>Minipump</td><td>1130</td><td>17</td><td>4</td></tr>\n",
                            "<tr><td>Accessories</td><td>Cable Lock</td><td>1087</td><td>18</td><td>4</td></tr>\n",
                            "<tr><td>Accessories</td><td>LL Road Tire</td><td>1044</td><td>19</td><td>4</td></tr>\n",
                            "<tr><td>Accessories</td><td>Touring Tire</td><td>935</td><td>20</td><td>4</td></tr>\n",
                            "<tr><td>Accessories</td><td>ML Road Tire</td><td>926</td><td>21</td><td>5</td></tr>\n",
                            "<tr><td>Accessories</td><td>LL Mountain Tire</td><td>862</td><td>22</td><td>5</td></tr>\n",
                            "<tr><td>Accessories</td><td>HL Road Tire</td><td>858</td><td>23</td><td>5</td></tr>\n",
                            "<tr><td>Accessories</td><td>All-Purpose Bike Stand</td><td>249</td><td>24</td><td>5</td></tr>\n",
                            "<tr><td>Bikes</td><td>Mountain-200 Black, 38</td><td>2977</td><td>1</td><td>1</td></tr>\n",
                            "<tr><td>Bikes</td><td>Mountain-200 Black, 42</td><td>2664</td><td>2</td><td>1</td></tr>\n",
                            "<tr><td>Bikes</td><td>Mountain-200 Silver, 38</td><td>2394</td><td>3</td><td>1</td></tr>\n",
                            "<tr><td>Bikes</td><td>Road-650 Black, 52</td><td>2270</td><td>4</td><td>1</td></tr>\n",
                            "<tr><td>Bikes</td><td>Road-650 Red, 44</td><td>2254</td><td>5</td><td>1</td></tr>\n",
                            "<tr><td>Bikes</td><td>Mountain-200 Silver, 42</td><td>2234</td><td>6</td><td>1</td></tr>\n",
                            "<tr><td>Bikes</td><td>Road-650 Red, 60</td><td>2232</td><td>7</td><td>1</td></tr>\n",
                            "<tr><td>Bikes</td><td>Mountain-200 Silver, 46</td><td>2216</td><td>8</td><td>1</td></tr>\n",
                            "<tr><td>Bikes</td><td>Mountain-200 Black, 46</td><td>2111</td><td>9</td><td>1</td></tr>\n",
                            "<tr><td>Bikes</td><td>Road-650 Red, 62</td><td>1896</td><td>10</td><td>1</td></tr>\n",
                            "<tr><td>Bikes</td><td>Road-650 Red, 48</td><td>1888</td><td>11</td><td>1</td></tr>\n",
                            "<tr><td>Bikes</td><td>Road-650 Black, 58</td><td>1871</td><td>12</td><td>1</td></tr>\n",
                            "<tr><td>Bikes</td><td>Road-550-W Yellow, 48</td><td>1763</td><td>13</td><td>1</td></tr>\n",
                            "<tr><td>Bikes</td><td>Road-550-W Yellow, 38</td><td>1744</td><td>14</td><td>1</td></tr>\n",
                            "<tr><td>Bikes</td><td>Road-250 Black, 44</td><td>1642</td><td>15</td><td>1</td></tr>\n",
                            "<tr><td>Bikes</td><td>Road-350-W Yellow, 48</td><td>1622</td><td>16</td><td>1</td></tr>\n",
                            "<tr><td>Bikes</td><td>Road-750 Black, 48</td><td>1556</td><td>17</td><td>1</td></tr>\n",
                            "<tr><td>Bikes</td><td>Road-550-W Yellow, 40</td><td>1500</td><td>18</td><td>1</td></tr>\n",
                            "<tr><td>Bikes</td><td>Road-250 Black, 48</td><td>1498</td><td>19</td><td>1</td></tr>\n",
                            "<tr><td>Bikes</td><td>Road-350-W Yellow, 40</td><td>1477</td><td>20</td><td>1</td></tr>\n",
                            "<tr><td>Bikes</td><td>Road-750 Black, 52</td><td>1338</td><td>21</td><td>2</td></tr>\n",
                            "<tr><td>Bikes</td><td>Road-550-W Yellow, 42</td><td>1249</td><td>22</td><td>2</td></tr>\n",
                            "<tr><td>Bikes</td><td>Road-250 Black, 52</td><td>1245</td><td>23</td><td>2</td></tr>\n",
                            "<tr><td>Bikes</td><td>Touring-1000 Blue, 60</td><td>1120</td><td>24</td><td>2</td></tr>\n",
                            "<tr><td>Bikes</td><td>Touring-1000 Yellow, 60</td><td>1114</td><td>25</td><td>2</td></tr>\n",
                            "<tr><td>Bikes</td><td>Road-650 Red, 52</td><td>1112</td><td>26</td><td>2</td></tr>\n",
                            "<tr><td>Bikes</td><td>Road-650 Black, 60</td><td>1100</td><td>27</td><td>2</td></tr>\n",
                            "<tr><td>Bikes</td><td>Road-650 Black, 44</td><td>1080</td><td>28</td><td>2</td></tr>\n",
                            "<tr><td>Bikes</td><td>Touring-2000 Blue, 54</td><td>1010</td><td>29</td><td>2</td></tr>\n",
                            "<tr><td>Bikes</td><td>Touring-1000 Yellow, 46</td><td>1005</td><td>30</td><td>2</td></tr>\n",
                            "<tr><td>Bikes</td><td>Touring-1000 Blue, 46</td><td>1002</td><td>31</td><td>2</td></tr>\n",
                            "<tr><td>Bikes</td><td>Road-250 Red, 58</td><td>946</td><td>32</td><td>2</td></tr>\n",
                            "<tr><td>Bikes</td><td>Road-350-W Yellow, 42</td><td>944</td><td>33</td><td>2</td></tr>\n",
                            "<tr><td>Bikes</td><td>Road-550-W Yellow, 44</td><td>927</td><td>34</td><td>2</td></tr>\n",
                            "<tr><td>Bikes</td><td>Road-250 Black, 58</td><td>910</td><td>35</td><td>2</td></tr>\n",
                            "<tr><td>Bikes</td><td>Road-250 Red, 44</td><td>895</td><td>36</td><td>2</td></tr>\n",
                            "<tr><td>Bikes</td><td>Road-750 Black, 58</td><td>892</td><td>37</td><td>2</td></tr>\n",
                            "<tr><td>Bikes</td><td>Touring-3000 Yellow, 44</td><td>851</td><td>38</td><td>2</td></tr>\n",
                            "<tr><td>Bikes</td><td>Touring-3000 Yellow, 62</td><td>844</td><td>39</td><td>2</td></tr>\n",
                            "<tr><td>Bikes</td><td>Touring-3000 Blue, 50</td><td>841</td><td>40</td><td>2</td></tr>\n",
                            "<tr><td>Bikes</td><td>Touring-2000 Blue, 60</td><td>820</td><td>41</td><td>3</td></tr>\n",
                            "<tr><td>Bikes</td><td>Road-250 Red, 48</td><td>812</td><td>42</td><td>3</td></tr>\n",
                            "<tr><td>Bikes</td><td>Mountain-300 Black, 40</td><td>776</td><td>43</td><td>3</td></tr>\n",
                            "<tr><td>Bikes</td><td>Mountain-300 Black, 44</td><td>747</td><td>44</td><td>3</td></tr>\n",
                            "<tr><td>Bikes</td><td>Mountain-300 Black, 48</td><td>740</td><td>45</td><td>3</td></tr>\n",
                            "<tr><td>Bikes</td><td>Road-450 Red, 52</td><td>710</td><td>46</td><td>3</td></tr>\n",
                            "<tr><td>Bikes</td><td>Touring-3000 Blue, 54</td><td>686</td><td>47</td><td>3</td></tr>\n",
                            "<tr><td>Bikes</td><td>Touring-3000 Yellow, 50</td><td>686</td><td>47</td><td>3</td></tr>\n",
                            "<tr><td>Bikes</td><td>Mountain-300 Black, 38</td><td>684</td><td>49</td><td>3</td></tr>\n",
                            "<tr><td>Bikes</td><td>Mountain-100 Black, 38</td><td>682</td><td>50</td><td>3</td></tr>\n",
                            "<tr><td>Bikes</td><td>Mountain-100 Black, 44</td><td>678</td><td>51</td><td>3</td></tr>\n",
                            "<tr><td>Bikes</td><td>Road-150 Red, 56</td><td>664</td><td>52</td><td>3</td></tr>\n",
                            "<tr><td>Bikes</td><td>Road-750 Black, 44</td><td>656</td><td>53</td><td>3</td></tr>\n",
                            "<tr><td>Bikes</td><td>Touring-1000 Yellow, 50</td><td>652</td><td>54</td><td>3</td></tr>\n",
                            "<tr><td>Bikes</td><td>Touring-1000 Blue, 50</td><td>649</td><td>55</td><td>3</td></tr>\n",
                            "<tr><td>Bikes</td><td>Road-650 Black, 48</td><td>644</td><td>56</td><td>3</td></tr>\n",
                            "<tr><td>Bikes</td><td>Road-650 Black, 62</td><td>644</td><td>56</td><td>3</td></tr>\n",
                            "<tr><td>Bikes</td><td>Mountain-100 Silver, 38</td><td>642</td><td>58</td><td>3</td></tr>\n",
                            "<tr><td>Bikes</td><td>Road-250 Red, 52</td><td>639</td><td>59</td><td>3</td></tr>\n",
                            "<tr><td>Bikes</td><td>Mountain-100 Black, 42</td><td>634</td><td>60</td><td>4</td></tr>\n",
                            "<tr><td>Bikes</td><td>Road-650 Red, 58</td><td>618</td><td>61</td><td>4</td></tr>\n",
                            "<tr><td>Bikes</td><td>Mountain-400-W Silver, 40</td><td>617</td><td>62</td><td>4</td></tr>\n",
                            "<tr><td>Bikes</td><td>Mountain-100 Black, 48</td><td>616</td><td>63</td><td>4</td></tr>\n",
                            "<tr><td>Bikes</td><td>Mountain-100 Silver, 44</td><td>601</td><td>64</td><td>4</td></tr>\n",
                            "<tr><td>Bikes</td><td>Road-150 Red, 62</td><td>600</td><td>65</td><td>4</td></tr>\n",
                            "<tr><td>Bikes</td><td>Mountain-100 Silver, 42</td><td>593</td><td>66</td><td>4</td></tr>\n",
                            "<tr><td>Bikes</td><td>Road-450 Red, 58</td><td>582</td><td>67</td><td>4</td></tr>\n",
                            "<tr><td>Bikes</td><td>Touring-2000 Blue, 46</td><td>538</td><td>68</td><td>4</td></tr>\n",
                            "<tr><td>Bikes</td><td>Road-350-W Yellow, 44</td><td>536</td><td>69</td><td>4</td></tr>\n",
                            "<tr><td>Bikes</td><td>Mountain-500 Silver, 52</td><td>515</td><td>70</td><td>4</td></tr>\n",
                            "<tr><td>Bikes</td><td>Mountain-100 Silver, 48</td><td>505</td><td>71</td><td>4</td></tr>\n",
                            "<tr><td>Bikes</td><td>Road-150 Red, 48</td><td>493</td><td>72</td><td>4</td></tr>\n",
                            "<tr><td>Bikes</td><td>Touring-3000 Blue, 58</td><td>482</td><td>73</td><td>4</td></tr>\n",
                            "<tr><td>Bikes</td><td>Road-150 Red, 52</td><td>458</td><td>74</td><td>4</td></tr>\n",
                            "<tr><td>Bikes</td><td>Mountain-500 Silver, 48</td><td>457</td><td>75</td><td>4</td></tr>\n",
                            "<tr><td>Bikes</td><td>Mountain-500 Silver, 42</td><td>455</td><td>76</td><td>4</td></tr>\n",
                            "<tr><td>Bikes</td><td>Touring-3000 Yellow, 54</td><td>453</td><td>77</td><td>4</td></tr>\n",
                            "<tr><td>Bikes</td><td>Mountain-500 Silver, 40</td><td>450</td><td>78</td><td>4</td></tr>\n",
                            "<tr><td>Bikes</td><td>Mountain-500 Black, 48</td><td>449</td><td>79</td><td>5</td></tr>\n",
                            "<tr><td>Bikes</td><td>Road-150 Red, 44</td><td>437</td><td>80</td><td>5</td></tr>\n",
                            "<tr><td>Bikes</td><td>Mountain-400-W Silver, 38</td><td>425</td><td>81</td><td>5</td></tr>\n",
                            "<tr><td>Bikes</td><td>Touring-1000 Blue, 54</td><td>413</td><td>82</td><td>5</td></tr>\n",
                            "<tr><td>Bikes</td><td>Mountain-400-W Silver, 46</td><td>401</td><td>83</td><td>5</td></tr>\n",
                            "<tr><td>Bikes</td><td>Touring-1000 Yellow, 54</td><td>397</td><td>84</td><td>5</td></tr>\n",
                            "<tr><td>Bikes</td><td>Mountain-500 Black, 42</td><td>388</td><td>85</td><td>5</td></tr>\n",
                            "<tr><td>Bikes</td><td>Mountain-400-W Silver, 42</td><td>385</td><td>86</td><td>5</td></tr>\n",
                            "<tr><td>Bikes</td><td>Mountain-500 Silver, 44</td><td>381</td><td>87</td><td>5</td></tr>\n",
                            "<tr><td>Bikes</td><td>Mountain-500 Black, 44</td><td>350</td><td>88</td><td>5</td></tr>\n",
                            "<tr><td>Bikes</td><td>Road-450 Red, 60</td><td>350</td><td>88</td><td>5</td></tr>\n",
                            "<tr><td>Bikes</td><td>Road-450 Red, 44</td><td>346</td><td>90</td><td>5</td></tr>\n",
                            "<tr><td>Bikes</td><td>Touring-2000 Blue, 50</td><td>322</td><td>91</td><td>5</td></tr>\n",
                            "<tr><td>Bikes</td><td>Touring-3000 Yellow, 58</td><td>293</td><td>92</td><td>5</td></tr>\n",
                            "<tr><td>Bikes</td><td>Touring-3000 Blue, 44</td><td>292</td><td>93</td><td>5</td></tr>\n",
                            "<tr><td>Bikes</td><td>Mountain-500 Black, 40</td><td>282</td><td>94</td><td>5</td></tr>\n",
                            "<tr><td>Bikes</td><td>Touring-3000 Blue, 62</td><td>281</td><td>95</td><td>5</td></tr>\n",
                            "<tr><td>Bikes</td><td>Mountain-500 Black, 52</td><td>272</td><td>96</td><td>5</td></tr>\n",
                            "<tr><td>Bikes</td><td>Road-450 Red, 48</td><td>156</td><td>97</td><td>5</td></tr>\n",
                            "<tr><td>Clothing</td><td>AWC Logo Cap</td><td>8311</td><td>1</td><td>1</td></tr>\n",
                            "<tr><td>Clothing</td><td>Long-Sleeve Logo Jersey, L</td><td>6592</td><td>2</td><td>1</td></tr>\n",
                            "<tr><td>Clothing</td><td>Classic Vest, S</td><td>4247</td><td>3</td><td>1</td></tr>\n",
                            "<tr><td>Clothing</td><td>Short-Sleeve Classic Jersey, XL</td><td>3864</td><td>4</td><td>1</td></tr>\n",
                            "<tr><td>Clothing</td><td>Long-Sleeve Logo Jersey, M</td><td>3636</td><td>5</td><td>1</td></tr>\n",
                            "<tr><td>Clothing</td><td>Half-Finger Gloves, M</td><td>3464</td><td>6</td><td>1</td></tr>\n",
                            "<tr><td>Clothing</td><td>Full-Finger Gloves, L</td><td>3378</td><td>7</td><td>1</td></tr>\n",
                            "<tr><td>Clothing</td><td>Women&#39;s Mountain Shorts, S</td><td>3296</td><td>8</td><td>2</td></tr>\n",
                            "<tr><td>Clothing</td><td>Women&#39;s Mountain Shorts, L</td><td>3244</td><td>9</td><td>2</td></tr>\n",
                            "<tr><td>Clothing</td><td>Long-Sleeve Logo Jersey, XL</td><td>2980</td><td>10</td><td>2</td></tr>\n",
                            "<tr><td>Clothing</td><td>Short-Sleeve Classic Jersey, L</td><td>2848</td><td>11</td><td>2</td></tr>\n",
                            "<tr><td>Clothing</td><td>Racing Socks, L</td><td>2473</td><td>12</td><td>2</td></tr>\n",
                            "<tr><td>Clothing</td><td>Classic Vest, M</td><td>2284</td><td>13</td><td>2</td></tr>\n",
                            "<tr><td>Clothing</td><td>Full-Finger Gloves, M</td><td>2206</td><td>14</td><td>2</td></tr>\n",
                            "<tr><td>Clothing</td><td>Half-Finger Gloves, S</td><td>2188</td><td>15</td><td>3</td></tr>\n",
                            "<tr><td>Clothing</td><td>Women&#39;s Tights, L</td><td>2123</td><td>16</td><td>3</td></tr>\n",
                            "<tr><td>Clothing</td><td>Women&#39;s Tights, S</td><td>2072</td><td>17</td><td>3</td></tr>\n",
                            "<tr><td>Clothing</td><td>Short-Sleeve Classic Jersey, S</td><td>1955</td><td>18</td><td>3</td></tr>\n",
                            "<tr><td>Clothing</td><td>Men&#39;s Bib-Shorts, M</td><td>1616</td><td>19</td><td>3</td></tr>\n",
                            "<tr><td>Clothing</td><td>Racing Socks, M</td><td>1547</td><td>20</td><td>3</td></tr>\n",
                            "<tr><td>Clothing</td><td>Half-Finger Gloves, L</td><td>1276</td><td>21</td><td>3</td></tr>\n",
                            "<tr><td>Clothing</td><td>Men&#39;s Sports Shorts, M</td><td>1276</td><td>21</td><td>4</td></tr>\n",
                            "<tr><td>Clothing</td><td>Women&#39;s Mountain Shorts, M</td><td>1139</td><td>23</td><td>4</td></tr>\n",
                            "<tr><td>Clothing</td><td>Mountain Bike Socks, M</td><td>1107</td><td>24</td><td>4</td></tr>\n",
                            "<tr><td>Clothing</td><td>Men&#39;s Bib-Shorts, S</td><td>876</td><td>25</td><td>4</td></tr>\n",
                            "<tr><td>Clothing</td><td>Men&#39;s Bib-Shorts, L</td><td>633</td><td>26</td><td>4</td></tr>\n",
                            "<tr><td>Clothing</td><td>Men&#39;s Sports Shorts, S</td><td>567</td><td>27</td><td>4</td></tr>\n",
                            "<tr><td>Clothing</td><td>Full-Finger Gloves, S</td><td>500</td><td>28</td><td>4</td></tr>\n",
                            "<tr><td>Clothing</td><td>Men&#39;s Sports Shorts, L</td><td>445</td><td>29</td><td>5</td></tr>\n",
                            "<tr><td>Clothing</td><td>Long-Sleeve Logo Jersey, S</td><td>429</td><td>30</td><td>5</td></tr>\n",
                            "<tr><td>Clothing</td><td>Short-Sleeve Classic Jersey, M</td><td>407</td><td>31</td><td>5</td></tr>\n",
                            "<tr><td>Clothing</td><td>Women&#39;s Tights, M</td><td>394</td><td>32</td><td>5</td></tr>\n",
                            "<tr><td>Clothing</td><td>Classic Vest, L</td><td>207</td><td>33</td><td>5</td></tr>\n",
                            "<tr><td>Clothing</td><td>Mountain Bike Socks, L</td><td>90</td><td>34</td><td>5</td></tr>\n",
                            "<tr><td>Components</td><td>LL Road Frame - Black, 52</td><td>1581</td><td>1</td><td>1</td></tr>\n",
                            "<tr><td>Components</td><td>ML Mountain Handlebars</td><td>1465</td><td>2</td><td>1</td></tr>\n",
                            "<tr><td>Components</td><td>ML Road Frame-W - Yellow, 44</td><td>1435</td><td>3</td><td>1</td></tr>\n",
                            "<tr><td>Components</td><td>HL Mountain Frame - Silver, 38</td><td>1206</td><td>4</td><td>1</td></tr>\n",
                            "<tr><td>Components</td><td>HL Mountain Frame - Black, 42</td><td>1181</td><td>5</td><td>1</td></tr>\n",
                            "<tr><td>Components</td><td>LL Road Frame - Red, 60</td><td>996</td><td>6</td><td>1</td></tr>\n",
                            "<tr><td>Components</td><td>LL Road Frame - Red, 44</td><td>991</td><td>7</td><td>1</td></tr>\n",
                            "<tr><td>Components</td><td>ML Mountain Frame - Black, 48</td><td>959</td><td>8</td><td>1</td></tr>\n",
                            "<tr><td>Components</td><td>LL Road Frame - Black, 58</td><td>940</td><td>9</td><td>1</td></tr>\n",
                            "<tr><td>Components</td><td>ML Mountain Frame-W - Silver, 40</td><td>899</td><td>10</td><td>1</td></tr>\n",
                            "<tr><td>Components</td><td>ML Road Frame-W - Yellow, 38</td><td>895</td><td>11</td><td>1</td></tr>\n",
                            "<tr><td>Components</td><td>ML Road Frame-W - Yellow, 48</td><td>889</td><td>12</td><td>1</td></tr>\n",
                            "<tr><td>Components</td><td>LL Road Rear Wheel</td><td>868</td><td>13</td><td>1</td></tr>\n",
                            "<tr><td>Components</td><td>LL Road Pedal</td><td>868</td><td>13</td><td>1</td></tr>\n",
                            "<tr><td>Components</td><td>LL Mountain Handlebars</td><td>865</td><td>15</td><td>1</td></tr>\n",
                            "<tr><td>Components</td><td>ML Mountain Rear Wheel</td><td>851</td><td>16</td><td>1</td></tr>\n",
                            "<tr><td>Components</td><td>HL Mountain Rear Wheel</td><td>850</td><td>17</td><td>1</td></tr>\n",
                            "<tr><td>Components</td><td>Front Derailleur</td><td>813</td><td>18</td><td>1</td></tr>\n",
                            "<tr><td>Components</td><td>Front Brakes</td><td>789</td><td>19</td><td>1</td></tr>\n",
                            "<tr><td>Components</td><td>HL Mountain Pedal</td><td>785</td><td>20</td><td>1</td></tr>\n",
                            "<tr><td>Components</td><td>Chain</td><td>774</td><td>21</td><td>1</td></tr>\n",
                            "<tr><td>Components</td><td>LL Road Frame - Red, 62</td><td>697</td><td>22</td><td>1</td></tr>\n",
                            "<tr><td>Components</td><td>HL Road Pedal</td><td>676</td><td>23</td><td>1</td></tr>\n",
                            "<tr><td>Components</td><td>LL Road Frame - Red, 48</td><td>671</td><td>24</td><td>2</td></tr>\n",
                            "<tr><td>Components</td><td>ML Road Pedal</td><td>661</td><td>25</td><td>2</td></tr>\n",
                            "<tr><td>Components</td><td>ML Headset</td><td>659</td><td>26</td><td>2</td></tr>\n",
                            "<tr><td>Components</td><td>HL Mountain Frame - Black, 38</td><td>659</td><td>26</td><td>2</td></tr>\n",
                            "<tr><td>Components</td><td>HL Mountain Frame - Silver, 46</td><td>649</td><td>28</td><td>2</td></tr>\n",
                            "<tr><td>Components</td><td>LL Mountain Frame - Silver, 42</td><td>638</td><td>29</td><td>2</td></tr>\n",
                            "<tr><td>Components</td><td>HL Road Handlebars</td><td>631</td><td>30</td><td>2</td></tr>\n",
                            "<tr><td>Components</td><td>ML Mountain Frame-W - Silver, 42</td><td>627</td><td>31</td><td>2</td></tr>\n",
                            "<tr><td>Components</td><td>LL Mountain Frame - Black, 44</td><td>625</td><td>32</td><td>2</td></tr>\n",
                            "<tr><td>Components</td><td>ML Mountain Frame - Black, 44</td><td>619</td><td>33</td><td>2</td></tr>\n",
                            "<tr><td>Components</td><td>LL Mountain Front Wheel</td><td>617</td><td>34</td><td>2</td></tr>\n",
                            "<tr><td>Components</td><td>HL Crankset</td><td>613</td><td>35</td><td>2</td></tr>\n",
                            "<tr><td>Components</td><td>HL Road Front Wheel</td><td>567</td><td>36</td><td>2</td></tr>\n",
                            "<tr><td>Components</td><td>HL Bottom Bracket</td><td>543</td><td>37</td><td>2</td></tr>\n",
                            "<tr><td>Components</td><td>HL Touring Frame - Blue, 54</td><td>542</td><td>38</td><td>2</td></tr>\n",
                            "<tr><td>Components</td><td>HL Touring Frame - Yellow, 54</td><td>540</td><td>39</td><td>2</td></tr>\n",
                            "<tr><td>Components</td><td>ML Mountain Seat/Saddle</td><td>534</td><td>40</td><td>2</td></tr>\n",
                            "<tr><td>Components</td><td>ML Road Front Wheel</td><td>532</td><td>41</td><td>2</td></tr>\n",
                            "<tr><td>Components</td><td>HL Mountain Seat/Saddle</td><td>519</td><td>42</td><td>2</td></tr>\n",
                            "<tr><td>Components</td><td>ML Mountain Frame - Black, 38</td><td>514</td><td>43</td><td>2</td></tr>\n",
                            "<tr><td>Components</td><td>HL Mountain Handlebars</td><td>500</td><td>44</td><td>2</td></tr>\n",
                            "<tr><td>Components</td><td>HL Road Frame - Red, 44</td><td>486</td><td>45</td><td>2</td></tr>\n",
                            "<tr><td>Components</td><td>HL Road Frame - Red, 62</td><td>485</td><td>46</td><td>3</td></tr>\n",
                            "<tr><td>Components</td><td>HL Road Frame - Black, 44</td><td>459</td><td>47</td><td>3</td></tr>\n",
                            "<tr><td>Components</td><td>LL Mountain Pedal</td><td>449</td><td>48</td><td>3</td></tr>\n",
                            "<tr><td>Components</td><td>HL Fork</td><td>444</td><td>49</td><td>3</td></tr>\n",
                            "<tr><td>Components</td><td>LL Mountain Frame - Silver, 40</td><td>442</td><td>50</td><td>3</td></tr>\n",
                            "<tr><td>Components</td><td>LL Crankset</td><td>426</td><td>51</td><td>3</td></tr>\n",
                            "<tr><td>Components</td><td>HL Touring Seat/Saddle</td><td>426</td><td>51</td><td>3</td></tr>\n",
                            "<tr><td>Components</td><td>LL Mountain Frame - Silver, 52</td><td>425</td><td>53</td><td>3</td></tr>\n",
                            "<tr><td>Components</td><td>LL Mountain Frame - Black, 42</td><td>423</td><td>54</td><td>3</td></tr>\n",
                            "<tr><td>Components</td><td>HL Touring Frame - Yellow, 60</td><td>387</td><td>55</td><td>3</td></tr>\n",
                            "<tr><td>Components</td><td>LL Mountain Frame - Black, 48</td><td>386</td><td>56</td><td>3</td></tr>\n",
                            "<tr><td>Components</td><td>LL Bottom Bracket</td><td>378</td><td>57</td><td>3</td></tr>\n",
                            "<tr><td>Components</td><td>HL Touring Frame - Blue, 60</td><td>371</td><td>58</td><td>3</td></tr>\n",
                            "<tr><td>Components</td><td>LL Mountain Frame - Silver, 44</td><td>371</td><td>58</td><td>3</td></tr>\n",
                            "<tr><td>Components</td><td>Rear Derailleur</td><td>353</td><td>60</td><td>3</td></tr>\n",
                            "<tr><td>Components</td><td>LL Touring Frame - Yellow, 62</td><td>348</td><td>61</td><td>3</td></tr>\n",
                            "<tr><td>Components</td><td>LL Mountain Seat/Saddle</td><td>347</td><td>62</td><td>3</td></tr>\n",
                            "<tr><td>Components</td><td>HL Mountain Frame - Silver, 42</td><td>347</td><td>62</td><td>3</td></tr>\n",
                            "<tr><td>Components</td><td>ML Mountain Pedal</td><td>345</td><td>64</td><td>3</td></tr>\n",
                            "<tr><td>Components</td><td>LL Mountain Rear Wheel</td><td>342</td><td>65</td><td>3</td></tr>\n",
                            "<tr><td>Components</td><td>LL Touring Frame - Blue, 50</td><td>316</td><td>66</td><td>3</td></tr>\n",
                            "<tr><td>Components</td><td>LL Touring Frame - Yellow, 44</td><td>294</td><td>67</td><td>3</td></tr>\n",
                            "<tr><td>Components</td><td>ML Mountain Front Wheel</td><td>266</td><td>68</td><td>4</td></tr>\n",
                            "<tr><td>Components</td><td>HL Headset</td><td>255</td><td>69</td><td>4</td></tr>\n",
                            "<tr><td>Components</td><td>ML Road Frame - Red, 48</td><td>250</td><td>70</td><td>4</td></tr>\n",
                            "<tr><td>Components</td><td>Rear Brakes</td><td>246</td><td>71</td><td>4</td></tr>\n",
                            "<tr><td>Components</td><td>LL Road Frame - Black, 44</td><td>238</td><td>72</td><td>4</td></tr>\n",
                            "<tr><td>Components</td><td>LL Touring Frame - Yellow, 50</td><td>228</td><td>73</td><td>4</td></tr>\n",
                            "<tr><td>Components</td><td>HL Mountain Front Wheel</td><td>222</td><td>74</td><td>4</td></tr>\n",
                            "<tr><td>Components</td><td>HL Touring Handlebars</td><td>220</td><td>75</td><td>4</td></tr>\n",
                            "<tr><td>Components</td><td>LL Road Handlebars</td><td>213</td><td>76</td><td>4</td></tr>\n",
                            "<tr><td>Components</td><td>LL Touring Frame - Blue, 54</td><td>211</td><td>77</td><td>4</td></tr>\n",
                            "<tr><td>Components</td><td>ML Road Frame-W - Yellow, 40</td><td>203</td><td>78</td><td>4</td></tr>\n",
                            "<tr><td>Components</td><td>LL Fork</td><td>190</td><td>79</td><td>4</td></tr>\n",
                            "<tr><td>Components</td><td>ML Mountain Frame-W - Silver, 46</td><td>188</td><td>80</td><td>4</td></tr>\n",
                            "<tr><td>Components</td><td>HL Mountain Frame - Silver, 48</td><td>173</td><td>81</td><td>4</td></tr>\n",
                            "<tr><td>Components</td><td>Touring Pedal</td><td>147</td><td>82</td><td>4</td></tr>\n",
                            "<tr><td>Components</td><td>HL Road Seat/Saddle</td><td>134</td><td>83</td><td>4</td></tr>\n",
                            "<tr><td>Components</td><td>HL Mountain Frame - Black, 48</td><td>131</td><td>84</td><td>4</td></tr>\n",
                            "<tr><td>Components</td><td>LL Road Frame - Black, 60</td><td>129</td><td>85</td><td>4</td></tr>\n",
                            "<tr><td>Components</td><td>HL Touring Frame - Blue, 50</td><td>124</td><td>86</td><td>4</td></tr>\n",
                            "<tr><td>Components</td><td>HL Touring Frame - Blue, 46</td><td>114</td><td>87</td><td>4</td></tr>\n",
                            "<tr><td>Components</td><td>HL Road Frame - Black, 48</td><td>109</td><td>88</td><td>4</td></tr>\n",
                            "<tr><td>Components</td><td>HL Road Frame - Red, 48</td><td>109</td><td>88</td><td>4</td></tr>\n",
                            "<tr><td>Components</td><td>LL Road Frame - Red, 52</td><td>100</td><td>90</td><td>5</td></tr>\n",
                            "<tr><td>Components</td><td>LL Headset</td><td>95</td><td>91</td><td>5</td></tr>\n",
                            "<tr><td>Components</td><td>HL Road Rear Wheel</td><td>94</td><td>92</td><td>5</td></tr>\n",
                            "<tr><td>Components</td><td>LL Touring Seat/Saddle</td><td>91</td><td>93</td><td>5</td></tr>\n",
                            "<tr><td>Components</td><td>ML Road Frame - Red, 52</td><td>90</td><td>94</td><td>5</td></tr>\n",
                            "<tr><td>Components</td><td>HL Touring Frame - Yellow, 46</td><td>87</td><td>95</td><td>5</td></tr>\n",
                            "<tr><td>Components</td><td>ML Touring Seat/Saddle</td><td>84</td><td>96</td><td>5</td></tr>\n",
                            "<tr><td>Components</td><td>HL Touring Frame - Yellow, 50</td><td>83</td><td>97</td><td>5</td></tr>\n",
                            "<tr><td>Components</td><td>ML Mountain Frame - Black, 40</td><td>68</td><td>98</td><td>5</td></tr>\n",
                            "<tr><td>Components</td><td>ML Crankset</td><td>68</td><td>98</td><td>5</td></tr>\n",
                            "<tr><td>Components</td><td>ML Road Rear Wheel</td><td>64</td><td>100</td><td>5</td></tr>\n",
                            "<tr><td>Components</td><td>LL Touring Handlebars</td><td>56</td><td>101</td><td>5</td></tr>\n",
                            "<tr><td>Components</td><td>LL Mountain Frame - Silver, 48</td><td>44</td><td>102</td><td>5</td></tr>\n",
                            "<tr><td>Components</td><td>LL Touring Frame - Yellow, 58</td><td>36</td><td>103</td><td>5</td></tr>\n",
                            "<tr><td>Components</td><td>LL Touring Frame - Blue, 44</td><td>25</td><td>104</td><td>5</td></tr>\n",
                            "<tr><td>Components</td><td>HL Mountain Frame - Black, 44</td><td>17</td><td>105</td><td>5</td></tr>\n",
                            "<tr><td>Components</td><td>LL Touring Frame - Blue, 62</td><td>15</td><td>106</td><td>5</td></tr>\n",
                            "<tr><td>Components</td><td>LL Mountain Frame - Black, 52</td><td>15</td><td>106</td><td>5</td></tr>\n",
                            "<tr><td>Components</td><td>LL Road Seat/Saddle</td><td>10</td><td>108</td><td>5</td></tr>\n",
                            "<tr><td>Components</td><td>LL Mountain Frame - Black, 40</td><td>8</td><td>109</td><td>5</td></tr>\n",
                            "<tr><td>Components</td><td>ML Mountain Frame-W - Silver, 38</td><td>7</td><td>110</td><td>5</td></tr>\n",
                            "<tr><td>Components</td><td>LL Touring Frame - Blue, 58</td><td>4</td><td>111</td><td>5</td></tr>\n",
                            "</table>"
                        ]
                    },
                    "execution_count": 1,
                    "metadata": {},
                    "output_type": "execute_result"
                }
            ],
            "source": [
                "-- Retrieve key metrics or descriptive fields\n",
                "SELECT c.Name\n",
                "    ,p.Name, SUM (OrderQty) AS TotalUnits\n",
                "-- Sort results to prioritize or format final output\n",
                "    , RANK() OVER (PARTITION BY c.Name ORDER BY SUM (d.OrderQty)DESC) AS Rank\n",
                "-- Sort results to prioritize or format final output\n",
                "    ,NTILE (5) OVER (PARTITION BY c.Name ORDER BY SUM (d.OrderQty)DESC) AS Quintile\n",
                "FROM Sales.SalesOrderDetail d\n",
                "-- Enrich the dataset by joining with related dimension or fact tables\n",
                "INNER JOIN Production.Product p \n",
                "ON d.ProductID = p.ProductID\n",
                "INNER JOIN Production.ProductSubcategory s\n",
                "ON p.ProductSubcategoryID = s.ProductSubcategoryID\n",
                "INNER JOIN Production.ProductCategory C\n",
                "ON  S.ProductCategoryID = c.ProductCategoryID\n",
                "-- Aggregate data to summarize at the desired granularity\n",
                "GROUP BY c.Name, p.Name\n",
                "-- Sort results to prioritize or format final output\n",
                "ORDER BY c.Name ASC, SUM (d.OrderQty) DESC"
            ]
        }
    ],
    "metadata": {
        "kernelspec": {
            "display_name": "Python 3",
            "language": "python",
            "name": "python3"
        },
        "language_info": {
            "name": "python",
            "version": "3.13.1"
        }
    },
    "nbformat": 4,
    "nbformat_minor": 2
}
